{
 "cells": [
  {
   "cell_type": "code",
   "execution_count": 10,
   "id": "70d23d4c",
   "metadata": {},
   "outputs": [],
   "source": [
    "import pandas as pd\n",
    "from delai.ml_logic.preprocessing import preprocess_X, preprocess_y\n",
    "from sklearn.neighbors import KNeighborsClassifier\n",
    "from sklearn.model_selection import cross_validate"
   ]
  },
  {
   "cell_type": "code",
   "execution_count": 11,
   "id": "30e198ea",
   "metadata": {},
   "outputs": [],
   "source": [
    "import numpy as np"
   ]
  },
  {
   "cell_type": "code",
   "execution_count": 12,
   "id": "ef5a7629",
   "metadata": {},
   "outputs": [],
   "source": [
    "df = pd.read_csv('../raw_data/train_100k.csv')"
   ]
  },
  {
   "cell_type": "code",
   "execution_count": 13,
   "id": "4379b193",
   "metadata": {},
   "outputs": [],
   "source": [
    "df_test = pd.read_csv('../raw_data/initial_X_train.csv')"
   ]
  },
  {
   "cell_type": "code",
   "execution_count": 29,
   "id": "0ba7c919",
   "metadata": {},
   "outputs": [],
   "source": [
    "df_25k = df.head(25000)"
   ]
  },
  {
   "cell_type": "code",
   "execution_count": 30,
   "id": "b61e30fe",
   "metadata": {},
   "outputs": [],
   "source": [
    "X = df_25k.drop(columns = ['Unnamed: 0.1', 'ArrDelayMinutes', 'Cancelled', 'Diverted'])"
   ]
  },
  {
   "cell_type": "code",
   "execution_count": 31,
   "id": "a8ca18f3",
   "metadata": {},
   "outputs": [],
   "source": [
    "y = df_25k[['Unnamed: 0','ArrDelayMinutes', 'Cancelled', 'Diverted']]"
   ]
  },
  {
   "cell_type": "code",
   "execution_count": 32,
   "id": "75c20604",
   "metadata": {},
   "outputs": [
    {
     "name": "stdout",
     "output_type": "stream",
     "text": [
      "✅ preprocess_X() done\n"
     ]
    }
   ],
   "source": [
    "X_preprocessed = preprocess_X(X)"
   ]
  },
  {
   "cell_type": "code",
   "execution_count": 8,
   "id": "686d7a48",
   "metadata": {},
   "outputs": [
    {
     "name": "stdout",
     "output_type": "stream",
     "text": [
      "✅ BINARY preprocess_y() done\n"
     ]
    },
    {
     "name": "stderr",
     "output_type": "stream",
     "text": [
      "/home/mmcgushin/code/sameriliya/delai/delai/ml_logic/preprocessing.py:95: SettingWithCopyWarning: \n",
      "A value is trying to be set on a copy of a slice from a DataFrame.\n",
      "Try using .loc[row_indexer,col_indexer] = value instead\n",
      "\n",
      "See the caveats in the documentation: https://pandas.pydata.org/pandas-docs/stable/user_guide/indexing.html#returning-a-view-versus-a-copy\n",
      "  y[\"DelayGroup\"] = None\n"
     ]
    }
   ],
   "source": [
    "y_preprocessed = preprocess_y(y)"
   ]
  },
  {
   "cell_type": "code",
   "execution_count": 14,
   "id": "35c4b4dd",
   "metadata": {},
   "outputs": [],
   "source": [
    "neigh = KNeighborsClassifier(n_neighbors=22)"
   ]
  },
  {
   "cell_type": "code",
   "execution_count": 15,
   "id": "e7cbd92a",
   "metadata": {},
   "outputs": [],
   "source": [
    "scores = cross_validate(neigh, X_preprocessed, y_preprocessed, cv=5, scoring=('accuracy', 'recall_weighted', 'f1_weighted'),\n",
    "                     return_train_score=True)"
   ]
  },
  {
   "cell_type": "code",
   "execution_count": 16,
   "id": "555ac31a",
   "metadata": {},
   "outputs": [
    {
     "data": {
      "text/plain": [
       "{'fit_time': array([0.24984598, 0.07513332, 0.05089164, 0.05053234, 0.09657311]),\n",
       " 'score_time': array([1.91105771, 1.52175093, 1.4043777 , 1.73473144, 1.94866991]),\n",
       " 'test_accuracy': array([0.8652, 0.8634, 0.865 , 0.8648, 0.865 ]),\n",
       " 'train_accuracy': array([0.86535, 0.86625, 0.8659 , 0.86585, 0.86565]),\n",
       " 'test_recall_weighted': array([0.8652, 0.8634, 0.865 , 0.8648, 0.865 ]),\n",
       " 'train_recall_weighted': array([0.86535, 0.86625, 0.8659 , 0.86585, 0.86565]),\n",
       " 'test_f1_weighted': array([0.80362388, 0.80271669, 0.8027571 , 0.80342241, 0.80390268]),\n",
       " 'train_f1_weighted': array([0.80436388, 0.80595223, 0.80595712, 0.80546547, 0.8048939 ])}"
      ]
     },
     "execution_count": 16,
     "metadata": {},
     "output_type": "execute_result"
    }
   ],
   "source": [
    "scores"
   ]
  },
  {
   "cell_type": "code",
   "execution_count": 17,
   "id": "71741fec",
   "metadata": {},
   "outputs": [],
   "source": [
    "neigh1 = KNeighborsClassifier(n_neighbors=22)"
   ]
  },
  {
   "cell_type": "code",
   "execution_count": 18,
   "id": "9785df33",
   "metadata": {},
   "outputs": [],
   "source": [
    "scores = cross_validate(neigh1, X_preprocessed, y_preprocessed, cv=5, scoring=('accuracy', 'recall_weighted', 'f1_weighted', 'precision_weighted'),\n",
    "                     return_train_score=True)"
   ]
  },
  {
   "cell_type": "code",
   "execution_count": 19,
   "id": "544be174",
   "metadata": {},
   "outputs": [
    {
     "data": {
      "text/plain": [
       "{'fit_time': array([0.22539735, 0.05540681, 0.0527544 , 0.05203319, 0.05141878]),\n",
       " 'score_time': array([1.57185268, 1.59137845, 1.52070284, 1.54834032, 1.51535654]),\n",
       " 'test_accuracy': array([0.8652, 0.8634, 0.865 , 0.8648, 0.865 ]),\n",
       " 'train_accuracy': array([0.86535, 0.86625, 0.8659 , 0.86585, 0.86565]),\n",
       " 'test_recall_weighted': array([0.8652, 0.8634, 0.865 , 0.8648, 0.865 ]),\n",
       " 'train_recall_weighted': array([0.86535, 0.86625, 0.8659 , 0.86585, 0.86565]),\n",
       " 'test_f1_weighted': array([0.80362388, 0.80271669, 0.8027571 , 0.80342241, 0.80390268]),\n",
       " 'train_f1_weighted': array([0.80436388, 0.80595223, 0.80595712, 0.80546547, 0.8048939 ]),\n",
       " 'test_precision_weighted': array([0.80298707, 0.7681658 , 0.74887055, 0.78755764, 0.79972556]),\n",
       " 'train_precision_weighted': array([0.81451542, 0.84809334, 0.83121561, 0.83256085, 0.8270451 ])}"
      ]
     },
     "execution_count": 19,
     "metadata": {},
     "output_type": "execute_result"
    }
   ],
   "source": [
    "scores"
   ]
  },
  {
   "cell_type": "code",
   "execution_count": 33,
   "id": "998e6616",
   "metadata": {},
   "outputs": [
    {
     "name": "stdout",
     "output_type": "stream",
     "text": [
      "✅ STANDARD preprocess_y() done\n"
     ]
    },
    {
     "name": "stderr",
     "output_type": "stream",
     "text": [
      "/home/mmcgushin/code/sameriliya/delai/delai/ml_logic/preprocessing.py:95: SettingWithCopyWarning: \n",
      "A value is trying to be set on a copy of a slice from a DataFrame.\n",
      "Try using .loc[row_indexer,col_indexer] = value instead\n",
      "\n",
      "See the caveats in the documentation: https://pandas.pydata.org/pandas-docs/stable/user_guide/indexing.html#returning-a-view-versus-a-copy\n",
      "  y[\"DelayGroup\"] = None\n"
     ]
    }
   ],
   "source": [
    "y_nonbinary = preprocess_y(y, is_binary=False)"
   ]
  },
  {
   "cell_type": "code",
   "execution_count": 60,
   "id": "06f23a3d",
   "metadata": {},
   "outputs": [],
   "source": [
    "neigh2 = KNeighborsClassifier(n_neighbors=22)"
   ]
  },
  {
   "cell_type": "code",
   "execution_count": 61,
   "id": "91a28e8f",
   "metadata": {},
   "outputs": [
    {
     "name": "stderr",
     "output_type": "stream",
     "text": [
      "/home/mmcgushin/.pyenv/versions/3.8.12/envs/delai/lib/python3.8/site-packages/sklearn/metrics/_classification.py:1334: UndefinedMetricWarning: Precision is ill-defined and being set to 0.0 in labels with no predicted samples. Use `zero_division` parameter to control this behavior.\n",
      "  _warn_prf(average, modifier, msg_start, len(result))\n"
     ]
    }
   ],
   "source": [
    "scores = cross_validate(neigh2, X_preprocessed, y_nonbinary, cv=5, scoring=('accuracy', 'recall_weighted', 'f1_weighted', 'precision_weighted'),\n",
    "                     return_train_score=True)"
   ]
  },
  {
   "cell_type": "code",
   "execution_count": 62,
   "id": "f94ea245",
   "metadata": {},
   "outputs": [
    {
     "data": {
      "text/plain": [
       "{'fit_time': array([0.36060905, 0.04751372, 0.05169606, 0.04987979, 0.04799175]),\n",
       " 'score_time': array([1.32018423, 1.22875381, 1.26119661, 1.33516788, 1.4232378 ]),\n",
       " 'test_accuracy': array([0.6492, 0.65  , 0.6442, 0.648 , 0.6472]),\n",
       " 'train_accuracy': array([0.6567 , 0.65665, 0.6568 , 0.65575, 0.6555 ]),\n",
       " 'test_recall_weighted': array([0.6492, 0.65  , 0.6442, 0.648 , 0.6472]),\n",
       " 'train_recall_weighted': array([0.6567 , 0.65665, 0.6568 , 0.65575, 0.6555 ]),\n",
       " 'test_f1_weighted': array([0.52911014, 0.52916598, 0.52772472, 0.52526379, 0.52828075]),\n",
       " 'train_f1_weighted': array([0.54031778, 0.54099748, 0.54208199, 0.53872632, 0.5389672 ]),\n",
       " 'test_precision_weighted': array([0.5584303 , 0.53173274, 0.50933278, 0.54874641, 0.53042763]),\n",
       " 'train_precision_weighted': array([0.61425413, 0.60867998, 0.61402008, 0.59276653, 0.60375162])}"
      ]
     },
     "execution_count": 62,
     "metadata": {},
     "output_type": "execute_result"
    }
   ],
   "source": [
    "scores"
   ]
  },
  {
   "cell_type": "code",
   "execution_count": 32,
   "id": "78484001",
   "metadata": {},
   "outputs": [
    {
     "ename": "ModuleNotFoundError",
     "evalue": "No module named 'tensorflow'",
     "output_type": "error",
     "traceback": [
      "\u001b[0;31m---------------------------------------------------------------------------\u001b[0m",
      "\u001b[0;31mModuleNotFoundError\u001b[0m                       Traceback (most recent call last)",
      "Cell \u001b[0;32mIn [32], line 1\u001b[0m\n\u001b[0;32m----> 1\u001b[0m \u001b[38;5;28;01mfrom\u001b[39;00m \u001b[38;5;21;01mtensorflow\u001b[39;00m\u001b[38;5;21;01m.\u001b[39;00m\u001b[38;5;21;01mkeras\u001b[39;00m \u001b[38;5;28;01mimport\u001b[39;00m \u001b[38;5;241m*\u001b[39m\n",
      "\u001b[0;31mModuleNotFoundError\u001b[0m: No module named 'tensorflow'"
     ]
    }
   ],
   "source": [
    "from tensorflow.keras import *"
   ]
  },
  {
   "cell_type": "code",
   "execution_count": 25,
   "id": "1d1d4174",
   "metadata": {},
   "outputs": [
    {
     "data": {
      "text/plain": [
       "0.8650118300485681"
      ]
     },
     "execution_count": 25,
     "metadata": {},
     "output_type": "execute_result"
    }
   ],
   "source": [
    "(13339768 + 4336965) / (13339768 + 4336965 + 2166865 + 591652)"
   ]
  },
  {
   "cell_type": "code",
   "execution_count": 27,
   "id": "bf63c002",
   "metadata": {},
   "outputs": [
    {
     "data": {
      "text/plain": [
       "array([1, 1, 1, ..., 1, 1, 1])"
      ]
     },
     "execution_count": 27,
     "metadata": {},
     "output_type": "execute_result"
    }
   ],
   "source": [
    "y_preprocessed"
   ]
  },
  {
   "cell_type": "code",
   "execution_count": 28,
   "id": "4286a3e8",
   "metadata": {},
   "outputs": [
    {
     "data": {
      "text/plain": [
       "array([2, 3, 2, ..., 2, 2, 2])"
      ]
     },
     "execution_count": 28,
     "metadata": {},
     "output_type": "execute_result"
    }
   ],
   "source": [
    "y_nonbinary"
   ]
  },
  {
   "cell_type": "code",
   "execution_count": 29,
   "id": "ebe929ec",
   "metadata": {},
   "outputs": [
    {
     "ename": "NameError",
     "evalue": "name 'to_categorical' is not defined",
     "output_type": "error",
     "traceback": [
      "\u001b[0;31m---------------------------------------------------------------------------\u001b[0m",
      "\u001b[0;31mNameError\u001b[0m                                 Traceback (most recent call last)",
      "Cell \u001b[0;32mIn [29], line 1\u001b[0m\n\u001b[0;32m----> 1\u001b[0m y_cat \u001b[38;5;241m=\u001b[39m \u001b[43mto_categorical\u001b[49m(y_nonbinary)\n",
      "\u001b[0;31mNameError\u001b[0m: name 'to_categorical' is not defined"
     ]
    }
   ],
   "source": [
    "y_cat = to_categorical(y_nonbinary)"
   ]
  },
  {
   "cell_type": "code",
   "execution_count": 34,
   "id": "dc98179a",
   "metadata": {},
   "outputs": [],
   "source": [
    "from imblearn.under_sampling import RandomUnderSampler\n",
    "under_sampler = RandomUnderSampler(random_state=42)"
   ]
  },
  {
   "cell_type": "code",
   "execution_count": 35,
   "id": "57c6bbd4",
   "metadata": {},
   "outputs": [],
   "source": [
    "X_res, y_res = under_sampler.fit_resample(X_preprocessed, y_nonbinary)"
   ]
  },
  {
   "cell_type": "code",
   "execution_count": 13,
   "id": "31d0c6b0",
   "metadata": {},
   "outputs": [
    {
     "data": {
      "text/plain": [
       "26116"
      ]
     },
     "execution_count": 13,
     "metadata": {},
     "output_type": "execute_result"
    }
   ],
   "source": [
    "len(X_res)"
   ]
  },
  {
   "cell_type": "code",
   "execution_count": 36,
   "id": "b5c8e68f",
   "metadata": {},
   "outputs": [
    {
     "data": {
      "text/plain": [
       "3012"
      ]
     },
     "execution_count": 36,
     "metadata": {},
     "output_type": "execute_result"
    }
   ],
   "source": [
    "len(y_res)"
   ]
  },
  {
   "cell_type": "code",
   "execution_count": 37,
   "id": "9283f92d",
   "metadata": {},
   "outputs": [],
   "source": [
    "unique, counts = np.unique(y_res, return_counts=True)"
   ]
  },
  {
   "cell_type": "code",
   "execution_count": 38,
   "id": "84a05cf5",
   "metadata": {},
   "outputs": [
    {
     "data": {
      "text/plain": [
       "(array([0, 1, 2, 3]), array([753, 753, 753, 753]))"
      ]
     },
     "execution_count": 38,
     "metadata": {},
     "output_type": "execute_result"
    }
   ],
   "source": [
    "unique, counts"
   ]
  },
  {
   "cell_type": "code",
   "execution_count": 39,
   "id": "41a746f3",
   "metadata": {},
   "outputs": [],
   "source": [
    "neigh3 = KNeighborsClassifier(n_neighbors=22)"
   ]
  },
  {
   "cell_type": "code",
   "execution_count": 40,
   "id": "a2ab3247",
   "metadata": {},
   "outputs": [],
   "source": [
    "scores = cross_validate(neigh3, X_res, y_res, cv=5, scoring=('accuracy', 'recall_weighted', 'f1_weighted', 'precision_weighted'),\n",
    "                     return_train_score=True, n_jobs=-1)"
   ]
  },
  {
   "cell_type": "code",
   "execution_count": 41,
   "id": "d3c02682",
   "metadata": {},
   "outputs": [
    {
     "data": {
      "text/plain": [
       "{'fit_time': array([0.55664754, 0.46056271, 0.46696305, 0.05904675, 0.05322123]),\n",
       " 'score_time': array([0.19202614, 0.17434883, 0.1296258 , 0.11792445, 0.11355424]),\n",
       " 'test_accuracy': array([0.36650083, 0.35820896, 0.33887043, 0.34385382, 0.35049834]),\n",
       " 'train_accuracy': array([0.44209215, 0.43794105, 0.44107884, 0.44273859, 0.4340249 ]),\n",
       " 'test_recall_weighted': array([0.36650083, 0.35820896, 0.33887043, 0.34385382, 0.35049834]),\n",
       " 'train_recall_weighted': array([0.44209215, 0.43794105, 0.44107884, 0.44273859, 0.4340249 ]),\n",
       " 'test_f1_weighted': array([0.35811162, 0.35273768, 0.33679524, 0.3322422 , 0.34046437]),\n",
       " 'train_f1_weighted': array([0.43803692, 0.43339522, 0.43671847, 0.43781684, 0.42943582]),\n",
       " 'test_precision_weighted': array([0.36107915, 0.35581867, 0.34134641, 0.3394918 , 0.34374437]),\n",
       " 'train_precision_weighted': array([0.44418833, 0.44120269, 0.44193741, 0.44595976, 0.43648653])}"
      ]
     },
     "execution_count": 41,
     "metadata": {},
     "output_type": "execute_result"
    }
   ],
   "source": [
    "scores"
   ]
  },
  {
   "cell_type": "code",
   "execution_count": 42,
   "id": "389f9b69",
   "metadata": {},
   "outputs": [],
   "source": [
    "neigh4 = KNeighborsClassifier(n_neighbors=22)"
   ]
  },
  {
   "cell_type": "code",
   "execution_count": 43,
   "id": "12c3b692",
   "metadata": {},
   "outputs": [],
   "source": [
    "scores = cross_validate(neigh3, X_res, y_res, cv=5, scoring=('accuracy', 'recall_weighted', 'f1_weighted', 'precision_weighted'),\n",
    "                     return_train_score=True, n_jobs=-1)"
   ]
  },
  {
   "cell_type": "code",
   "execution_count": 44,
   "id": "6b5fbf55",
   "metadata": {},
   "outputs": [
    {
     "data": {
      "text/plain": [
       "{'fit_time': array([0.06546593, 0.07304597, 0.56509042, 0.41289234, 0.04316568]),\n",
       " 'score_time': array([0.10359955, 0.11460996, 0.19915581, 0.12057948, 0.12849021]),\n",
       " 'test_accuracy': array([0.36650083, 0.35820896, 0.33887043, 0.34385382, 0.35049834]),\n",
       " 'train_accuracy': array([0.44209215, 0.43794105, 0.44107884, 0.44273859, 0.4340249 ]),\n",
       " 'test_recall_weighted': array([0.36650083, 0.35820896, 0.33887043, 0.34385382, 0.35049834]),\n",
       " 'train_recall_weighted': array([0.44209215, 0.43794105, 0.44107884, 0.44273859, 0.4340249 ]),\n",
       " 'test_f1_weighted': array([0.35811162, 0.35273768, 0.33679524, 0.3322422 , 0.34046437]),\n",
       " 'train_f1_weighted': array([0.43803692, 0.43339522, 0.43671847, 0.43781684, 0.42943582]),\n",
       " 'test_precision_weighted': array([0.36107915, 0.35581867, 0.34134641, 0.3394918 , 0.34374437]),\n",
       " 'train_precision_weighted': array([0.44418833, 0.44120269, 0.44193741, 0.44595976, 0.43648653])}"
      ]
     },
     "execution_count": 44,
     "metadata": {},
     "output_type": "execute_result"
    }
   ],
   "source": [
    "scores"
   ]
  },
  {
   "cell_type": "code",
   "execution_count": null,
   "id": "9d2060e9",
   "metadata": {},
   "outputs": [],
   "source": []
  }
 ],
 "metadata": {
  "kernelspec": {
   "display_name": "Python 3 (ipykernel)",
   "language": "python",
   "name": "python3"
  },
  "language_info": {
   "codemirror_mode": {
    "name": "ipython",
    "version": 3
   },
   "file_extension": ".py",
   "mimetype": "text/x-python",
   "name": "python",
   "nbconvert_exporter": "python",
   "pygments_lexer": "ipython3",
   "version": "3.8.12"
  },
  "toc": {
   "base_numbering": 1,
   "nav_menu": {},
   "number_sections": true,
   "sideBar": true,
   "skip_h1_title": false,
   "title_cell": "Table of Contents",
   "title_sidebar": "Contents",
   "toc_cell": false,
   "toc_position": {},
   "toc_section_display": true,
   "toc_window_display": false
  }
 },
 "nbformat": 4,
 "nbformat_minor": 5
}
