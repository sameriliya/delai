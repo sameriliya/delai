{
 "cells": [
  {
   "cell_type": "code",
   "execution_count": 5,
   "id": "3a09c240-f96d-457f-8502-62357cc398b2",
   "metadata": {},
   "outputs": [],
   "source": [
    "import requests\n",
    "import pandas as pd\n",
    "import numpy as np\n",
    "import datetime\n",
    "import matplotlib.pyplot as plt\n",
    "import os\n",
    "from dateutil import tz"
   ]
  },
  {
   "cell_type": "markdown",
   "id": "c927fbe8-fa22-4744-a7f8-40576a228ddf",
   "metadata": {},
   "source": [
    "# Rough working in notebook"
   ]
  },
  {
   "cell_type": "code",
   "execution_count": 46,
   "id": "cf40f459-0931-4ec5-b93a-3c819eabeec5",
   "metadata": {},
   "outputs": [],
   "source": [
    "AEROAPI_BASE_URL = \"https://aeroapi.flightaware.com/aeroapi/flights/\"\n",
    "AEROAPI_KEY = os.environ.get(\"FA_API_KEY\")\n",
    "AEROAPI_KEY = '' # NB you will need to get this because os.environ.get isn't working in notebook!!!! \n",
    "AEROAPI = requests.Session()\n",
    "AEROAPI.headers.update({\"x-apikey\": AEROAPI_KEY})"
   ]
  },
  {
   "cell_type": "code",
   "execution_count": 64,
   "id": "30449609-9a09-4428-8d00-f3813df7ffad",
   "metadata": {},
   "outputs": [],
   "source": [
    "flight_number = 'UAL4'\n",
    "params = {'start':datetime.date(2022,11,20)}"
   ]
  },
  {
   "cell_type": "code",
   "execution_count": 53,
   "id": "2704669f-fa53-42f8-b4be-79531ca3a623",
   "metadata": {},
   "outputs": [],
   "source": [
    "full_url = AEROAPI_BASE_URL + flight_number\n",
    "response = AEROAPI.get(full_url, params = params).json()\n"
   ]
  },
  {
   "cell_type": "code",
   "execution_count": 54,
   "id": "c057915c-746d-4a20-b51f-ed7b1df7ce19",
   "metadata": {
    "collapsed": true,
    "jupyter": {
     "outputs_hidden": true
    },
    "tags": []
   },
   "outputs": [
    {
     "name": "stdout",
     "output_type": "stream",
     "text": [
      "{'flights': [{'ident': 'UAL4', 'ident_icao': 'UAL4', 'ident_iata': 'UA4', 'fa_flight_id': 'UAL4-1668838520-fa-0007', 'operator': 'UAL', 'operator_icao': 'UAL', 'operator_iata': 'UA', 'flight_number': '4', 'registration': 'N17963', 'atc_ident': None, 'inbound_fa_flight_id': 'UAL923-1668778602-fa-0000', 'codeshares': ['ACA5931', 'AUA7813', 'BEL9080', 'DLH7621', 'SWR3038'], 'codeshares_iata': ['AC5931', 'OS7813', 'SN9080', 'LH7621', 'LX3038'], 'blocked': False, 'diverted': False, 'cancelled': False, 'position_only': False, 'origin': {'code': 'EGLL', 'code_icao': 'EGLL', 'code_iata': 'LHR', 'code_lid': None, 'timezone': 'Europe/London', 'name': 'London Heathrow', 'city': 'London', 'airport_info_url': '/airports/EGLL'}, 'destination': {'code': 'KIAH', 'code_icao': 'KIAH', 'code_iata': 'IAH', 'code_lid': 'IAH', 'timezone': 'America/Chicago', 'name': \"Houston Bush Int'ctl\", 'city': 'Houston', 'airport_info_url': '/airports/KIAH'}, 'departure_delay': 0, 'arrival_delay': 0, 'filed_ete': 36600, 'foresight_predictions_available': False, 'scheduled_out': '2022-11-21T13:45:00Z', 'estimated_out': '2022-11-21T13:45:00Z', 'actual_out': None, 'scheduled_off': '2022-11-21T13:55:00Z', 'estimated_off': '2022-11-21T13:55:00Z', 'actual_off': None, 'scheduled_on': '2022-11-22T00:05:00Z', 'estimated_on': '2022-11-22T00:05:00Z', 'actual_on': None, 'scheduled_in': '2022-11-22T00:15:00Z', 'estimated_in': '2022-11-22T00:15:00Z', 'actual_in': None, 'progress_percent': 0, 'status': 'Scheduled', 'aircraft_type': 'B789', 'route_distance': 4829, 'filed_airspeed': 413, 'filed_altitude': None, 'route': None, 'baggage_claim': None, 'seats_cabin_business': None, 'seats_cabin_coach': None, 'seats_cabin_first': None, 'gate_origin': None, 'gate_destination': None, 'terminal_origin': '2', 'terminal_destination': 'E', 'type': 'Airline'}, {'ident': 'UAL4', 'ident_icao': 'UAL4', 'ident_iata': 'UA4', 'fa_flight_id': 'UAL4-1668752113-fa-0023', 'operator': 'UAL', 'operator_icao': 'UAL', 'operator_iata': 'UA', 'flight_number': '4', 'registration': 'N25982', 'atc_ident': None, 'inbound_fa_flight_id': 'UAL923-1668652739-fa-0001', 'codeshares': ['ACA5931', 'AUA7813', 'BEL9080', 'DLH7621', 'SWR3038'], 'codeshares_iata': ['AC5931', 'OS7813', 'SN9080', 'LH7621', 'LX3038'], 'blocked': False, 'diverted': False, 'cancelled': False, 'position_only': False, 'origin': {'code': 'EGLL', 'code_icao': 'EGLL', 'code_iata': 'LHR', 'code_lid': None, 'timezone': 'Europe/London', 'name': 'London Heathrow', 'city': 'London', 'airport_info_url': '/airports/EGLL'}, 'destination': {'code': 'KIAH', 'code_icao': 'KIAH', 'code_iata': 'IAH', 'code_lid': 'IAH', 'timezone': 'America/Chicago', 'name': \"Houston Bush Int'ctl\", 'city': 'Houston', 'airport_info_url': '/airports/KIAH'}, 'departure_delay': 0, 'arrival_delay': 0, 'filed_ete': 35940, 'foresight_predictions_available': False, 'scheduled_out': '2022-11-20T13:45:00Z', 'estimated_out': '2022-11-20T13:45:00Z', 'actual_out': None, 'scheduled_off': '2022-11-20T13:55:00Z', 'estimated_off': '2022-11-20T14:06:00Z', 'actual_off': None, 'scheduled_on': '2022-11-20T23:54:00Z', 'estimated_on': '2022-11-21T00:05:00Z', 'actual_on': None, 'scheduled_in': '2022-11-21T00:15:00Z', 'estimated_in': '2022-11-21T00:15:00Z', 'actual_in': None, 'progress_percent': 0, 'status': 'Scheduled', 'aircraft_type': 'B789', 'route_distance': 4829, 'filed_airspeed': 460, 'filed_altitude': 360, 'route': '4900N/08000W SSM STL J101 LIT J180 SWB GESNR1', 'baggage_claim': None, 'seats_cabin_business': None, 'seats_cabin_coach': None, 'seats_cabin_first': None, 'gate_origin': None, 'gate_destination': None, 'terminal_origin': '2', 'terminal_destination': 'E', 'type': 'Airline'}], 'links': None, 'num_pages': 1}\n"
     ]
    }
   ],
   "source": [
    "print(response)"
   ]
  },
  {
   "cell_type": "markdown",
   "id": "2fe046e6-76a8-4439-9d42-a1dee001d101",
   "metadata": {},
   "source": [
    "# Turning it into functions"
   ]
  },
  {
   "cell_type": "code",
   "execution_count": 314,
   "id": "4efe4bd7-a08e-4563-8954-fe86780aeeba",
   "metadata": {},
   "outputs": [],
   "source": [
    "def get_raw_flight_details(flight_number, date):\n",
    "    '''Enter a flight number e.g UAL4, and a date of travel and return a json blob\n",
    "    containing flight details. \n",
    "    The data will be raw and in need of post processing using other functions. \n",
    "    '''\n",
    "    AEROAPI_BASE_URL = \"https://aeroapi.flightaware.com/aeroapi/flights/\"\n",
    "    AEROAPI_KEY = os.environ.get(\"FA_API_KEY\")\n",
    "    AEROAPI_KEY = 'Iduztx3iwprJuplEkG3h9rA9oNzpGeWt' # NB you will need to get this because os.environ.get isn't working in notebook!!!! \n",
    "    AEROAPI = requests.Session()\n",
    "    AEROAPI.headers.update({\"x-apikey\": AEROAPI_KEY})\n",
    "    \n",
    "    start = date\n",
    "    end = date + datetime.timedelta(days = 1)\n",
    "    \n",
    "    full_url = AEROAPI_BASE_URL + flight_number\n",
    "    params = {'start':start,\n",
    "              'end':end\n",
    "             }\n",
    "    \n",
    "    response = AEROAPI.get(full_url, params = params)    \n",
    "    \n",
    "    response_json = response.json()\n",
    "    \n",
    "    if response.ok:   \n",
    "        if len(response_json['flights']) == 1:\n",
    "            return response_json['flights']\n",
    "        if len(response_json['flights']) == 0:\n",
    "            print('Cannot find a flight with that Flight Number / Date combo. Please try again...')\n",
    "        if len(response_json['flights']) > 1:\n",
    "            print('More than 1 flight returned... Please filter your search further...')\n",
    "    else:\n",
    "        print('Bad API response')\n",
    "        return 'Bad API response'\n"
   ]
  },
  {
   "cell_type": "code",
   "execution_count": 315,
   "id": "6589e9c8-a48b-44f5-8bab-5d3c98dd0043",
   "metadata": {},
   "outputs": [
    {
     "data": {
      "text/plain": [
       "[{'ident': 'UAL4',\n",
       "  'ident_icao': 'UAL4',\n",
       "  'ident_iata': 'UA4',\n",
       "  'fa_flight_id': 'UAL4-1668924917-fa-0012',\n",
       "  'operator': 'UAL',\n",
       "  'operator_icao': 'UAL',\n",
       "  'operator_iata': 'UA',\n",
       "  'flight_number': '4',\n",
       "  'registration': 'N45956',\n",
       "  'atc_ident': None,\n",
       "  'inbound_fa_flight_id': 'UAL923-1668869345-fa-0000',\n",
       "  'codeshares': ['ACA5931', 'AUA7813', 'BEL9080', 'DLH7621', 'SWR3038'],\n",
       "  'codeshares_iata': ['AC5931', 'OS7813', 'SN9080', 'LH7621', 'LX3038'],\n",
       "  'blocked': False,\n",
       "  'diverted': False,\n",
       "  'cancelled': False,\n",
       "  'position_only': False,\n",
       "  'origin': {'code': 'EGLL',\n",
       "   'code_icao': 'EGLL',\n",
       "   'code_iata': 'LHR',\n",
       "   'code_lid': None,\n",
       "   'timezone': 'Europe/London',\n",
       "   'name': 'London Heathrow',\n",
       "   'city': 'London',\n",
       "   'airport_info_url': '/airports/EGLL'},\n",
       "  'destination': {'code': 'KIAH',\n",
       "   'code_icao': 'KIAH',\n",
       "   'code_iata': 'IAH',\n",
       "   'code_lid': 'IAH',\n",
       "   'timezone': 'America/Chicago',\n",
       "   'name': \"Houston Bush Int'ctl\",\n",
       "   'city': 'Houston',\n",
       "   'airport_info_url': '/airports/KIAH'},\n",
       "  'departure_delay': 120,\n",
       "  'arrival_delay': -1140,\n",
       "  'filed_ete': 37020,\n",
       "  'foresight_predictions_available': True,\n",
       "  'scheduled_out': '2022-11-22T13:45:00Z',\n",
       "  'estimated_out': '2022-11-22T13:45:00Z',\n",
       "  'actual_out': '2022-11-22T13:47:00Z',\n",
       "  'scheduled_off': '2022-11-22T13:55:00Z',\n",
       "  'estimated_off': '2022-11-22T14:05:58Z',\n",
       "  'actual_off': '2022-11-22T14:05:58Z',\n",
       "  'scheduled_on': '2022-11-23T00:12:00Z',\n",
       "  'estimated_on': '2022-11-22T23:40:56Z',\n",
       "  'actual_on': None,\n",
       "  'scheduled_in': '2022-11-23T00:15:00Z',\n",
       "  'estimated_in': '2022-11-22T23:56:00Z',\n",
       "  'actual_in': None,\n",
       "  'progress_percent': 39,\n",
       "  'status': 'On The Way! / On Time',\n",
       "  'aircraft_type': 'B789',\n",
       "  'route_distance': 4829,\n",
       "  'filed_airspeed': 460,\n",
       "  'filed_altitude': 360,\n",
       "  'route': '4900N/08000W SSM STL J101 LIT J180 SWB GESNR1',\n",
       "  'baggage_claim': 'F6',\n",
       "  'seats_cabin_business': 21,\n",
       "  'seats_cabin_coach': None,\n",
       "  'seats_cabin_first': 48,\n",
       "  'gate_origin': 'B46',\n",
       "  'gate_destination': 'E5',\n",
       "  'terminal_origin': '2',\n",
       "  'terminal_destination': 'E',\n",
       "  'type': 'Airline'}]"
      ]
     },
     "execution_count": 315,
     "metadata": {},
     "output_type": "execute_result"
    }
   ],
   "source": [
    "get_raw_flight_details(flight_number, datetime.date(2022,11,22))"
   ]
  },
  {
   "cell_type": "code",
   "execution_count": null,
   "id": "4a3495a7-c3d2-4ad7-8b70-dfd75651d4d8",
   "metadata": {},
   "outputs": [
    {
     "name": "stdout",
     "output_type": "stream",
     "text": [
      "Bad API response\n"
     ]
    }
   ],
   "source": [
    "get_raw_flight_details('NOFLIGHT', datetime.date(2022,11,20))"
   ]
  },
  {
   "cell_type": "code",
   "execution_count": 305,
   "id": "6588fd5d-1e19-4bd4-a419-97b7d9795abf",
   "metadata": {},
   "outputs": [],
   "source": [
    "def localize_time(time, timezone):\n",
    "    to_zone = tz.gettz(timezone)\n",
    "    return time.astimezone(to_zone)"
   ]
  },
  {
   "cell_type": "code",
   "execution_count": 306,
   "id": "7cb0940d-5e8c-4263-938f-ff7ea4756338",
   "metadata": {},
   "outputs": [],
   "source": [
    "def add_local_times(raw_details):\n",
    "    '''\n",
    "    Take raw flight details json blob and create columns with the the scheduled departure\n",
    "    and arrival times, localized to the dep/arr locations to match the training data\n",
    "    '''\n",
    "    columns = ['scheduled_out',\n",
    "           'scheduled_in',\n",
    "           'operator_iata',\n",
    "           'flight_number',\n",
    "           'origin',\n",
    "           'destination',\n",
    "           'filed_ete',\n",
    "           'route_distance']\n",
    "    \n",
    "    raw_details_df = pd.DataFrame(raw_details)[columns]\n",
    "    raw_details_df['scheduled_out'] = pd.to_datetime(raw_details_df['scheduled_out'])\n",
    "    raw_details_df['scheduled_in'] = pd.to_datetime(raw_details_df['scheduled_in'])\n",
    "\n",
    "    raw_details_df['origin_code'] = raw_details_df.origin[0]['code_iata']\n",
    "    raw_details_df['origin_tz'] = raw_details_df.origin[0]['timezone']\n",
    "\n",
    "    raw_details_df['dest_code'] = raw_details_df.destination[0]['code_iata']\n",
    "    raw_details_df['dest_tz'] = raw_details_df.destination[0]['timezone']\n",
    "    \n",
    "    raw_details_df['scheduled_out_local'] = raw_details_df.apply(lambda raw_details: localize_time(raw_details.scheduled_out, \n",
    "                                                       raw_details.origin_tz), \n",
    "                                                       axis = 1)\n",
    "    raw_details_df['scheduled_in_local'] = raw_details_df.apply(lambda raw_details: localize_time(raw_details.scheduled_in, \n",
    "                                                      raw_details.dest_tz), \n",
    "                                                      axis = 1)\n",
    "    return raw_details_df\n"
   ]
  },
  {
   "cell_type": "code",
   "execution_count": 307,
   "id": "c96eda61-8ece-4703-bb40-8d21e73c8cea",
   "metadata": {},
   "outputs": [],
   "source": [
    "def extract_info_from_datetime_col(df):\n",
    "    '''\n",
    "    Given a dataframe of raw flight details, now in local time,\n",
    "    extract year, month, day, weekday, and format local time of dep/arr.\n",
    "    \n",
    "    '''\n",
    "    df['Year'] = df['scheduled_out_local'].dt.year\n",
    "    df['Quarter'] = df['scheduled_out_local'].dt.quarter\n",
    "    df['Month'] = df['scheduled_out_local'].dt.month\n",
    "    df['DayofMonth'] = df['scheduled_out_local'].dt.day\n",
    "    df['DayOfWeek'] = df['scheduled_out_local'].dt.dayofweek + 1\n",
    "    df['CRSDepTime'] = df['scheduled_out_local'].dt.strftime('%H%M')\n",
    "    df['CRSArrTime'] = df['scheduled_in_local'].dt.strftime('%H%M')\n",
    "    df['FlightDate'] = df['scheduled_out_local'].dt.date\n",
    "    return df\n"
   ]
  },
  {
   "cell_type": "code",
   "execution_count": 308,
   "id": "9b2d64bf-f717-4817-8a8c-a7d1323b896f",
   "metadata": {},
   "outputs": [],
   "source": [
    "def clean_df(df):\n",
    "    '''\n",
    "    Get the output df we need to feed into model for preprocessing.\n",
    "    Rename the columns where needed. \n",
    "    '''\n",
    "    columns = ['FlightDate',\n",
    "               'Year',\n",
    "               'Quarter',\n",
    "               'Month',\n",
    "               'DayofMonth',\n",
    "               'DayOfWeek',\n",
    "               'operator_iata', #turn into 'Marketing_Airline_Network'\n",
    "               'origin_code', # change to Origin\n",
    "               'dest_code', # change to Dest\n",
    "               'CRSDepTime',\n",
    "               'CRSArrTime',\n",
    "               'route_distance' # change to 'Distance'\n",
    "              ]\n",
    "    df_out = df[columns]\n",
    "    df_out = df_out.rename(columns = {'operator_iata':'Marketing_Airline_Network',\n",
    "                             'origin_code':'Origin',\n",
    "                             'dest_code':'Dest',\n",
    "                             'route_distance':'Distance'})\n",
    "    \n",
    "    return df_out\n",
    "               "
   ]
  },
  {
   "cell_type": "code",
   "execution_count": 309,
   "id": "d6e5ba5b-34c1-4c81-941f-21eb97898b12",
   "metadata": {},
   "outputs": [],
   "source": [
    "def get_processed_flight_details(flight_number, date):\n",
    "    raw_details = get_raw_flight_details(flight_number, date)\n",
    "    if raw_details == 'Bad API response':\n",
    "        print('There has been an issue connecting to the Flightaware API')\n",
    "        return\n",
    "    raw_details_localised = add_local_times(raw_details)\n",
    "    expanded_date_details = extract_info_from_datetime_col(raw_details_localised)\n",
    "    return clean_df(expanded_date_details)"
   ]
  },
  {
   "cell_type": "code",
   "execution_count": 310,
   "id": "fc360a32-e9a9-41b8-a8de-565357b2b8fa",
   "metadata": {},
   "outputs": [
    {
     "data": {
      "text/html": [
       "<div>\n",
       "<style scoped>\n",
       "    .dataframe tbody tr th:only-of-type {\n",
       "        vertical-align: middle;\n",
       "    }\n",
       "\n",
       "    .dataframe tbody tr th {\n",
       "        vertical-align: top;\n",
       "    }\n",
       "\n",
       "    .dataframe thead th {\n",
       "        text-align: right;\n",
       "    }\n",
       "</style>\n",
       "<table border=\"1\" class=\"dataframe\">\n",
       "  <thead>\n",
       "    <tr style=\"text-align: right;\">\n",
       "      <th></th>\n",
       "      <th>FlightDate</th>\n",
       "      <th>Year</th>\n",
       "      <th>Quarter</th>\n",
       "      <th>Month</th>\n",
       "      <th>DayofMonth</th>\n",
       "      <th>DayOfWeek</th>\n",
       "      <th>Marketing_Airline_Network</th>\n",
       "      <th>Origin</th>\n",
       "      <th>Dest</th>\n",
       "      <th>CRSDepTime</th>\n",
       "      <th>CRSArrTime</th>\n",
       "      <th>Distance</th>\n",
       "    </tr>\n",
       "  </thead>\n",
       "  <tbody>\n",
       "    <tr>\n",
       "      <th>0</th>\n",
       "      <td>2022-11-22</td>\n",
       "      <td>2022</td>\n",
       "      <td>4</td>\n",
       "      <td>11</td>\n",
       "      <td>22</td>\n",
       "      <td>2</td>\n",
       "      <td>UA</td>\n",
       "      <td>LHR</td>\n",
       "      <td>IAH</td>\n",
       "      <td>1345</td>\n",
       "      <td>1815</td>\n",
       "      <td>4829</td>\n",
       "    </tr>\n",
       "  </tbody>\n",
       "</table>\n",
       "</div>"
      ],
      "text/plain": [
       "   FlightDate  Year  Quarter  Month  DayofMonth  DayOfWeek  \\\n",
       "0  2022-11-22  2022        4     11          22          2   \n",
       "\n",
       "  Marketing_Airline_Network Origin Dest CRSDepTime CRSArrTime  Distance  \n",
       "0                        UA    LHR  IAH       1345       1815      4829  "
      ]
     },
     "execution_count": 310,
     "metadata": {},
     "output_type": "execute_result"
    }
   ],
   "source": [
    "get_processed_flight_details(flight_number, datetime.date(2022,11,22))"
   ]
  },
  {
   "cell_type": "code",
   "execution_count": 2,
   "id": "e7fb7a3f-8ffa-4b88-9cdc-7141cb265345",
   "metadata": {},
   "outputs": [
    {
     "data": {
      "text/html": [
       "<div>\n",
       "<style scoped>\n",
       "    .dataframe tbody tr th:only-of-type {\n",
       "        vertical-align: middle;\n",
       "    }\n",
       "\n",
       "    .dataframe tbody tr th {\n",
       "        vertical-align: top;\n",
       "    }\n",
       "\n",
       "    .dataframe thead th {\n",
       "        text-align: right;\n",
       "    }\n",
       "</style>\n",
       "<table border=\"1\" class=\"dataframe\">\n",
       "  <thead>\n",
       "    <tr style=\"text-align: right;\">\n",
       "      <th></th>\n",
       "      <th>FlightDate</th>\n",
       "      <th>Year</th>\n",
       "      <th>Quarter</th>\n",
       "      <th>Month</th>\n",
       "      <th>DayofMonth</th>\n",
       "      <th>DayOfWeek</th>\n",
       "      <th>Marketing_Airline_Network</th>\n",
       "      <th>Origin</th>\n",
       "      <th>Dest</th>\n",
       "      <th>CRSDepTime</th>\n",
       "      <th>CRSArrTime</th>\n",
       "      <th>Distance</th>\n",
       "    </tr>\n",
       "  </thead>\n",
       "  <tbody>\n",
       "    <tr>\n",
       "      <th>0</th>\n",
       "      <td>2022-12-06</td>\n",
       "      <td>2022</td>\n",
       "      <td>4</td>\n",
       "      <td>12</td>\n",
       "      <td>6</td>\n",
       "      <td>2</td>\n",
       "      <td>YX</td>\n",
       "      <td>EWR</td>\n",
       "      <td>PHL</td>\n",
       "      <td>817</td>\n",
       "      <td>917</td>\n",
       "      <td>80</td>\n",
       "    </tr>\n",
       "  </tbody>\n",
       "</table>\n",
       "</div>"
      ],
      "text/plain": [
       "   FlightDate  Year  Quarter  Month  ...  Dest  CRSDepTime CRSArrTime Distance\n",
       "0  2022-12-06  2022        4     12  ...   PHL         817        917       80\n",
       "\n",
       "[1 rows x 12 columns]"
      ]
     },
     "execution_count": 2,
     "metadata": {},
     "output_type": "execute_result"
    }
   ],
   "source": [
    "from delai.api.flightaware import get_processed_flight_details\n",
    "\n",
    "df = get_processed_flight_details()\n",
    "df"
   ]
  },
  {
   "cell_type": "code",
   "execution_count": 3,
   "id": "453125c4",
   "metadata": {},
   "outputs": [
    {
     "data": {
      "text/plain": [
       "(1, 12)"
      ]
     },
     "execution_count": 3,
     "metadata": {},
     "output_type": "execute_result"
    }
   ],
   "source": [
    "df.shape"
   ]
  },
  {
   "cell_type": "code",
   "execution_count": null,
   "id": "91c167d8",
   "metadata": {},
   "outputs": [],
   "source": []
  }
 ],
 "metadata": {
  "kernelspec": {
   "display_name": "Python 3.8.12 64-bit ('shims')",
   "language": "python",
   "name": "python3"
  },
  "language_info": {
   "codemirror_mode": {
    "name": "ipython",
    "version": 3
   },
   "file_extension": ".py",
   "mimetype": "text/x-python",
   "name": "python",
   "nbconvert_exporter": "python",
   "pygments_lexer": "ipython3",
   "version": "3.8.12"
  },
  "vscode": {
   "interpreter": {
    "hash": "135199c82697646d31fc87055e8c8044df91c5e93a634aef523137dc7a98a22f"
   }
  }
 },
 "nbformat": 4,
 "nbformat_minor": 5
}
