{
 "cells": [
  {
   "cell_type": "code",
   "execution_count": 2,
   "id": "a6e89cd1",
   "metadata": {},
   "outputs": [],
   "source": [
    "import pandas as pd\n",
    "#from sklearn.neighbors import KNeighborsClassifier\n",
    "#from sklearn.model_selection import cross_validate"
   ]
  },
  {
   "cell_type": "code",
   "execution_count": 8,
   "id": "a33e7fb2",
   "metadata": {},
   "outputs": [],
   "source": [
    "df_X = pd.read_csv('../raw_data/initial_X_train.csv')"
   ]
  },
  {
   "cell_type": "code",
   "execution_count": 9,
   "id": "b7e0bfc0",
   "metadata": {},
   "outputs": [],
   "source": [
    "df_y = pd.read_csv('../raw_data/initial_y_train.csv')"
   ]
  },
  {
   "cell_type": "code",

   "id": "f2836be3",
   "metadata": {},
   "outputs": [],
   "source": [
    "from delai.ml_logic.preprocessing import preprocess_X, preprocess_y"
   ]
  },
  {
   "cell_type": "code",
   "execution_count": 6,
   "id": "6fc81098",
   "metadata": {},
   "outputs": [],
   "source": [
    "#from delai.data.local_disk import get_pandas_chunk"
   ]
  },
  {
   "cell_type": "code",

   "id": "8f3a8b83",
   "metadata": {},
   "outputs": [
    {
     "name": "stdout",
     "output_type": "stream",
     "text": [
      "✅ preprocess_X() done\n"
     ]
    }
   ],
   "source": [
    "X_preprocessed = preprocess_X(df_X)"
   ]
  },
  {
   "cell_type": "code",
   "outputs": [
    {
     "data": {
      "text/html": [
       "<div>\n",
       "<style scoped>\n",
       "    .dataframe tbody tr th:only-of-type {\n",
       "        vertical-align: middle;\n",
       "    }\n",
       "\n",
       "    .dataframe tbody tr th {\n",
       "        vertical-align: top;\n",
       "    }\n",
       "\n",
       "    .dataframe thead th {\n",
       "        text-align: right;\n",
       "    }\n",
       "</style>\n",
       "<table border=\"1\" class=\"dataframe\">\n",
       "  <thead>\n",
       "    <tr style=\"text-align: right;\">\n",
       "      <th></th>\n",
       "      <th>0</th>\n",
       "      <th>1</th>\n",
       "      <th>2</th>\n",
       "      <th>3</th>\n",
       "      <th>4</th>\n",
       "      <th>5</th>\n",
       "      <th>6</th>\n",
       "      <th>7</th>\n",
       "      <th>8</th>\n",
       "      <th>9</th>\n",
       "      <th>...</th>\n",
       "      <th>683</th>\n",
       "      <th>684</th>\n",
       "      <th>685</th>\n",
       "      <th>686</th>\n",
       "      <th>687</th>\n",
       "      <th>688</th>\n",
       "      <th>689</th>\n",
       "      <th>690</th>\n",
       "      <th>691</th>\n",
       "      <th>692</th>\n",
       "    </tr>\n",
       "  </thead>\n",
       "  <tbody>\n",
       "    <tr>\n",
       "      <th>0</th>\n",
       "      <td>0.206966</td>\n",
       "      <td>0.0</td>\n",
       "      <td>0.0</td>\n",
       "      <td>0.0</td>\n",
       "      <td>0.0</td>\n",
       "      <td>0.0</td>\n",
       "      <td>0.0</td>\n",
       "      <td>0.0</td>\n",
       "      <td>0.0</td>\n",
       "      <td>0.0</td>\n",
       "      <td>...</td>\n",
       "      <td>-0.790776</td>\n",
       "      <td>-0.612106</td>\n",
       "      <td>-0.500000</td>\n",
       "      <td>-8.660254e-01</td>\n",
       "      <td>-1.0</td>\n",
       "      <td>-1.836970e-16</td>\n",
       "    </tr>\n",
       "    <tr>\n",
       "      <th>1</th>\n",
       "      <td>0.089712</td>\n",
       "      <td>0.0</td>\n",
       "      <td>0.0</td>\n",
       "      <td>0.0</td>\n",
       "      <td>0.0</td>\n",
       "      <td>0.0</td>\n",
       "      <td>0.0</td>\n",
       "      <td>0.0</td>\n",
       "      <td>1.0</td>\n",
       "      <td>0.0</td>\n",
       "      <td>...</td>\n",
       "      <td>0.394356</td>\n",
       "      <td>0.918958</td>\n",
       "      <td>0.500000</td>\n",
       "      <td>8.660254e-01</td>\n",
       "      <td>1.0</td>\n",
       "      <td>6.123234e-17</td>\n",
       "    </tr>\n",
       "    <tr>\n",
       "      <th>2</th>\n",
       "      <td>0.136087</td>\n",
       "      <td>0.0</td>\n",
       "      <td>0.0</td>\n",
       "      <td>0.0</td>\n",
       "      <td>0.0</td>\n",
       "      <td>0.0</td>\n",
       "      <td>0.0</td>\n",
       "      <td>0.0</td>\n",
       "      <td>0.0</td>\n",
       "      <td>1.0</td>\n",
       "      <td>...</td>\n",
       "      <td>0.790776</td>\n",
       "      <td>-0.612106</td>\n",
       "      <td>0.866025</td>\n",
       "      <td>5.000000e-01</td>\n",
       "      <td>1.0</td>\n",
       "      <td>6.123234e-17</td>\n",
       "    </tr>\n",
       "    <tr>\n",
       "      <th>3</th>\n",
       "      <td>0.150263</td>\n",
       "      <td>0.0</td>\n",
       "      <td>0.0</td>\n",
       "      <td>0.0</td>\n",
       "      <td>0.0</td>\n",
       "      <td>0.0</td>\n",
       "      <td>0.0</td>\n",
       "      <td>0.0</td>\n",
       "      <td>0.0</td>\n",
       "      <td>1.0</td>\n",
       "      <td>...</td>\n",
       "      <td>0.897805</td>\n",
       "      <td>-0.440394</td>\n",
       "      <td>0.866025</td>\n",
       "      <td>5.000000e-01</td>\n",
       "      <td>1.0</td>\n",
       "      <td>6.123234e-17</td>\n",
       "    </tr>\n",
       "    <tr>\n",
       "      <th>4</th>\n",
       "      <td>0.071689</td>\n",
       "      <td>0.0</td>\n",
       "      <td>0.0</td>\n",
       "      <td>1.0</td>\n",
       "      <td>0.0</td>\n",
       "      <td>0.0</td>\n",
       "      <td>0.0</td>\n",
       "      <td>0.0</td>\n",
       "      <td>0.0</td>\n",
       "      <td>0.0</td>\n",
       "      <td>...</td>\n",
       "      <td>0.651372</td>\n",
       "      <td>-0.758758</td>\n",
       "      <td>1.000000</td>\n",
       "      <td>6.123234e-17</td>\n",
       "      <td>1.0</td>\n",
       "      <td>6.123234e-17</td>\n",
       "    </tr>\n",
       "  </tbody>\n",
       "</table>\n",
       "<p>5 rows × 693 columns</p>\n",
       "</div>"
      ],
      "text/plain": [
       "        0    1    2    3    4    5    6    7    8    9    ...       683  \\\n",
       "0  0.206966  0.0  0.0  0.0  0.0  0.0  0.0  0.0  0.0  0.0  ... -0.790776   \n",
       "1  0.089712  0.0  0.0  0.0  0.0  0.0  0.0  0.0  1.0  0.0  ...  0.394356   \n",
       "2  0.136087  0.0  0.0  0.0  0.0  0.0  0.0  0.0  0.0  1.0  ...  0.790776   \n",
       "3  0.150263  0.0  0.0  0.0  0.0  0.0  0.0  0.0  0.0  1.0  ...  0.897805   \n",
       "4  0.071689  0.0  0.0  1.0  0.0  0.0  0.0  0.0  0.0  0.0  ...  0.651372   \n",
       "\n",
       "\n",
       "[5 rows x 693 columns]"
      ]
     },
     "metadata": {},
     "output_type": "execute_result"
    }
   ],
   "source": [
    "X_preprocessed.head()"
   ]
  },
  {
   "cell_type": "code",
   ]
  },
  {
   "cell_type": "code",
   "execution_count": 16,
   "id": "41927b4e",
   "metadata": {},
   "outputs": [
    {
     "data": {
      "text/html": [
       "<div>\n",
       "<style scoped>\n",
       "    .dataframe tbody tr th:only-of-type {\n",
       "        vertical-align: middle;\n",
       "    }\n",
       "\n",
       "    .dataframe tbody tr th {\n",
       "        vertical-align: top;\n",
       "    }\n",
       "\n",
       "    .dataframe thead th {\n",
       "        text-align: right;\n",
       "    }\n",
       "</style>\n",
       "<table border=\"1\" class=\"dataframe\">\n",
       "  <thead>\n",
       "    <tr style=\"text-align: right;\">\n",
       "      <th></th>\n",
       "      <th>Unnamed: 0</th>\n",
       "      <th>FlightDate</th>\n",
       "      <th>Year</th>\n",
       "      <th>Quarter</th>\n",
       "      <th>Month</th>\n",
       "      <th>DayofMonth</th>\n",
       "      <th>DayOfWeek</th>\n",
       "      <th>Airline</th>\n",
       "      <th>Operating_Airline</th>\n",
       "      <th>Marketing_Airline_Network</th>\n",
       "      <th>...</th>\n",
       "      <th>Dest</th>\n",
       "      <th>CRSDepTime</th>\n",
       "      <th>OriginAirportID</th>\n",
       "      <th>OriginCityName</th>\n",
       "      <th>OriginStateName</th>\n",
       "      <th>DestAirportID</th>\n",
       "      <th>DestCityName</th>\n",
       "      <th>DestStateName</th>\n",
       "      <th>CRSArrTime</th>\n",
       "      <th>Distance</th>\n",
       "    </tr>\n",
       "  </thead>\n",
       "  <tbody>\n",
       "    <tr>\n",
       "      <th>0</th>\n",
       "      <td>4324343</td>\n",
       "      <td>2018-07-20</td>\n",
       "      <td>2018</td>\n",
       "      <td>3</td>\n",
       "      <td>7</td>\n",
       "      <td>20</td>\n",
       "      <td>5</td>\n",
       "      <td>Southwest Airlines Co.</td>\n",
       "      <td>WN</td>\n",
       "      <td>WN</td>\n",
       "      <td>...</td>\n",
       "      <td>DAL</td>\n",
       "      <td>1200</td>\n",
       "      <td>12889</td>\n",
       "      <td>Las Vegas, NV</td>\n",
       "      <td>Nevada</td>\n",
       "      <td>11259</td>\n",
       "      <td>Dallas, TX</td>\n",
       "      <td>Texas</td>\n",
       "      <td>1640</td>\n",
       "      <td>1067.0</td>\n",
       "    </tr>\n",
       "    <tr>\n",
       "      <th>1</th>\n",
       "      <td>28169346</td>\n",
       "      <td>2022-01-02</td>\n",
       "      <td>2022</td>\n",
       "      <td>1</td>\n",
       "      <td>1</td>\n",
       "      <td>2</td>\n",
       "      <td>7</td>\n",
       "      <td>Spirit Air Lines</td>\n",
       "      <td>NK</td>\n",
       "      <td>NK</td>\n",
       "      <td>...</td>\n",
       "      <td>MSY</td>\n",
       "      <td>2110</td>\n",
       "      <td>15304</td>\n",
       "      <td>Tampa, FL</td>\n",
       "      <td>Florida</td>\n",
       "      <td>13495</td>\n",
       "      <td>New Orleans, LA</td>\n",
       "      <td>Louisiana</td>\n",
       "      <td>2148</td>\n",
       "      <td>488.0</td>\n",
       "    </tr>\n",
       "    <tr>\n",
       "      <th>2</th>\n",
       "      <td>18078508</td>\n",
       "      <td>2020-02-11</td>\n",
       "      <td>2020</td>\n",
       "      <td>1</td>\n",
       "      <td>2</td>\n",
       "      <td>11</td>\n",
       "      <td>2</td>\n",
       "      <td>Air Wisconsin Airlines Corp</td>\n",
       "      <td>ZW</td>\n",
       "      <td>UA</td>\n",
       "      <td>...</td>\n",
       "      <td>ORF</td>\n",
       "      <td>930</td>\n",
       "      <td>13930</td>\n",
       "      <td>Chicago, IL</td>\n",
       "      <td>Illinois</td>\n",
       "      <td>13931</td>\n",
       "      <td>Norfolk, VA</td>\n",
       "      <td>Virginia</td>\n",
       "      <td>1245</td>\n",
       "      <td>717.0</td>\n",
       "    </tr>\n",
       "    <tr>\n",
       "      <th>3</th>\n",
       "      <td>23669089</td>\n",
       "      <td>2021-02-10</td>\n",
       "      <td>2021</td>\n",
       "      <td>1</td>\n",
       "      <td>2</td>\n",
       "      <td>10</td>\n",
       "      <td>3</td>\n",
       "      <td>United Air Lines Inc.</td>\n",
       "      <td>UA</td>\n",
       "      <td>UA</td>\n",
       "      <td>...</td>\n",
       "      <td>IAH</td>\n",
       "      <td>700</td>\n",
       "      <td>15304</td>\n",
       "      <td>Tampa, FL</td>\n",
       "      <td>Florida</td>\n",
       "      <td>12266</td>\n",
       "      <td>Houston, TX</td>\n",
       "      <td>Texas</td>\n",
       "      <td>828</td>\n",
       "      <td>787.0</td>\n",
       "    </tr>\n",
       "    <tr>\n",
       "      <th>4</th>\n",
       "      <td>14530840</td>\n",
       "      <td>2020-03-12</td>\n",
       "      <td>2020</td>\n",
       "      <td>1</td>\n",
       "      <td>3</td>\n",
       "      <td>12</td>\n",
       "      <td>4</td>\n",
       "      <td>JetBlue Airways</td>\n",
       "      <td>B6</td>\n",
       "      <td>B6</td>\n",
       "      <td>...</td>\n",
       "      <td>BOS</td>\n",
       "      <td>1324</td>\n",
       "      <td>11278</td>\n",
       "      <td>Washington, DC</td>\n",
       "      <td>Virginia</td>\n",
       "      <td>10721</td>\n",
       "      <td>Boston, MA</td>\n",
       "      <td>Massachusetts</td>\n",
       "      <td>1455</td>\n",
       "      <td>399.0</td>\n",
       "    </tr>\n",
       "  </tbody>\n",
       "</table>\n",
       "<p>5 rows × 22 columns</p>\n",
       "</div>"
      ],
      "text/plain": [
       "   Unnamed: 0  FlightDate  Year  Quarter  Month  DayofMonth  DayOfWeek  \\\n",
       "0     4324343  2018-07-20  2018        3      7          20          5   \n",
       "1    28169346  2022-01-02  2022        1      1           2          7   \n",
       "2    18078508  2020-02-11  2020        1      2          11          2   \n",
       "3    23669089  2021-02-10  2021        1      2          10          3   \n",
       "4    14530840  2020-03-12  2020        1      3          12          4   \n",
       "\n",
       "                       Airline Operating_Airline Marketing_Airline_Network  \\\n",
       "0       Southwest Airlines Co.                WN                        WN   \n",
       "1             Spirit Air Lines                NK                        NK   \n",
       "2  Air Wisconsin Airlines Corp                ZW                        UA   \n",
       "3        United Air Lines Inc.                UA                        UA   \n",
       "4              JetBlue Airways                B6                        B6   \n",
       "\n",
       "   ...  Dest CRSDepTime OriginAirportID  OriginCityName  OriginStateName  \\\n",
       "0  ...   DAL       1200           12889   Las Vegas, NV           Nevada   \n",
       "1  ...   MSY       2110           15304       Tampa, FL          Florida   \n",
       "2  ...   ORF        930           13930     Chicago, IL         Illinois   \n",
       "3  ...   IAH        700           15304       Tampa, FL          Florida   \n",
       "4  ...   BOS       1324           11278  Washington, DC         Virginia   \n",
       "\n",
       "  DestAirportID     DestCityName  DestStateName CRSArrTime Distance  \n",
       "0         11259       Dallas, TX          Texas       1640   1067.0  \n",
       "1         13495  New Orleans, LA      Louisiana       2148    488.0  \n",
       "2         13931      Norfolk, VA       Virginia       1245    717.0  \n",
       "3         12266      Houston, TX          Texas        828    787.0  \n",
       "4         10721       Boston, MA  Massachusetts       1455    399.0  \n",
       "\n",
       "[5 rows x 22 columns]"
      ]
     },
     "execution_count": 16,
     "metadata": {},
     "output_type": "execute_result"
    }
   ],
   "source": [
    "df_X.head()"
   ]
  },
  {
   "cell_type": "code",
   "execution_count": 26,
   "id": "4761b914",
   "metadata": {
    "scrolled": true
   },
   "outputs": [
    {
     "data": {
      "text/plain": [
       "object    700\n",
       "dtype: int64"
      ]
     },
     "execution_count": 26,
     "metadata": {},
     "output_type": "execute_result"
    }
   ],
   "source": [
    "X_preprocessed.dtypes.value_counts()"
   ]
  },
  {
   "cell_type": "code",
   "execution_count": 28,
   "id": "96ffb58d",
   "metadata": {
    "scrolled": true
   },
   "outputs": [
    {
     "data": {
      "text/plain": [
       "Int64Index([680], dtype='int64')"
      ]
     },
     "execution_count": 28,
     "metadata": {},
     "output_type": "execute_result"
    }
   ],
   "source": [
    "X_preprocessed.columns[X_preprocessed.isin(['2022-01-03']).any()]"
   ]
  },
  {
   "cell_type": "code",
   "execution_count": 7,
   "id": "5ad82b6b",
   "metadata": {},
   "outputs": [],
   "source": [
    "X_preprocessed = X_preprocessed.drop(columns = [680], axis = 1)"
   ]
  },
  {
   "cell_type": "code",
   "execution_count": 8,
   "id": "d6fc298e",
   "metadata": {},
   "outputs": [
    {
     "name": "stdout",
     "output_type": "stream",
     "text": [
      "✅ preprocess_y() done\n"
     ]
    }
   ],
   "source": [
    "y_preprocessed = preprocess_y(df_y)"
   ]
  },
  {
   "cell_type": "code",
   "execution_count": 9,
   "id": "a0b2cd16",
   "metadata": {},
   "outputs": [],
   "source": [
    "from sklearn.model_selection import train_test_split"
   ]
  },
  {
   "cell_type": "code",
   "execution_count": 61,
   "id": "c680522d",
   "metadata": {},
   "outputs": [],
   "source": [
    "X_train, X_test, y_train, y_test = train_test_split(X_preprocessed, y_preprocessed,test_size=0.2, random_state = 1)"
   ]
  },
  {
   "cell_type": "code",
   "execution_count": 62,
   "id": "0d72686f",
   "metadata": {},
   "outputs": [],
   "source": [
    "knn_clf=KNeighborsClassifier()\n",
    "\n",
    "knn_clf.fit(X_train,y_train)\n",
    "\n",
    "ypred=knn_clf.predict(X_test)"
   ]
  },
  {
   "cell_type": "code",
   "execution_count": 10,
   "id": "572e3995",
   "metadata": {},
   "outputs": [],
   "source": [
    "from sklearn.metrics import classification_report, confusion_matrix, accuracy_score, recall_score"
   ]
  },
  {
   "cell_type": "code",
   "execution_count": 67,
   "id": "c7642356",
   "metadata": {},
   "outputs": [
    {
     "name": "stdout",
     "output_type": "stream",
     "text": [
      "Confusion Matrix:\n",
      "[[  18    2  199   24]\n",
      " [   5    1   45    1]\n",
      " [  76   14 1117   72]\n",
      " [  36    3  361   26]]\n",
      "Classification Report:\n",
      "              precision    recall  f1-score   support\n",
      "\n",
      "           0       0.13      0.07      0.10       243\n",
      "           1       0.05      0.02      0.03        52\n",
      "           2       0.65      0.87      0.74      1279\n",
      "           3       0.21      0.06      0.09       426\n",
      "\n",
      "    accuracy                           0.58      2000\n",
      "   macro avg       0.26      0.26      0.24      2000\n",
      "weighted avg       0.48      0.58      0.51      2000\n",
      "\n",
      "Accuracy: 0.581\n"
     ]
    }
   ],
   "source": [
    "result = confusion_matrix(y_test, ypred)\n",
    "print('Confusion Matrix:',)\n",
    "print(result)\n",
    "result1 = classification_report(y_test, ypred)\n",
    "print('Classification Report:',)\n",
    "print (result1)\n",
    "result2 = accuracy_score(y_test,ypred)\n",
    "print('Accuracy:',result2)"
   ]
  },
  {
   "cell_type": "code",
   "execution_count": 78,
   "id": "40e9212a",
   "metadata": {},
   "outputs": [],
   "source": [
    "neigh = KNeighborsClassifier(n_neighbors=5)\n",
    "\n",
    "cv_results = cross_validate(neigh, X_preprocessed, y_preprocessed, cv=5 ,scoring = ['accuracy'])"
   ]
  },
  {
   "cell_type": "code",
   "execution_count": 79,
   "id": "cfb8f42c",
   "metadata": {},
   "outputs": [
    {
     "data": {
      "text/plain": [
       "{'fit_time': array([5.35505271, 0.37682605, 0.377491  , 0.28117943, 0.37643456]),\n",
       " 'score_time': array([0.95573068, 0.74496388, 0.6009984 , 0.39947891, 0.37491584]),\n",
       " 'test_accuracy': array([0.598 , 0.578 , 0.581 , 0.5805, 0.587 ])}"
      ]
     },
     "execution_count": 79,
     "metadata": {},
     "output_type": "execute_result"
    }
   ],
   "source": [
    "cv_results"
   ]
  },
  {
   "cell_type": "code",
   "execution_count": 13,
   "id": "668f861d",
   "metadata": {},
   "outputs": [],
   "source": [
    "K = []\n",
    "score = []\n",
    "\n",
    "for k in range(2,25):\n",
    "    neigh1 = KNeighborsClassifier(n_neighbors=k)\n",
    "    cross_val_results = cross_validate(neigh1, X_preprocessed, y_preprocessed, cv=5, scoring = ['f1_weighted'])\n",
    "    K.append(k)\n",
    "    score.append(cross_val_results['test_f1_weighted'].mean())"
   ]
  },
  {
   "cell_type": "code",
   "execution_count": 14,
   "id": "5d291a84",
   "metadata": {},
   "outputs": [],
   "source": [
    "import matplotlib.pyplot as plt"
   ]
  },
  {
   "cell_type": "code",
   "execution_count": 15,
   "id": "0099acc8",
   "metadata": {},
   "outputs": [
    {
     "data": {
      "text/plain": [
       "[<matplotlib.lines.Line2D at 0x7f57c8b36b20>]"
      ]
     },
     "execution_count": 15,
     "metadata": {},
     "output_type": "execute_result"
    },
    {
     "data": {
      "text/plain": [
       "<Figure size 640x480 with 1 Axes>"
      ]
     },
     "metadata": {},
     "output_type": "display_data"
    }
   ],
   "source": [
    "plt.plot(K, score)"
   ]
  },
  {
   "cell_type": "code",
   "execution_count": 87,
   "id": "0a75373a",
   "metadata": {},
   "outputs": [],
   "source": [
    "neigh3 = KNeighborsClassifier(n_neighbors=22)\n",
    "\n",
    "cv_results3 = cross_validate(neigh3, X_preprocessed, y_preprocessed, cv=5 ,scoring = ['accuracy'])"
   ]
  },
  {
   "cell_type": "code",
   "execution_count": 88,
   "id": "b7a65123",
   "metadata": {},
   "outputs": [
    {
     "data": {
      "text/plain": [
       "{'fit_time': array([0.24595046, 0.2318995 , 0.25007749, 0.3364706 , 0.35664535]),\n",
       " 'score_time': array([0.56142807, 0.38117623, 0.39450312, 0.44336438, 0.35310745]),\n",
       " 'test_accuracy': array([0.6485, 0.6415, 0.6475, 0.648 , 0.65  ])}"
      ]
     },
     "execution_count": 88,
     "metadata": {},
     "output_type": "execute_result"
    }
   ],
   "source": [
    "cv_results3"
   ]
  },
  {
   "cell_type": "code",
   "execution_count": 12,
   "id": "98c012fd",
   "metadata": {},
   "outputs": [],
   "source": [
    "import numpy as np\n",
    "from sklearn.model_selection import learning_curve"
   ]
  },
  {
   "cell_type": "code",
   "execution_count": 102,
   "id": "45853a38",
   "metadata": {},
   "outputs": [],
   "source": [
    "train_sizes = [1000,2000,3000,4000,5000,6000,7000,8000]\n",
    "train_sizes, train_scores, test_scores = learning_curve(\n",
    "    estimator=KNeighborsClassifier(n_neighbors=23), X=X_preprocessed, y=y_preprocessed, train_sizes=train_sizes, cv=5)\n",
    "\n",
    "train_scores_mean = np.mean(train_scores, axis=1)\n",
    "test_scores_mean = np.mean(test_scores, axis=1)"
   ]
  },
  {
   "cell_type": "code",
   "execution_count": 103,
   "id": "3d9c71f3",
   "metadata": {},
   "outputs": [
    {
     "data": {
      "text/plain": [
       "<matplotlib.legend.Legend at 0x7f7315497bb0>"
      ]
     },
     "execution_count": 103,
     "metadata": {},
     "output_type": "execute_result"
    },
    {
     "data": {
      "image/png": "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",
      "text/plain": [
       "<Figure size 640x480 with 1 Axes>"
      ]
     },
     "metadata": {},
     "output_type": "display_data"
    }
   ],
   "source": [
    "plt.plot(train_sizes, train_scores_mean, label = 'Training score')\n",
    "plt.plot(train_sizes, test_scores_mean, label = 'Test score')\n",
    "plt.ylabel('accuracy score', fontsize = 14)\n",
    "plt.xlabel('Training set size', fontsize = 14)\n",
    "plt.title('Learning curves', fontsize = 18, y = 1.03)\n",
    "plt.legend()"
   ]
  },
  {
   "cell_type": "code",
   "execution_count": 104,
   "id": "1134971d",
   "metadata": {},
   "outputs": [],
   "source": [
    "neigh4 = KNeighborsClassifier(n_neighbors=23)\n",
    "\n",
    "cv_results4 = cross_validate(neigh4, X_preprocessed, y_preprocessed, cv=5 ,scoring = ['accuracy'])"
   ]
  },
  {
   "cell_type": "code",
   "execution_count": 105,
   "id": "6f4aedcc",
   "metadata": {},
   "outputs": [
    {
     "data": {
      "text/plain": [
       "{'fit_time': array([0.48195553, 0.37576389, 0.1908977 , 0.22097278, 0.21004653]),\n",
       " 'score_time': array([0.48668027, 0.36749601, 0.30715489, 0.30937123, 0.32714128]),\n",
       " 'test_accuracy': array([0.65  , 0.645 , 0.6485, 0.6485, 0.6515])}"
      ]
     },
     "execution_count": 105,
     "metadata": {},
     "output_type": "execute_result"
    }
   ],
   "source": [
    "cv_results4"
   ]
  },
  {
   "cell_type": "code",
   "execution_count": 106,
   "id": "9297bab6",
   "metadata": {},
   "outputs": [],
   "source": [
    "neigh5 = KNeighborsClassifier(n_neighbors=23, weights='distance')\n",
    "\n",
    "cv_results5 = cross_validate(neigh5, X_preprocessed, y_preprocessed, cv=5 ,scoring = ['accuracy'])"
   ]
  },
  {
   "cell_type": "code",
   "execution_count": 107,
   "id": "f04bb9f3",
   "metadata": {},
   "outputs": [
    {
     "data": {
      "text/plain": [
       "{'fit_time': array([0.32552886, 0.23253727, 0.35680795, 0.41767359, 0.24736333]),\n",
       " 'score_time': array([0.4672637 , 0.28750396, 0.38777447, 0.32018304, 0.2778461 ]),\n",
       " 'test_accuracy': array([0.6365, 0.633 , 0.645 , 0.64  , 0.642 ])}"
      ]
     },
     "execution_count": 107,
     "metadata": {},
     "output_type": "execute_result"
    }
   ],
   "source": [
    "cv_results5"
   ]
  },
  {
   "cell_type": "code",
   "execution_count": 108,
   "id": "908a8700",
   "metadata": {},
   "outputs": [],
   "source": [
    "K = []\n",
    "score = []\n",
    "\n",
    "for k in range(2,35):\n",
    "    neigh6 = KNeighborsClassifier(n_neighbors=k)\n",
    "    cross_val_results = cross_validate(neigh6, X_preprocessed, y_preprocessed, cv=5, scoring = [''])\n",
    "    K.append(k)\n",
    "    score.append(cross_val_results['test_accuracy'].mean())"
   ]
  },
  {
   "cell_type": "code",
   "execution_count": 110,
   "id": "92cd2721",
   "metadata": {},
   "outputs": [
    {
     "data": {
      "text/plain": [
       "[<matplotlib.lines.Line2D at 0x7f7311e84cd0>]"
      ]
     },
     "execution_count": 110,
     "metadata": {},
     "output_type": "execute_result"
    },
    {
     "data": {
      "image/png": "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",
      "text/plain": [
       "<Figure size 640x480 with 1 Axes>"
      ]
     },
     "metadata": {},
     "output_type": "display_data"
    }
   ],
   "source": [
    "plt.plot(K, score)"
   ]
  },
  {
   "cell_type": "code",
   "execution_count": 14,
   "id": "8e492862",
   "metadata": {},
   "outputs": [],
   "source": [
    "from sklearn.model_selection import GridSearchCV"
   ]
  },
  {
   "cell_type": "code",
   "execution_count": 20,
   "id": "8ea8a3cd",
   "metadata": {},
   "outputs": [],
   "source": [
    "from sklearn.model_selection import cross_val_score"
   ]
  },
  {
   "cell_type": "code",
   "execution_count": 23,
   "id": "175225a7",
   "metadata": {},
   "outputs": [],
   "source": [
    "neigh9 = KNeighborsClassifier(n_neighbors=23)\n",
    "\n",
    "cv_results9 = cross_val_score(neigh9, X_preprocessed, y_preprocessed, cv=5 ,scoring = 'f1_weighted')"
   ]
  },
  {
   "cell_type": "code",
   "execution_count": 24,
   "id": "79669b74",
   "metadata": {},
   "outputs": [
    {
     "data": {
      "text/plain": [
       "array([0.52050535, 0.51809333, 0.51587068, 0.51511635, 0.51916069])"
      ]
     },
     "execution_count": 24,
     "metadata": {},
     "output_type": "execute_result"
    }
   ],
   "source": [
    "cv_results9"
   ]
  },
  {
   "cell_type": "code",
   "execution_count": 25,
   "id": "3ad46bba",
   "metadata": {},
   "outputs": [],
   "source": [
    "neigh10 = KNeighborsClassifier(n_neighbors=23)\n",
    "\n",
    "cv_results10 = cross_val_score(neigh10, X_preprocessed, y_preprocessed, cv=5 ,scoring = 'recall_weighted')"
   ]
  },
  {
   "cell_type": "code",
   "execution_count": 26,
   "id": "4b768274",
   "metadata": {},
   "outputs": [
    {
     "data": {
      "text/plain": [
       "array([0.65  , 0.645 , 0.6485, 0.6485, 0.6515])"
      ]
     },
     "execution_count": 26,
     "metadata": {},
     "output_type": "execute_result"
    }
   ],
   "source": [
    "cv_results10"
   ]
  },
  {
   "cell_type": "code",
   "execution_count": 29,
   "id": "60c6bb69",
   "metadata": {},
   "outputs": [],
   "source": [
    "neigh11 = KNeighborsClassifier(n_neighbors=23, algorithm = 'ball_tree')\n",
    "\n",
    "cv_results11 = cross_validate(neigh11, X_preprocessed, y_preprocessed, cv=5 ,scoring = ['accuracy', 'recall_weighted', 'f1_weighted'])"
   ]
  },
  {
   "cell_type": "code",
   "execution_count": 30,
   "id": "693fef34",
   "metadata": {},
   "outputs": [
    {
     "data": {
      "text/plain": [
       "{'fit_time': array([0.54356289, 0.44206905, 0.43592429, 0.43809247, 0.43856072]),\n",
       " 'score_time': array([2.12941766, 2.10928798, 2.09564805, 2.04795694, 1.69603276]),\n",
       " 'test_accuracy': array([0.65  , 0.645 , 0.6485, 0.6485, 0.6515]),\n",
       " 'test_recall_weighted': array([0.65  , 0.645 , 0.6485, 0.6485, 0.6515]),\n",
       " 'test_f1_weighted': array([0.52050535, 0.51809333, 0.51587068, 0.51511635, 0.51916069])}"
      ]
     },
     "execution_count": 30,
     "metadata": {},
     "output_type": "execute_result"
    }
   ],
   "source": [
    "cv_results11"
   ]
  },
  {
   "cell_type": "code",
   "execution_count": 31,
   "id": "e393ee63",
   "metadata": {},
   "outputs": [],
   "source": [
    "neigh12 = KNeighborsClassifier(n_neighbors=23, algorithm = 'kd_tree')\n",
    "\n",
    "cv_results12 = cross_validate(neigh12, X_preprocessed, y_preprocessed, cv=5 ,\n",
    "                              scoring = ['accuracy', 'recall_weighted', 'f1_weighted'])"
   ]
  },
  {
   "cell_type": "code",
   "execution_count": 32,
   "id": "392e04ab",
   "metadata": {},
   "outputs": [
    {
     "data": {
      "text/plain": [
       "{'fit_time': array([0.73068547, 0.55305433, 0.53893495, 0.55244756, 0.54663253]),\n",
       " 'score_time': array([0.72198701, 0.70114064, 0.71033907, 0.70006323, 0.6936028 ]),\n",
       " 'test_accuracy': array([0.65  , 0.645 , 0.6485, 0.6485, 0.6515]),\n",
       " 'test_recall_weighted': array([0.65  , 0.645 , 0.6485, 0.6485, 0.6515]),\n",
       " 'test_f1_weighted': array([0.52050535, 0.51809333, 0.51587068, 0.51511635, 0.51916069])}"
      ]
     },
     "execution_count": 32,
     "metadata": {},
     "output_type": "execute_result"
    }
   ],
   "source": [
    "cv_results12"
   ]
  },
  {
   "cell_type": "code",
   "execution_count": 33,
   "id": "f02ca3d0",
   "metadata": {},
   "outputs": [],
   "source": [
    "neigh13 = KNeighborsClassifier(n_neighbors=23, algorithm = 'brute')\n",
    "\n",
    "cv_results13 = cross_validate(neigh13, X_preprocessed, y_preprocessed, cv=5 ,\n",
    "                              scoring = ['accuracy', 'recall_weighted', 'f1_weighted'])"
   ]
  },
  {
   "cell_type": "code",
   "execution_count": 34,
   "id": "060382c0",
   "metadata": {},
   "outputs": [
    {
     "data": {
      "text/plain": [
       "{'fit_time': array([0.19394469, 0.17422986, 0.13628793, 0.13315082, 0.13144875]),\n",
       " 'score_time': array([0.2770021 , 0.24060965, 0.25501442, 0.26928949, 0.23673725]),\n",
       " 'test_accuracy': array([0.65  , 0.645 , 0.6485, 0.6485, 0.6515]),\n",
       " 'test_recall_weighted': array([0.65  , 0.645 , 0.6485, 0.6485, 0.6515]),\n",
       " 'test_f1_weighted': array([0.52050535, 0.51809333, 0.51587068, 0.51511635, 0.51916069])}"
      ]
     },
     "execution_count": 34,
     "metadata": {},
     "output_type": "execute_result"
    }
   ],
   "source": [
    "cv_results13"
   ]
  },
  {
   "cell_type": "code",
   "execution_count": 9,
   "id": "fc8f16cb",
   "metadata": {},
   "outputs": [],
   "source": [
    "X_preprocessed = X_preprocessed.drop(columns = [0], axis = 1)"
   ]
  },
  {
   "cell_type": "code",
   "execution_count": 36,
   "id": "d5f801e3",
   "metadata": {},
   "outputs": [],
   "source": [
    "neigh14 = KNeighborsClassifier(n_neighbors=23)\n",
    "\n",
    "cv_results14 = cross_validate(neigh14, X_preprocessed, y_preprocessed, cv=5 ,\n",
    "                              scoring = ['accuracy', 'recall_weighted', 'f1_weighted'])"
   ]
  },
  {
   "cell_type": "code",
   "execution_count": 37,
   "id": "8c82cb4c",
   "metadata": {
    "scrolled": true
   },
   "outputs": [
    {
     "data": {
      "text/plain": [
       "{'fit_time': array([0.2149961 , 0.13255572, 0.13489962, 0.13302088, 0.13394094]),\n",
       " 'score_time': array([0.26756191, 0.23663163, 0.26147246, 0.24807978, 0.24573326]),\n",
       " 'test_accuracy': array([0.65  , 0.645 , 0.6485, 0.6485, 0.6515]),\n",
       " 'test_recall_weighted': array([0.65  , 0.645 , 0.6485, 0.6485, 0.6515]),\n",
       " 'test_f1_weighted': array([0.52050535, 0.51809333, 0.51587068, 0.51511635, 0.51916069])}"
      ]
     },
     "execution_count": 37,
     "metadata": {},
     "output_type": "execute_result"
    }
   ],
   "source": [
    "cv_results14"
   ]
  },
  {
   "cell_type": "code",
   "execution_count": 41,
   "id": "373d5536",
   "metadata": {},
   "outputs": [
    {
     "data": {
      "text/html": [
       "<div>\n",
       "<style scoped>\n",
       "    .dataframe tbody tr th:only-of-type {\n",
       "        vertical-align: middle;\n",
       "    }\n",
       "\n",
       "    .dataframe tbody tr th {\n",
       "        vertical-align: top;\n",
       "    }\n",
       "\n",
       "    .dataframe thead th {\n",
       "        text-align: right;\n",
       "    }\n",
       "</style>\n",
       "<table border=\"1\" class=\"dataframe\">\n",
       "  <thead>\n",
       "    <tr style=\"text-align: right;\">\n",
       "      <th></th>\n",
       "      <th>1</th>\n",
       "      <th>2</th>\n",
       "      <th>3</th>\n",
       "      <th>4</th>\n",
       "      <th>5</th>\n",
       "      <th>6</th>\n",
       "      <th>7</th>\n",
       "      <th>8</th>\n",
       "      <th>9</th>\n",
       "      <th>10</th>\n",
       "      <th>...</th>\n",
       "      <th>682</th>\n",
       "      <th>683</th>\n",
       "      <th>684</th>\n",
       "      <th>685</th>\n",
       "      <th>686</th>\n",
       "      <th>687</th>\n",
       "      <th>688</th>\n",
       "      <th>689</th>\n",
       "      <th>690</th>\n",
       "      <th>699</th>\n",
       "    </tr>\n",
       "  </thead>\n",
       "  <tbody>\n",
       "    <tr>\n",
       "      <th>0</th>\n",
       "      <td>0.0</td>\n",
       "      <td>0.0</td>\n",
       "      <td>0.0</td>\n",
       "      <td>0.0</td>\n",
       "      <td>0.0</td>\n",
       "      <td>0.0</td>\n",
       "      <td>0.0</td>\n",
       "      <td>0.0</td>\n",
       "      <td>0.0</td>\n",
       "      <td>0.0</td>\n",
       "      <td>...</td>\n",
       "      <td>7</td>\n",
       "      <td>20</td>\n",
       "      <td>5</td>\n",
       "      <td>1200</td>\n",
       "      <td>1640</td>\n",
       "      <td>1067.0</td>\n",
       "      <td>-0.974928</td>\n",
       "      <td>-0.222521</td>\n",
       "      <td>-0.790776</td>\n",
       "      <td>0.999969</td>\n",
       "    </tr>\n",
       "    <tr>\n",
       "      <th>1</th>\n",
       "      <td>0.0</td>\n",
       "      <td>0.0</td>\n",
       "      <td>0.0</td>\n",
       "      <td>0.0</td>\n",
       "      <td>0.0</td>\n",
       "      <td>0.0</td>\n",
       "      <td>0.0</td>\n",
       "      <td>1.0</td>\n",
       "      <td>0.0</td>\n",
       "      <td>0.0</td>\n",
       "      <td>...</td>\n",
       "      <td>1</td>\n",
       "      <td>2</td>\n",
       "      <td>7</td>\n",
       "      <td>2110</td>\n",
       "      <td>2148</td>\n",
       "      <td>488.0</td>\n",
       "      <td>-0.0</td>\n",
       "      <td>1.0</td>\n",
       "      <td>0.394356</td>\n",
       "      <td>0.999997</td>\n",
       "    </tr>\n",
       "    <tr>\n",
       "      <th>2</th>\n",
       "      <td>0.0</td>\n",
       "      <td>0.0</td>\n",
       "      <td>0.0</td>\n",
       "      <td>0.0</td>\n",
       "      <td>0.0</td>\n",
       "      <td>0.0</td>\n",
       "      <td>0.0</td>\n",
       "      <td>0.0</td>\n",
       "      <td>1.0</td>\n",
       "      <td>0.0</td>\n",
       "      <td>...</td>\n",
       "      <td>2</td>\n",
       "      <td>11</td>\n",
       "      <td>2</td>\n",
       "      <td>930</td>\n",
       "      <td>1245</td>\n",
       "      <td>717.0</td>\n",
       "      <td>0.974928</td>\n",
       "      <td>-0.222521</td>\n",
       "      <td>0.790776</td>\n",
       "      <td>0.999997</td>\n",
       "    </tr>\n",
       "    <tr>\n",
       "      <th>3</th>\n",
       "      <td>0.0</td>\n",
       "      <td>0.0</td>\n",
       "      <td>0.0</td>\n",
       "      <td>0.0</td>\n",
       "      <td>0.0</td>\n",
       "      <td>0.0</td>\n",
       "      <td>0.0</td>\n",
       "      <td>0.0</td>\n",
       "      <td>1.0</td>\n",
       "      <td>0.0</td>\n",
       "      <td>...</td>\n",
       "      <td>2</td>\n",
       "      <td>10</td>\n",
       "      <td>3</td>\n",
       "      <td>700</td>\n",
       "      <td>828</td>\n",
       "      <td>787.0</td>\n",
       "      <td>0.433884</td>\n",
       "      <td>-0.900969</td>\n",
       "      <td>0.897805</td>\n",
       "      <td>0.999997</td>\n",
       "    </tr>\n",
       "    <tr>\n",
       "      <th>4</th>\n",
       "      <td>0.0</td>\n",
       "      <td>0.0</td>\n",
       "      <td>1.0</td>\n",
       "      <td>0.0</td>\n",
       "      <td>0.0</td>\n",
       "      <td>0.0</td>\n",
       "      <td>0.0</td>\n",
       "      <td>0.0</td>\n",
       "      <td>0.0</td>\n",
       "      <td>0.0</td>\n",
       "      <td>...</td>\n",
       "      <td>3</td>\n",
       "      <td>12</td>\n",
       "      <td>4</td>\n",
       "      <td>1324</td>\n",
       "      <td>1455</td>\n",
       "      <td>399.0</td>\n",
       "      <td>-0.433884</td>\n",
       "      <td>-0.900969</td>\n",
       "      <td>0.651372</td>\n",
       "      <td>0.999997</td>\n",
       "    </tr>\n",
       "    <tr>\n",
       "      <th>...</th>\n",
       "      <td>...</td>\n",
       "      <td>...</td>\n",
       "      <td>...</td>\n",
       "      <td>...</td>\n",
       "      <td>...</td>\n",
       "      <td>...</td>\n",
       "      <td>...</td>\n",
       "      <td>...</td>\n",
       "      <td>...</td>\n",
       "      <td>...</td>\n",
       "      <td>...</td>\n",
       "      <td>...</td>\n",
       "      <td>...</td>\n",
       "      <td>...</td>\n",
       "      <td>...</td>\n",
       "      <td>...</td>\n",
       "      <td>...</td>\n",
       "      <td>...</td>\n",
       "      <td>...</td>\n",
       "      <td>...</td>\n",
       "      <td>...</td>\n",
       "    </tr>\n",
       "    <tr>\n",
       "      <th>9995</th>\n",
       "      <td>0.0</td>\n",
       "      <td>0.0</td>\n",
       "      <td>0.0</td>\n",
       "      <td>1.0</td>\n",
       "      <td>0.0</td>\n",
       "      <td>0.0</td>\n",
       "      <td>0.0</td>\n",
       "      <td>0.0</td>\n",
       "      <td>0.0</td>\n",
       "      <td>0.0</td>\n",
       "      <td>...</td>\n",
       "      <td>9</td>\n",
       "      <td>10</td>\n",
       "      <td>2</td>\n",
       "      <td>840</td>\n",
       "      <td>918</td>\n",
       "      <td>440.0</td>\n",
       "      <td>0.974928</td>\n",
       "      <td>-0.222521</td>\n",
       "      <td>0.897805</td>\n",
       "      <td>0.999969</td>\n",
       "    </tr>\n",
       "    <tr>\n",
       "      <th>9996</th>\n",
       "      <td>0.0</td>\n",
       "      <td>0.0</td>\n",
       "      <td>0.0</td>\n",
       "      <td>0.0</td>\n",
       "      <td>0.0</td>\n",
       "      <td>0.0</td>\n",
       "      <td>0.0</td>\n",
       "      <td>0.0</td>\n",
       "      <td>1.0</td>\n",
       "      <td>0.0</td>\n",
       "      <td>...</td>\n",
       "      <td>3</td>\n",
       "      <td>20</td>\n",
       "      <td>2</td>\n",
       "      <td>1121</td>\n",
       "      <td>1446</td>\n",
       "      <td>888.0</td>\n",
       "      <td>0.974928</td>\n",
       "      <td>-0.222521</td>\n",
       "      <td>-0.790776</td>\n",
       "      <td>0.999997</td>\n",
       "    </tr>\n",
       "    <tr>\n",
       "      <th>9997</th>\n",
       "      <td>0.0</td>\n",
       "      <td>0.0</td>\n",
       "      <td>0.0</td>\n",
       "      <td>0.0</td>\n",
       "      <td>0.0</td>\n",
       "      <td>0.0</td>\n",
       "      <td>0.0</td>\n",
       "      <td>0.0</td>\n",
       "      <td>0.0</td>\n",
       "      <td>0.0</td>\n",
       "      <td>...</td>\n",
       "      <td>9</td>\n",
       "      <td>3</td>\n",
       "      <td>2</td>\n",
       "      <td>2015</td>\n",
       "      <td>2145</td>\n",
       "      <td>850.0</td>\n",
       "      <td>0.974928</td>\n",
       "      <td>-0.222521</td>\n",
       "      <td>0.571268</td>\n",
       "      <td>0.999969</td>\n",
       "    </tr>\n",
       "    <tr>\n",
       "      <th>9998</th>\n",
       "      <td>1.0</td>\n",
       "      <td>0.0</td>\n",
       "      <td>0.0</td>\n",
       "      <td>0.0</td>\n",
       "      <td>0.0</td>\n",
       "      <td>0.0</td>\n",
       "      <td>0.0</td>\n",
       "      <td>0.0</td>\n",
       "      <td>0.0</td>\n",
       "      <td>0.0</td>\n",
       "      <td>...</td>\n",
       "      <td>1</td>\n",
       "      <td>2</td>\n",
       "      <td>4</td>\n",
       "      <td>1832</td>\n",
       "      <td>2254</td>\n",
       "      <td>1471.0</td>\n",
       "      <td>-0.433884</td>\n",
       "      <td>-0.900969</td>\n",
       "      <td>0.394356</td>\n",
       "      <td>0.999997</td>\n",
       "    </tr>\n",
       "    <tr>\n",
       "      <th>9999</th>\n",
       "      <td>1.0</td>\n",
       "      <td>0.0</td>\n",
       "      <td>0.0</td>\n",
       "      <td>0.0</td>\n",
       "      <td>0.0</td>\n",
       "      <td>0.0</td>\n",
       "      <td>0.0</td>\n",
       "      <td>0.0</td>\n",
       "      <td>0.0</td>\n",
       "      <td>0.0</td>\n",
       "      <td>...</td>\n",
       "      <td>1</td>\n",
       "      <td>10</td>\n",
       "      <td>5</td>\n",
       "      <td>1040</td>\n",
       "      <td>1227</td>\n",
       "      <td>406.0</td>\n",
       "      <td>-0.974928</td>\n",
       "      <td>-0.222521</td>\n",
       "      <td>0.897805</td>\n",
       "      <td>0.999997</td>\n",
       "    </tr>\n",
       "  </tbody>\n",
       "</table>\n",
       "<p>10000 rows × 690 columns</p>\n",
       "</div>"
      ],
      "text/plain": [
       "      1    2    3    4    5    6    7    8    9    10   ... 682 683 684   685  \\\n",
       "0     0.0  0.0  0.0  0.0  0.0  0.0  0.0  0.0  0.0  0.0  ...   7  20   5  1200   \n",
       "1     0.0  0.0  0.0  0.0  0.0  0.0  0.0  1.0  0.0  0.0  ...   1   2   7  2110   \n",
       "2     0.0  0.0  0.0  0.0  0.0  0.0  0.0  0.0  1.0  0.0  ...   2  11   2   930   \n",
       "3     0.0  0.0  0.0  0.0  0.0  0.0  0.0  0.0  1.0  0.0  ...   2  10   3   700   \n",
       "4     0.0  0.0  1.0  0.0  0.0  0.0  0.0  0.0  0.0  0.0  ...   3  12   4  1324   \n",
       "...   ...  ...  ...  ...  ...  ...  ...  ...  ...  ...  ...  ..  ..  ..   ...   \n",
       "9995  0.0  0.0  0.0  1.0  0.0  0.0  0.0  0.0  0.0  0.0  ...   9  10   2   840   \n",
       "9996  0.0  0.0  0.0  0.0  0.0  0.0  0.0  0.0  1.0  0.0  ...   3  20   2  1121   \n",
       "9997  0.0  0.0  0.0  0.0  0.0  0.0  0.0  0.0  0.0  0.0  ...   9   3   2  2015   \n",
       "9998  1.0  0.0  0.0  0.0  0.0  0.0  0.0  0.0  0.0  0.0  ...   1   2   4  1832   \n",
       "9999  1.0  0.0  0.0  0.0  0.0  0.0  0.0  0.0  0.0  0.0  ...   1  10   5  1040   \n",
       "\n",
       "       686     687       688       689       690       699  \n",
       "0     1640  1067.0 -0.974928 -0.222521 -0.790776  0.999969  \n",
       "1     2148   488.0      -0.0       1.0  0.394356  0.999997  \n",
       "2     1245   717.0  0.974928 -0.222521  0.790776  0.999997  \n",
       "3      828   787.0  0.433884 -0.900969  0.897805  0.999997  \n",
       "4     1455   399.0 -0.433884 -0.900969  0.651372  0.999997  \n",
       "...    ...     ...       ...       ...       ...       ...  \n",
       "9995   918   440.0  0.974928 -0.222521  0.897805  0.999969  \n",
       "9996  1446   888.0  0.974928 -0.222521 -0.790776  0.999997  \n",
       "9997  2145   850.0  0.974928 -0.222521  0.571268  0.999969  \n",
       "9998  2254  1471.0 -0.433884 -0.900969  0.394356  0.999997  \n",
       "9999  1227   406.0 -0.974928 -0.222521  0.897805  0.999997  \n",
       "\n",
       "[10000 rows x 690 columns]"
      ]
     },
     "execution_count": 41,
     "metadata": {},
     "output_type": "execute_result"
    }
   ],
   "source": [
    "X_preprocessed"
   ]
  },
  {
   "cell_type": "code",
   "execution_count": 10,
   "id": "c4461385",
   "metadata": {},
   "outputs": [],
   "source": [
    "X_preprocessed = X_preprocessed.drop(columns = [699,698,697,696,695,694,693,692,691], axis = 1)"
   ]
  },
  {
   "cell_type": "code",
   "execution_count": 10,
   "id": "86b83627",
   "metadata": {},
   "outputs": [
    {
     "data": {
      "text/html": [
       "<div>\n",
       "<style scoped>\n",
       "    .dataframe tbody tr th:only-of-type {\n",
       "        vertical-align: middle;\n",
       "    }\n",
       "\n",
       "    .dataframe tbody tr th {\n",
       "        vertical-align: top;\n",
       "    }\n",
       "\n",
       "    .dataframe thead th {\n",
       "        text-align: right;\n",
       "    }\n",
       "</style>\n",
       "<table border=\"1\" class=\"dataframe\">\n",
       "  <thead>\n",
       "    <tr style=\"text-align: right;\">\n",
       "      <th></th>\n",
       "      <th>0</th>\n",
       "      <th>1</th>\n",
       "      <th>2</th>\n",
       "      <th>3</th>\n",
       "      <th>4</th>\n",
       "      <th>5</th>\n",
       "      <th>6</th>\n",
       "      <th>7</th>\n",
       "      <th>8</th>\n",
       "      <th>9</th>\n",
       "      <th>...</th>\n",
       "      <th>683</th>\n",
       "      <th>684</th>\n",
       "      <th>685</th>\n",
       "      <th>686</th>\n",
       "      <th>687</th>\n",
       "      <th>688</th>\n",
       "      <th>689</th>\n",
       "      <th>690</th>\n",
       "      <th>691</th>\n",
       "      <th>692</th>\n",
       "    </tr>\n",
       "  </thead>\n",
       "  <tbody>\n",
       "    <tr>\n",
       "      <th>0</th>\n",
       "      <td>0.206966</td>\n",
       "      <td>0.0</td>\n",
       "      <td>0.0</td>\n",
       "      <td>0.0</td>\n",
       "      <td>0.0</td>\n",
       "      <td>0.0</td>\n",
       "      <td>0.0</td>\n",
       "      <td>0.0</td>\n",
       "      <td>0.0</td>\n",
       "      <td>0.0</td>\n",
       "      <td>...</td>\n",
       "      <td>-0.790776</td>\n",
       "      <td>-0.612106</td>\n",
       "      <td>-0.500000</td>\n",
       "      <td>-8.660254e-01</td>\n",
       "      <td>-1.0</td>\n",
       "      <td>-1.836970e-16</td>\n",
       "      <td>0.007854</td>\n",
       "      <td>0.999969</td>\n",
       "      <td>0.007854</td>\n",
       "      <td>0.999969</td>\n",
       "    </tr>\n",
       "    <tr>\n",
       "      <th>1</th>\n",
       "      <td>0.089712</td>\n",
       "      <td>0.0</td>\n",
       "      <td>0.0</td>\n",
       "      <td>0.0</td>\n",
       "      <td>0.0</td>\n",
       "      <td>0.0</td>\n",
       "      <td>0.0</td>\n",
       "      <td>0.0</td>\n",
       "      <td>1.0</td>\n",
       "      <td>0.0</td>\n",
       "      <td>...</td>\n",
       "      <td>0.394356</td>\n",
       "      <td>0.918958</td>\n",
       "      <td>0.500000</td>\n",
       "      <td>8.660254e-01</td>\n",
       "      <td>1.0</td>\n",
       "      <td>6.123234e-17</td>\n",
       "      <td>0.002618</td>\n",
       "      <td>0.999997</td>\n",
       "      <td>0.002618</td>\n",
       "      <td>0.999997</td>\n",
       "    </tr>\n",
       "    <tr>\n",
       "      <th>2</th>\n",
       "      <td>0.136087</td>\n",
       "      <td>0.0</td>\n",
       "      <td>0.0</td>\n",
       "      <td>0.0</td>\n",
       "      <td>0.0</td>\n",
       "      <td>0.0</td>\n",
       "      <td>0.0</td>\n",
       "      <td>0.0</td>\n",
       "      <td>0.0</td>\n",
       "      <td>1.0</td>\n",
       "      <td>...</td>\n",
       "      <td>0.790776</td>\n",
       "      <td>-0.612106</td>\n",
       "      <td>0.866025</td>\n",
       "      <td>5.000000e-01</td>\n",
       "      <td>1.0</td>\n",
       "      <td>6.123234e-17</td>\n",
       "      <td>0.002618</td>\n",
       "      <td>0.999997</td>\n",
       "      <td>0.002618</td>\n",
       "      <td>0.999997</td>\n",
       "    </tr>\n",
       "    <tr>\n",
       "      <th>3</th>\n",
       "      <td>0.150263</td>\n",
       "      <td>0.0</td>\n",
       "      <td>0.0</td>\n",
       "      <td>0.0</td>\n",
       "      <td>0.0</td>\n",
       "      <td>0.0</td>\n",
       "      <td>0.0</td>\n",
       "      <td>0.0</td>\n",
       "      <td>0.0</td>\n",
       "      <td>1.0</td>\n",
       "      <td>...</td>\n",
       "      <td>0.897805</td>\n",
       "      <td>-0.440394</td>\n",
       "      <td>0.866025</td>\n",
       "      <td>5.000000e-01</td>\n",
       "      <td>1.0</td>\n",
       "      <td>6.123234e-17</td>\n",
       "      <td>0.002618</td>\n",
       "      <td>0.999997</td>\n",
       "      <td>0.002618</td>\n",
       "      <td>0.999997</td>\n",
       "    </tr>\n",
       "    <tr>\n",
       "      <th>4</th>\n",
       "      <td>0.071689</td>\n",
       "      <td>0.0</td>\n",
       "      <td>0.0</td>\n",
       "      <td>1.0</td>\n",
       "      <td>0.0</td>\n",
       "      <td>0.0</td>\n",
       "      <td>0.0</td>\n",
       "      <td>0.0</td>\n",
       "      <td>0.0</td>\n",
       "      <td>0.0</td>\n",
       "      <td>...</td>\n",
       "      <td>0.651372</td>\n",
       "      <td>-0.758758</td>\n",
       "      <td>1.000000</td>\n",
       "      <td>6.123234e-17</td>\n",
       "      <td>1.0</td>\n",
       "      <td>6.123234e-17</td>\n",
       "      <td>0.002618</td>\n",
       "      <td>0.999997</td>\n",
       "      <td>0.002618</td>\n",
       "      <td>0.999997</td>\n",
       "    </tr>\n",
       "  </tbody>\n",
       "</table>\n",
       "<p>5 rows × 693 columns</p>\n",
       "</div>"
      ],
      "text/plain": [
       "        0    1    2    3    4    5    6    7    8    9    ...       683  \\\n",
       "0  0.206966  0.0  0.0  0.0  0.0  0.0  0.0  0.0  0.0  0.0  ... -0.790776   \n",
       "1  0.089712  0.0  0.0  0.0  0.0  0.0  0.0  0.0  1.0  0.0  ...  0.394356   \n",
       "2  0.136087  0.0  0.0  0.0  0.0  0.0  0.0  0.0  0.0  1.0  ...  0.790776   \n",
       "3  0.150263  0.0  0.0  0.0  0.0  0.0  0.0  0.0  0.0  1.0  ...  0.897805   \n",
       "4  0.071689  0.0  0.0  1.0  0.0  0.0  0.0  0.0  0.0  0.0  ...  0.651372   \n",
       "\n",
       "        684       685           686  687           688       689       690  \\\n",
       "0 -0.612106 -0.500000 -8.660254e-01 -1.0 -1.836970e-16  0.007854  0.999969   \n",
       "1  0.918958  0.500000  8.660254e-01  1.0  6.123234e-17  0.002618  0.999997   \n",
       "2 -0.612106  0.866025  5.000000e-01  1.0  6.123234e-17  0.002618  0.999997   \n",
       "3 -0.440394  0.866025  5.000000e-01  1.0  6.123234e-17  0.002618  0.999997   \n",
       "4 -0.758758  1.000000  6.123234e-17  1.0  6.123234e-17  0.002618  0.999997   \n",
       "\n",
       "        691       692  \n",
       "0  0.007854  0.999969  \n",
       "1  0.002618  0.999997  \n",
       "2  0.002618  0.999997  \n",
       "3  0.002618  0.999997  \n",
       "4  0.002618  0.999997  \n",
       "\n",
       "[5 rows x 693 columns]"
      ]
     },
     "execution_count": 10,
     "metadata": {},
     "output_type": "execute_result"
    }
   ],
   "source": [
    "X_preprocessed.head()"
   ]
  },
  {
   "cell_type": "code",
   "execution_count": 11,
   "id": "40269e57",
   "metadata": {},
   "outputs": [],
   "source": [
    "neigh16 = KNeighborsClassifier(n_neighbors=23)\n",
    "\n",
    "cv_results16 = cross_validate(neigh16, X_preprocessed, y_preprocessed, cv=5 ,\n",
    "                              scoring = ['accuracy', 'recall_weighted', 'f1_weighted'])"
   ]
  },
  {
   "cell_type": "code",
   "execution_count": 9,
   "id": "8745bb71",
   "metadata": {},
   "outputs": [
    {
     "data": {
      "text/plain": [
       "{'fit_time': array([0.04666853, 0.02029777, 0.01818585, 0.01752567, 0.01774836]),\n",
       " 'score_time': array([0.42603683, 0.22285986, 0.22853518, 0.22296882, 0.22213888]),\n",
       " 'test_accuracy': array([0.65  , 0.652 , 0.651 , 0.648 , 0.6515]),\n",
       " 'test_recall_weighted': array([0.65  , 0.652 , 0.651 , 0.648 , 0.6515]),\n",
       " 'test_f1_weighted': array([0.51672594, 0.51650428, 0.51852811, 0.51635454, 0.51496517])}"
      ]
     },
     "execution_count": 9,
     "metadata": {},
     "output_type": "execute_result"
    }
   ],
   "source": [
    "cv_results15"
   ]
  },
  {
   "cell_type": "code",
   "execution_count": 16,
   "id": "0dbb8d2d",
   "metadata": {},
   "outputs": [],
   "source": [
    "neigh17 = KNeighborsClassifier(n_neighbors=7)\n",
    "\n",
    "cv_results17 = cross_validate(neigh17, X_preprocessed, y_preprocessed, cv=5 ,\n",
    "                              scoring = ['accuracy', 'recall_weighted', 'f1_weighted'])"
   ]
  },
  {
   "cell_type": "code",
   "execution_count": 17,
   "id": "70ef9793",
   "metadata": {},
   "outputs": [
    {
     "data": {
      "text/plain": [
       "{'fit_time': array([0.03137589, 0.01847506, 0.01702213, 0.01820469, 0.01840949]),\n",
       " 'score_time': array([0.25681758, 0.21580553, 0.20918512, 0.20849824, 0.22348285]),\n",
       " 'test_accuracy': array([0.605 , 0.623 , 0.6215, 0.6225, 0.618 ]),\n",
       " 'test_recall_weighted': array([0.605 , 0.623 , 0.6215, 0.6225, 0.618 ]),\n",
       " 'test_f1_weighted': array([0.51299193, 0.53441717, 0.53246222, 0.5317819 , 0.52921095])}"
      ]
     },
     "execution_count": 17,
     "metadata": {},
     "output_type": "execute_result"
    }
   ],
   "source": [
    "cv_results17"
   ]
  },
  {
   "cell_type": "code",
   "execution_count": 11,
   "id": "4b1e7033",
   "metadata": {},
   "outputs": [],
   "source": [
    "neigh19 = KNeighborsClassifier(n_neighbors=23)\n",
    "\n",
    "cv_results19 = cross_validate(neigh19, X_preprocessed, y_preprocessed, cv=5 ,\n",
    "                              scoring = ['accuracy', 'recall_weighted', 'f1_weighted'])"
   ]
  },
  {
   "cell_type": "code",
   "execution_count": 12,
   "id": "9be6d6af",
   "metadata": {},
   "outputs": [
    {
     "data": {
      "text/plain": [
       "{'fit_time': array([0.03804421, 0.01820087, 0.01821065, 0.01810884, 0.01734495]),\n",
       " 'score_time': array([0.21605992, 0.21401978, 0.21034336, 0.21546674, 0.22264409]),\n",
       " 'test_accuracy': array([0.648 , 0.6515, 0.651 , 0.6465, 0.655 ]),\n",
       " 'test_recall_weighted': array([0.648 , 0.6515, 0.651 , 0.6465, 0.655 ]),\n",
       " 'test_f1_weighted': array([0.51544261, 0.5183396 , 0.5193855 , 0.51531387, 0.52101018])}"
      ]
     },
     "execution_count": 12,
     "metadata": {},
     "output_type": "execute_result"
    }
   ],
   "source": [
    "cv_results19"
   ]
  },
  {
   "cell_type": "code",
   "execution_count": null,
   "id": "1162cf78",
   "metadata": {},
   "outputs": [],
   "source": []
  }
 ],
 "metadata": {
  "kernelspec": {
   "display_name": "Python 3.8.12 64-bit ('delai')",
   "language": "python",
   "name": "python3"
  },
  "language_info": {
   "codemirror_mode": {
    "name": "ipython",
    "version": 3
   },
   "file_extension": ".py",
   "mimetype": "text/x-python",
   "name": "python",
   "nbconvert_exporter": "python",
   "pygments_lexer": "ipython3",
   "version": "3.8.12"
  },
  "toc": {
   "base_numbering": 1,
   "nav_menu": {},
   "number_sections": true,
   "sideBar": true,
   "skip_h1_title": false,
   "title_cell": "Table of Contents",
   "title_sidebar": "Contents",
   "toc_cell": false,
   "toc_position": {},
   "toc_section_display": true,
   "toc_window_display": false
  },
  "vscode": {
   "interpreter": {
    "hash": "5138ed3df7ba214223a94e0e0339f7585276bcfd9def8e56bd13dac2eae3646a"
   }
  }
 },
 "nbformat": 4,
 "nbformat_minor": 5
}
