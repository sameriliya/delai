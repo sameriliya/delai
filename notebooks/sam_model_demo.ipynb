{
 "cells": [
  {
   "cell_type": "code",
   "execution_count": 1,
   "metadata": {},
   "outputs": [],
   "source": [
    "import pandas as pd\n",
    "import numpy as np\n",
    "from delai.ml_logic.preprocessing import preprocess_X, preprocess_y\n",
    "from delai.data.local_disk import get_pandas_chunk"
   ]
  },
  {
   "cell_type": "code",
   "execution_count": 2,
   "metadata": {},
   "outputs": [
    {
     "name": "stdout",
     "output_type": "stream",
     "text": [
      "✅ preprocess_X() done\n",
      "✅ preprocess_y() done\n"
     ]
    }
   ],
   "source": [
    "df_X = pd.read_csv('../raw_data/initial_X_train.csv')\n",
    "df_y = pd.read_csv('../raw_data/initial_y_train.csv')\n",
    "\n",
    "X = preprocess_X(df_X)\n",
    "y = preprocess_y(df_y)"
   ]
  },
  {
   "cell_type": "code",
   "execution_count": 42,
   "metadata": {},
   "outputs": [
    {
     "name": "stdout",
     "output_type": "stream",
     "text": [
      "[0 1 2 3]\n"
     ]
    }
   ],
   "source": [
    "print(np.unique(y, return_counts=True)[1] *100 / len(y))\n",
    "print(np.unique(y))"
   ]
  },
  {
   "cell_type": "markdown",
   "metadata": {},
   "source": [
    "## Baseline\n",
    "\n",
    "Assume that the model just returns OnTime_Early for every prediction, what is the F1?\n",
    "\n",
    "I.e This now becomes a binary score?"
   ]
  },
  {
   "cell_type": "code",
   "execution_count": 56,
   "metadata": {},
   "outputs": [
    {
     "name": "stdout",
     "output_type": "stream",
     "text": [
      "accuracy: 0.6529\n",
      "recall: 1.0\n",
      "precision: 0.6529\n",
      "f1 score: 0.7900054449754976\n"
     ]
    }
   ],
   "source": [
    "value_counts = np.unique(y, return_counts=True)[1]\n",
    "on_time_early_true = value_counts[2]\n",
    "tp = on_time_early_true\n",
    "fn = 0 # we aren't predicting anything other than positives\n",
    "fp = len(y)- on_time_early_true\n",
    "tn = 0 # we don't have any true negatives as no negatives are predicted\n",
    "\n",
    "accuracy = (tp + tn) / (tp + tn + fp + fn)\n",
    "print('accuracy:', accuracy)\n",
    "\n",
    "recall = tp / (tp + fn)\n",
    "print('recall:',recall)\n",
    "\n",
    "precision = tp / (tp + fp)\n",
    "print('precision:', precision)\n",
    "\n",
    "f1 = 2 * (precision * recall) / (precision + recall)\n",
    "print('f1 score:', f1)"
   ]
  },
  {
   "cell_type": "code",
   "execution_count": 57,
   "metadata": {},
   "outputs": [],
   "source": [
    "from sklearn.model_selection import train_test_split\n",
    "X_train, X_test, y_train, y_test = train_test_split(X, y, test_size=0.3)"
   ]
  },
  {
   "cell_type": "code",
   "execution_count": 58,
   "metadata": {},
   "outputs": [
    {
     "data": {
      "text/plain": [
       "array([0.21142857, 0.65642857, 0.48928571, 0.65642857, 0.65428571])"
      ]
     },
     "execution_count": 58,
     "metadata": {},
     "output_type": "execute_result"
    }
   ],
   "source": [
    "from sklearn.model_selection import cross_val_score\n",
    "from sklearn.linear_model import SGDClassifier\n",
    "\n",
    "sgd_model = SGDClassifier(loss='log_loss')\n",
    "sgd_model.fit(X_train,y_train)\n",
    "cross_val_score(sgd_model, X_train, y_train, cv=5, scoring='accuracy')\n"
   ]
  },
  {
   "cell_type": "code",
   "execution_count": 59,
   "metadata": {},
   "outputs": [
    {
     "data": {
      "text/plain": [
       "2    0.998333\n",
       "3    0.001667\n",
       "dtype: float64"
      ]
     },
     "execution_count": 59,
     "metadata": {},
     "output_type": "execute_result"
    }
   ],
   "source": [
    "y_pred =sgd_model.predict(X_test)\n",
    "pd.DataFrame(y_pred).value_counts()/len(y_pred)"
   ]
  },
  {
   "cell_type": "markdown",
   "metadata": {},
   "source": [
    "# Altering the inputs\n",
    "\n",
    "The idea here is to change the distribution of data so that a lower proportion are on_time and see the impact on the model "
   ]
  },
  {
   "cell_type": "code",
   "execution_count": 74,
   "metadata": {},
   "outputs": [
    {
     "name": "stderr",
     "output_type": "stream",
     "text": [
      "/var/folders/bv/l32lnnz566v9xm218mhmqy5m0000gn/T/ipykernel_15645/1292450808.py:4: FutureWarning: The frame.append method is deprecated and will be removed from pandas in a future version. Use pandas.concat instead.\n",
      "  new_y = new_y_2.append(new_y_not2)\n"
     ]
    },
    {
     "data": {
      "text/plain": [
       "3    0.388594\n",
       "2    0.365564\n",
       "0    0.194114\n",
       "1    0.051727\n",
       "dtype: float64"
      ]
     },
     "execution_count": 74,
     "metadata": {},
     "output_type": "execute_result"
    }
   ],
   "source": [
    "new_df_y = pd.DataFrame(y)\n",
    "new_y_2 = new_df_y.loc[new_df_y[0] == 2].sample(2000)\n",
    "new_y_not2 = new_df_y.loc[new_df_y[0] != 2]\n",
    "new_y = new_y_2.append(new_y_not2)\n",
    "new_y.value_counts()/len(new_y)\n",
    "\n",
    "\n",
    "\n"
   ]
  },
  {
   "cell_type": "code",
   "execution_count": 75,
   "metadata": {},
   "outputs": [
    {
     "data": {
      "text/html": [
       "<div>\n",
       "<style scoped>\n",
       "    .dataframe tbody tr th:only-of-type {\n",
       "        vertical-align: middle;\n",
       "    }\n",
       "\n",
       "    .dataframe tbody tr th {\n",
       "        vertical-align: top;\n",
       "    }\n",
       "\n",
       "    .dataframe thead th {\n",
       "        text-align: right;\n",
       "    }\n",
       "</style>\n",
       "<table border=\"1\" class=\"dataframe\">\n",
       "  <thead>\n",
       "    <tr style=\"text-align: right;\">\n",
       "      <th></th>\n",
       "      <th>0</th>\n",
       "      <th>1</th>\n",
       "      <th>2</th>\n",
       "      <th>3</th>\n",
       "      <th>4</th>\n",
       "      <th>5</th>\n",
       "      <th>6</th>\n",
       "      <th>7</th>\n",
       "      <th>8</th>\n",
       "      <th>9</th>\n",
       "      <th>...</th>\n",
       "      <th>689</th>\n",
       "      <th>690</th>\n",
       "      <th>691</th>\n",
       "      <th>692</th>\n",
       "      <th>693</th>\n",
       "      <th>694</th>\n",
       "      <th>695</th>\n",
       "      <th>696</th>\n",
       "      <th>697</th>\n",
       "      <th>698</th>\n",
       "    </tr>\n",
       "  </thead>\n",
       "  <tbody>\n",
       "    <tr>\n",
       "      <th>1457</th>\n",
       "      <td>0.078372</td>\n",
       "      <td>0.0</td>\n",
       "      <td>0.0</td>\n",
       "      <td>0.0</td>\n",
       "      <td>0.0</td>\n",
       "      <td>0.0</td>\n",
       "      <td>0.0</td>\n",
       "      <td>0.0</td>\n",
       "      <td>0.0</td>\n",
       "      <td>0.0</td>\n",
       "      <td>...</td>\n",
       "      <td>0.101168</td>\n",
       "      <td>-0.994869</td>\n",
       "      <td>1.000000e+00</td>\n",
       "      <td>6.123234e-17</td>\n",
       "      <td>1.000000e+00</td>\n",
       "      <td>6.123234e-17</td>\n",
       "      <td>0.002618</td>\n",
       "      <td>0.999997</td>\n",
       "      <td>0.002618</td>\n",
       "      <td>0.999997</td>\n",
       "    </tr>\n",
       "    <tr>\n",
       "      <th>9281</th>\n",
       "      <td>0.078979</td>\n",
       "      <td>0.0</td>\n",
       "      <td>0.0</td>\n",
       "      <td>0.0</td>\n",
       "      <td>1.0</td>\n",
       "      <td>0.0</td>\n",
       "      <td>0.0</td>\n",
       "      <td>0.0</td>\n",
       "      <td>0.0</td>\n",
       "      <td>0.0</td>\n",
       "      <td>...</td>\n",
       "      <td>0.937752</td>\n",
       "      <td>0.347305</td>\n",
       "      <td>8.660254e-01</td>\n",
       "      <td>5.000000e-01</td>\n",
       "      <td>1.000000e+00</td>\n",
       "      <td>6.123234e-17</td>\n",
       "      <td>0.002618</td>\n",
       "      <td>0.999997</td>\n",
       "      <td>0.002618</td>\n",
       "      <td>0.999997</td>\n",
       "    </tr>\n",
       "    <tr>\n",
       "      <th>6351</th>\n",
       "      <td>0.151681</td>\n",
       "      <td>0.0</td>\n",
       "      <td>0.0</td>\n",
       "      <td>0.0</td>\n",
       "      <td>0.0</td>\n",
       "      <td>0.0</td>\n",
       "      <td>0.0</td>\n",
       "      <td>0.0</td>\n",
       "      <td>0.0</td>\n",
       "      <td>0.0</td>\n",
       "      <td>...</td>\n",
       "      <td>0.101168</td>\n",
       "      <td>-0.994869</td>\n",
       "      <td>-5.000000e-01</td>\n",
       "      <td>-8.660254e-01</td>\n",
       "      <td>-1.000000e+00</td>\n",
       "      <td>-1.836970e-16</td>\n",
       "      <td>0.007854</td>\n",
       "      <td>0.999969</td>\n",
       "      <td>0.007854</td>\n",
       "      <td>0.999969</td>\n",
       "    </tr>\n",
       "    <tr>\n",
       "      <th>5771</th>\n",
       "      <td>0.327055</td>\n",
       "      <td>1.0</td>\n",
       "      <td>0.0</td>\n",
       "      <td>0.0</td>\n",
       "      <td>0.0</td>\n",
       "      <td>0.0</td>\n",
       "      <td>0.0</td>\n",
       "      <td>0.0</td>\n",
       "      <td>0.0</td>\n",
       "      <td>0.0</td>\n",
       "      <td>...</td>\n",
       "      <td>0.394356</td>\n",
       "      <td>0.918958</td>\n",
       "      <td>-2.449294e-16</td>\n",
       "      <td>1.000000e+00</td>\n",
       "      <td>-2.449294e-16</td>\n",
       "      <td>1.000000e+00</td>\n",
       "      <td>0.010472</td>\n",
       "      <td>0.999945</td>\n",
       "      <td>0.010472</td>\n",
       "      <td>0.999945</td>\n",
       "    </tr>\n",
       "    <tr>\n",
       "      <th>13</th>\n",
       "      <td>0.426083</td>\n",
       "      <td>0.0</td>\n",
       "      <td>0.0</td>\n",
       "      <td>0.0</td>\n",
       "      <td>0.0</td>\n",
       "      <td>0.0</td>\n",
       "      <td>0.0</td>\n",
       "      <td>0.0</td>\n",
       "      <td>0.0</td>\n",
       "      <td>0.0</td>\n",
       "      <td>...</td>\n",
       "      <td>0.724793</td>\n",
       "      <td>0.688967</td>\n",
       "      <td>5.000000e-01</td>\n",
       "      <td>8.660254e-01</td>\n",
       "      <td>1.000000e+00</td>\n",
       "      <td>6.123234e-17</td>\n",
       "      <td>0.002618</td>\n",
       "      <td>0.999997</td>\n",
       "      <td>0.002618</td>\n",
       "      <td>0.999997</td>\n",
       "    </tr>\n",
       "    <tr>\n",
       "      <th>...</th>\n",
       "      <td>...</td>\n",
       "      <td>...</td>\n",
       "      <td>...</td>\n",
       "      <td>...</td>\n",
       "      <td>...</td>\n",
       "      <td>...</td>\n",
       "      <td>...</td>\n",
       "      <td>...</td>\n",
       "      <td>...</td>\n",
       "      <td>...</td>\n",
       "      <td>...</td>\n",
       "      <td>...</td>\n",
       "      <td>...</td>\n",
       "      <td>...</td>\n",
       "      <td>...</td>\n",
       "      <td>...</td>\n",
       "      <td>...</td>\n",
       "      <td>...</td>\n",
       "      <td>...</td>\n",
       "      <td>...</td>\n",
       "      <td>...</td>\n",
       "    </tr>\n",
       "    <tr>\n",
       "      <th>9984</th>\n",
       "      <td>0.034022</td>\n",
       "      <td>0.0</td>\n",
       "      <td>0.0</td>\n",
       "      <td>0.0</td>\n",
       "      <td>1.0</td>\n",
       "      <td>0.0</td>\n",
       "      <td>0.0</td>\n",
       "      <td>0.0</td>\n",
       "      <td>0.0</td>\n",
       "      <td>0.0</td>\n",
       "      <td>...</td>\n",
       "      <td>-0.485302</td>\n",
       "      <td>-0.874347</td>\n",
       "      <td>-5.000000e-01</td>\n",
       "      <td>-8.660254e-01</td>\n",
       "      <td>-1.000000e+00</td>\n",
       "      <td>-1.836970e-16</td>\n",
       "      <td>0.007854</td>\n",
       "      <td>0.999969</td>\n",
       "      <td>0.007854</td>\n",
       "      <td>0.999969</td>\n",
       "    </tr>\n",
       "    <tr>\n",
       "      <th>9985</th>\n",
       "      <td>0.222357</td>\n",
       "      <td>1.0</td>\n",
       "      <td>0.0</td>\n",
       "      <td>0.0</td>\n",
       "      <td>0.0</td>\n",
       "      <td>0.0</td>\n",
       "      <td>0.0</td>\n",
       "      <td>0.0</td>\n",
       "      <td>0.0</td>\n",
       "      <td>0.0</td>\n",
       "      <td>...</td>\n",
       "      <td>0.485302</td>\n",
       "      <td>-0.874347</td>\n",
       "      <td>5.000000e-01</td>\n",
       "      <td>8.660254e-01</td>\n",
       "      <td>1.000000e+00</td>\n",
       "      <td>6.123234e-17</td>\n",
       "      <td>0.002618</td>\n",
       "      <td>0.999997</td>\n",
       "      <td>0.002618</td>\n",
       "      <td>0.999997</td>\n",
       "    </tr>\n",
       "    <tr>\n",
       "      <th>9992</th>\n",
       "      <td>0.121709</td>\n",
       "      <td>0.0</td>\n",
       "      <td>0.0</td>\n",
       "      <td>0.0</td>\n",
       "      <td>0.0</td>\n",
       "      <td>0.0</td>\n",
       "      <td>0.0</td>\n",
       "      <td>0.0</td>\n",
       "      <td>0.0</td>\n",
       "      <td>0.0</td>\n",
       "      <td>...</td>\n",
       "      <td>0.299363</td>\n",
       "      <td>-0.954139</td>\n",
       "      <td>1.224647e-16</td>\n",
       "      <td>-1.000000e+00</td>\n",
       "      <td>1.224647e-16</td>\n",
       "      <td>-1.000000e+00</td>\n",
       "      <td>0.005236</td>\n",
       "      <td>0.999986</td>\n",
       "      <td>0.005236</td>\n",
       "      <td>0.999986</td>\n",
       "    </tr>\n",
       "    <tr>\n",
       "      <th>9993</th>\n",
       "      <td>0.036047</td>\n",
       "      <td>0.0</td>\n",
       "      <td>0.0</td>\n",
       "      <td>0.0</td>\n",
       "      <td>1.0</td>\n",
       "      <td>0.0</td>\n",
       "      <td>0.0</td>\n",
       "      <td>0.0</td>\n",
       "      <td>0.0</td>\n",
       "      <td>0.0</td>\n",
       "      <td>...</td>\n",
       "      <td>-0.968077</td>\n",
       "      <td>-0.250653</td>\n",
       "      <td>5.000000e-01</td>\n",
       "      <td>-8.660254e-01</td>\n",
       "      <td>1.224647e-16</td>\n",
       "      <td>-1.000000e+00</td>\n",
       "      <td>0.005236</td>\n",
       "      <td>0.999986</td>\n",
       "      <td>0.005236</td>\n",
       "      <td>0.999986</td>\n",
       "    </tr>\n",
       "    <tr>\n",
       "      <th>9994</th>\n",
       "      <td>0.233698</td>\n",
       "      <td>0.0</td>\n",
       "      <td>0.0</td>\n",
       "      <td>0.0</td>\n",
       "      <td>1.0</td>\n",
       "      <td>0.0</td>\n",
       "      <td>0.0</td>\n",
       "      <td>0.0</td>\n",
       "      <td>0.0</td>\n",
       "      <td>0.0</td>\n",
       "      <td>...</td>\n",
       "      <td>0.724793</td>\n",
       "      <td>0.688967</td>\n",
       "      <td>-8.660254e-01</td>\n",
       "      <td>-5.000000e-01</td>\n",
       "      <td>-1.000000e+00</td>\n",
       "      <td>-1.836970e-16</td>\n",
       "      <td>0.007854</td>\n",
       "      <td>0.999969</td>\n",
       "      <td>0.007854</td>\n",
       "      <td>0.999969</td>\n",
       "    </tr>\n",
       "  </tbody>\n",
       "</table>\n",
       "<p>5471 rows × 699 columns</p>\n",
       "</div>"
      ],
      "text/plain": [
       "           0    1    2    3    4    5    6    7    8    9    ...       689  \\\n",
       "1457  0.078372  0.0  0.0  0.0  0.0  0.0  0.0  0.0  0.0  0.0  ...  0.101168   \n",
       "9281  0.078979  0.0  0.0  0.0  1.0  0.0  0.0  0.0  0.0  0.0  ...  0.937752   \n",
       "6351  0.151681  0.0  0.0  0.0  0.0  0.0  0.0  0.0  0.0  0.0  ...  0.101168   \n",
       "5771  0.327055  1.0  0.0  0.0  0.0  0.0  0.0  0.0  0.0  0.0  ...  0.394356   \n",
       "13    0.426083  0.0  0.0  0.0  0.0  0.0  0.0  0.0  0.0  0.0  ...  0.724793   \n",
       "...        ...  ...  ...  ...  ...  ...  ...  ...  ...  ...  ...       ...   \n",
       "9984  0.034022  0.0  0.0  0.0  1.0  0.0  0.0  0.0  0.0  0.0  ... -0.485302   \n",
       "9985  0.222357  1.0  0.0  0.0  0.0  0.0  0.0  0.0  0.0  0.0  ...  0.485302   \n",
       "9992  0.121709  0.0  0.0  0.0  0.0  0.0  0.0  0.0  0.0  0.0  ...  0.299363   \n",
       "9993  0.036047  0.0  0.0  0.0  1.0  0.0  0.0  0.0  0.0  0.0  ... -0.968077   \n",
       "9994  0.233698  0.0  0.0  0.0  1.0  0.0  0.0  0.0  0.0  0.0  ...  0.724793   \n",
       "\n",
       "           690           691           692           693           694  \\\n",
       "1457 -0.994869  1.000000e+00  6.123234e-17  1.000000e+00  6.123234e-17   \n",
       "9281  0.347305  8.660254e-01  5.000000e-01  1.000000e+00  6.123234e-17   \n",
       "6351 -0.994869 -5.000000e-01 -8.660254e-01 -1.000000e+00 -1.836970e-16   \n",
       "5771  0.918958 -2.449294e-16  1.000000e+00 -2.449294e-16  1.000000e+00   \n",
       "13    0.688967  5.000000e-01  8.660254e-01  1.000000e+00  6.123234e-17   \n",
       "...        ...           ...           ...           ...           ...   \n",
       "9984 -0.874347 -5.000000e-01 -8.660254e-01 -1.000000e+00 -1.836970e-16   \n",
       "9985 -0.874347  5.000000e-01  8.660254e-01  1.000000e+00  6.123234e-17   \n",
       "9992 -0.954139  1.224647e-16 -1.000000e+00  1.224647e-16 -1.000000e+00   \n",
       "9993 -0.250653  5.000000e-01 -8.660254e-01  1.224647e-16 -1.000000e+00   \n",
       "9994  0.688967 -8.660254e-01 -5.000000e-01 -1.000000e+00 -1.836970e-16   \n",
       "\n",
       "           695       696       697       698  \n",
       "1457  0.002618  0.999997  0.002618  0.999997  \n",
       "9281  0.002618  0.999997  0.002618  0.999997  \n",
       "6351  0.007854  0.999969  0.007854  0.999969  \n",
       "5771  0.010472  0.999945  0.010472  0.999945  \n",
       "13    0.002618  0.999997  0.002618  0.999997  \n",
       "...        ...       ...       ...       ...  \n",
       "9984  0.007854  0.999969  0.007854  0.999969  \n",
       "9985  0.002618  0.999997  0.002618  0.999997  \n",
       "9992  0.005236  0.999986  0.005236  0.999986  \n",
       "9993  0.005236  0.999986  0.005236  0.999986  \n",
       "9994  0.007854  0.999969  0.007854  0.999969  \n",
       "\n",
       "[5471 rows x 699 columns]"
      ]
     },
     "execution_count": 75,
     "metadata": {},
     "output_type": "execute_result"
    }
   ],
   "source": [
    "new_X = X.iloc[new_y.index]\n",
    "new_X"
   ]
  },
  {
   "cell_type": "code",
   "execution_count": 76,
   "metadata": {},
   "outputs": [
    {
     "data": {
      "text/plain": [
       "array([0.20182648, 0.21755027, 0.06032907, 0.19835466, 0.19378428])"
      ]
     },
     "execution_count": 76,
     "metadata": {},
     "output_type": "execute_result"
    }
   ],
   "source": [
    "sgd_model_2 = SGDClassifier(loss='log_loss')\n",
    "sgd_model_2.fit(new_X,new_y[0])\n",
    "cross_val_score(sgd_model, new_X, new_y[0], cv=5, scoring='accuracy')"
   ]
  },
  {
   "cell_type": "code",
   "execution_count": null,
   "metadata": {},
   "outputs": [],
   "source": []
  }
 ],
 "metadata": {
  "kernelspec": {
   "display_name": "Python 3.8.12 64-bit ('delai')",
   "language": "python",
   "name": "python3"
  },
  "language_info": {
   "codemirror_mode": {
    "name": "ipython",
    "version": 3
   },
   "file_extension": ".py",
   "mimetype": "text/x-python",
   "name": "python",
   "nbconvert_exporter": "python",
   "pygments_lexer": "ipython3",
   "version": "3.8.12"
  },
  "orig_nbformat": 4,
  "vscode": {
   "interpreter": {
    "hash": "0875b2852ba53d04eef81221e37e4b35e2d8d6d991ba847490f1cdc34d293f04"
   }
  }
 },
 "nbformat": 4,
 "nbformat_minor": 2
}
