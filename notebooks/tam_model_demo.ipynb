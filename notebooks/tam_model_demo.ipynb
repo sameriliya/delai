{
 "cells": [
  {
   "cell_type": "code",
   "execution_count": 175,
   "id": "c778b60a",
   "metadata": {},
   "outputs": [],
   "source": [
    "import pandas as pd\n",
    "import numpy as np\n",
    "import xgboost as xgb\n",
    "\n",
    "from delai.data.local_disk import get_pandas_chunk\n",
    "from delai.ml_logic.preprocessing import preprocess_X, preprocess_y\n",
    "\n",
    "from sklearn.metrics import classification_report, accuracy_score, recall_score\n",
    "from sklearn.model_selection import train_test_split\n",
    "from sklearn.tree import DecisionTreeClassifier\n",
    "from sklearn.model_selection import cross_validate\n",
    "from sklearn.model_selection import cross_val_score\n",
    "from sklearn import datasets\n",
    "from sklearn import tree\n",
    "from xgboost import XGBClassifier\n",
    "\n",
    "from matplotlib import pyplot as plt"
   ]
  },
  {
   "cell_type": "markdown",
   "id": "ddfe64a7",
   "metadata": {},
   "source": [
    "## Import CSV & create X / y datasets"
   ]
  },
  {
   "cell_type": "code",
   "execution_count": 176,
   "id": "a56dd18d",
   "metadata": {},
   "outputs": [],
   "source": [
    "df_X = pd.read_csv('../raw_data/train_100k.csv')\n",
    "df_y = pd.read_csv('../raw_data/train_100k.csv')"
   ]
  },
  {
   "cell_type": "code",
   "execution_count": 177,
   "id": "bce4f986",
   "metadata": {},
   "outputs": [],
   "source": [
    "df_X = df_X.drop(columns=[\"ArrDelayMinutes\" , \"Cancelled\", \"Diverted\"], axis =1)\n",
    "df_y = df_y.drop(df_y.iloc[:, 1:22],axis = 1)"
   ]
  },
  {
   "cell_type": "code",
   "execution_count": 178,
   "id": "4f97ef9f",
   "metadata": {},
   "outputs": [
    {
     "data": {
      "text/html": [
       "<div>\n",
       "<style scoped>\n",
       "    .dataframe tbody tr th:only-of-type {\n",
       "        vertical-align: middle;\n",
       "    }\n",
       "\n",
       "    .dataframe tbody tr th {\n",
       "        vertical-align: top;\n",
       "    }\n",
       "\n",
       "    .dataframe thead th {\n",
       "        text-align: right;\n",
       "    }\n",
       "</style>\n",
       "<table border=\"1\" class=\"dataframe\">\n",
       "  <thead>\n",
       "    <tr style=\"text-align: right;\">\n",
       "      <th></th>\n",
       "      <th>Unnamed: 0</th>\n",
       "      <th>FlightDate</th>\n",
       "      <th>Year</th>\n",
       "      <th>Quarter</th>\n",
       "      <th>Month</th>\n",
       "      <th>DayofMonth</th>\n",
       "      <th>DayOfWeek</th>\n",
       "      <th>Airline</th>\n",
       "      <th>Operating_Airline</th>\n",
       "      <th>Marketing_Airline_Network</th>\n",
       "      <th>...</th>\n",
       "      <th>Dest</th>\n",
       "      <th>CRSDepTime</th>\n",
       "      <th>OriginAirportID</th>\n",
       "      <th>OriginCityName</th>\n",
       "      <th>OriginStateName</th>\n",
       "      <th>DestAirportID</th>\n",
       "      <th>DestCityName</th>\n",
       "      <th>DestStateName</th>\n",
       "      <th>CRSArrTime</th>\n",
       "      <th>Distance</th>\n",
       "    </tr>\n",
       "  </thead>\n",
       "  <tbody>\n",
       "    <tr>\n",
       "      <th>0</th>\n",
       "      <td>4324343</td>\n",
       "      <td>7/20/2018</td>\n",
       "      <td>2018</td>\n",
       "      <td>3</td>\n",
       "      <td>7</td>\n",
       "      <td>20</td>\n",
       "      <td>5</td>\n",
       "      <td>Southwest Airlines Co.</td>\n",
       "      <td>WN</td>\n",
       "      <td>WN</td>\n",
       "      <td>...</td>\n",
       "      <td>DAL</td>\n",
       "      <td>1200</td>\n",
       "      <td>12889</td>\n",
       "      <td>Las Vegas, NV</td>\n",
       "      <td>Nevada</td>\n",
       "      <td>11259</td>\n",
       "      <td>Dallas, TX</td>\n",
       "      <td>Texas</td>\n",
       "      <td>1640</td>\n",
       "      <td>1067</td>\n",
       "    </tr>\n",
       "    <tr>\n",
       "      <th>1</th>\n",
       "      <td>28169346</td>\n",
       "      <td>1/2/2022</td>\n",
       "      <td>2022</td>\n",
       "      <td>1</td>\n",
       "      <td>1</td>\n",
       "      <td>2</td>\n",
       "      <td>7</td>\n",
       "      <td>Spirit Air Lines</td>\n",
       "      <td>NK</td>\n",
       "      <td>NK</td>\n",
       "      <td>...</td>\n",
       "      <td>MSY</td>\n",
       "      <td>2110</td>\n",
       "      <td>15304</td>\n",
       "      <td>Tampa, FL</td>\n",
       "      <td>Florida</td>\n",
       "      <td>13495</td>\n",
       "      <td>New Orleans, LA</td>\n",
       "      <td>Louisiana</td>\n",
       "      <td>2148</td>\n",
       "      <td>488</td>\n",
       "    </tr>\n",
       "    <tr>\n",
       "      <th>2</th>\n",
       "      <td>18078508</td>\n",
       "      <td>2/11/2020</td>\n",
       "      <td>2020</td>\n",
       "      <td>1</td>\n",
       "      <td>2</td>\n",
       "      <td>11</td>\n",
       "      <td>2</td>\n",
       "      <td>Air Wisconsin Airlines Corp</td>\n",
       "      <td>ZW</td>\n",
       "      <td>UA</td>\n",
       "      <td>...</td>\n",
       "      <td>ORF</td>\n",
       "      <td>930</td>\n",
       "      <td>13930</td>\n",
       "      <td>Chicago, IL</td>\n",
       "      <td>Illinois</td>\n",
       "      <td>13931</td>\n",
       "      <td>Norfolk, VA</td>\n",
       "      <td>Virginia</td>\n",
       "      <td>1245</td>\n",
       "      <td>717</td>\n",
       "    </tr>\n",
       "    <tr>\n",
       "      <th>3</th>\n",
       "      <td>23669089</td>\n",
       "      <td>2/10/2021</td>\n",
       "      <td>2021</td>\n",
       "      <td>1</td>\n",
       "      <td>2</td>\n",
       "      <td>10</td>\n",
       "      <td>3</td>\n",
       "      <td>United Air Lines Inc.</td>\n",
       "      <td>UA</td>\n",
       "      <td>UA</td>\n",
       "      <td>...</td>\n",
       "      <td>IAH</td>\n",
       "      <td>700</td>\n",
       "      <td>15304</td>\n",
       "      <td>Tampa, FL</td>\n",
       "      <td>Florida</td>\n",
       "      <td>12266</td>\n",
       "      <td>Houston, TX</td>\n",
       "      <td>Texas</td>\n",
       "      <td>828</td>\n",
       "      <td>787</td>\n",
       "    </tr>\n",
       "    <tr>\n",
       "      <th>4</th>\n",
       "      <td>14530840</td>\n",
       "      <td>3/12/2020</td>\n",
       "      <td>2020</td>\n",
       "      <td>1</td>\n",
       "      <td>3</td>\n",
       "      <td>12</td>\n",
       "      <td>4</td>\n",
       "      <td>JetBlue Airways</td>\n",
       "      <td>B6</td>\n",
       "      <td>B6</td>\n",
       "      <td>...</td>\n",
       "      <td>BOS</td>\n",
       "      <td>1324</td>\n",
       "      <td>11278</td>\n",
       "      <td>Washington, DC</td>\n",
       "      <td>Virginia</td>\n",
       "      <td>10721</td>\n",
       "      <td>Boston, MA</td>\n",
       "      <td>Massachusetts</td>\n",
       "      <td>1455</td>\n",
       "      <td>399</td>\n",
       "    </tr>\n",
       "  </tbody>\n",
       "</table>\n",
       "<p>5 rows × 22 columns</p>\n",
       "</div>"
      ],
      "text/plain": [
       "   Unnamed: 0 FlightDate  Year  Quarter  Month  DayofMonth  DayOfWeek  \\\n",
       "0     4324343  7/20/2018  2018        3      7          20          5   \n",
       "1    28169346   1/2/2022  2022        1      1           2          7   \n",
       "2    18078508  2/11/2020  2020        1      2          11          2   \n",
       "3    23669089  2/10/2021  2021        1      2          10          3   \n",
       "4    14530840  3/12/2020  2020        1      3          12          4   \n",
       "\n",
       "                       Airline Operating_Airline Marketing_Airline_Network  \\\n",
       "0       Southwest Airlines Co.                WN                        WN   \n",
       "1             Spirit Air Lines                NK                        NK   \n",
       "2  Air Wisconsin Airlines Corp                ZW                        UA   \n",
       "3        United Air Lines Inc.                UA                        UA   \n",
       "4              JetBlue Airways                B6                        B6   \n",
       "\n",
       "   ...  Dest CRSDepTime OriginAirportID  OriginCityName  OriginStateName  \\\n",
       "0  ...   DAL       1200           12889   Las Vegas, NV           Nevada   \n",
       "1  ...   MSY       2110           15304       Tampa, FL          Florida   \n",
       "2  ...   ORF        930           13930     Chicago, IL         Illinois   \n",
       "3  ...   IAH        700           15304       Tampa, FL          Florida   \n",
       "4  ...   BOS       1324           11278  Washington, DC         Virginia   \n",
       "\n",
       "  DestAirportID     DestCityName  DestStateName CRSArrTime Distance  \n",
       "0         11259       Dallas, TX          Texas       1640     1067  \n",
       "1         13495  New Orleans, LA      Louisiana       2148      488  \n",
       "2         13931      Norfolk, VA       Virginia       1245      717  \n",
       "3         12266      Houston, TX          Texas        828      787  \n",
       "4         10721       Boston, MA  Massachusetts       1455      399  \n",
       "\n",
       "[5 rows x 22 columns]"
      ]
     },
     "execution_count": 178,
     "metadata": {},
     "output_type": "execute_result"
    }
   ],
   "source": [
    "df_X.head()\n"
   ]
  },
  {
   "cell_type": "code",
   "execution_count": 179,
   "id": "eecbfa75",
   "metadata": {},
   "outputs": [
    {
     "data": {
      "text/html": [
       "<div>\n",
       "<style scoped>\n",
       "    .dataframe tbody tr th:only-of-type {\n",
       "        vertical-align: middle;\n",
       "    }\n",
       "\n",
       "    .dataframe tbody tr th {\n",
       "        vertical-align: top;\n",
       "    }\n",
       "\n",
       "    .dataframe thead th {\n",
       "        text-align: right;\n",
       "    }\n",
       "</style>\n",
       "<table border=\"1\" class=\"dataframe\">\n",
       "  <thead>\n",
       "    <tr style=\"text-align: right;\">\n",
       "      <th></th>\n",
       "      <th>Unnamed: 0</th>\n",
       "      <th>ArrDelayMinutes</th>\n",
       "      <th>Cancelled</th>\n",
       "      <th>Diverted</th>\n",
       "    </tr>\n",
       "  </thead>\n",
       "  <tbody>\n",
       "    <tr>\n",
       "      <th>0</th>\n",
       "      <td>4324343</td>\n",
       "      <td>0.0</td>\n",
       "      <td>False</td>\n",
       "      <td>False</td>\n",
       "    </tr>\n",
       "    <tr>\n",
       "      <th>1</th>\n",
       "      <td>28169346</td>\n",
       "      <td>2.0</td>\n",
       "      <td>False</td>\n",
       "      <td>False</td>\n",
       "    </tr>\n",
       "    <tr>\n",
       "      <th>2</th>\n",
       "      <td>18078508</td>\n",
       "      <td>0.0</td>\n",
       "      <td>False</td>\n",
       "      <td>False</td>\n",
       "    </tr>\n",
       "    <tr>\n",
       "      <th>3</th>\n",
       "      <td>23669089</td>\n",
       "      <td>0.0</td>\n",
       "      <td>False</td>\n",
       "      <td>False</td>\n",
       "    </tr>\n",
       "    <tr>\n",
       "      <th>4</th>\n",
       "      <td>14530840</td>\n",
       "      <td>0.0</td>\n",
       "      <td>False</td>\n",
       "      <td>False</td>\n",
       "    </tr>\n",
       "  </tbody>\n",
       "</table>\n",
       "</div>"
      ],
      "text/plain": [
       "   Unnamed: 0  ArrDelayMinutes  Cancelled  Diverted\n",
       "0     4324343              0.0      False     False\n",
       "1    28169346              2.0      False     False\n",
       "2    18078508              0.0      False     False\n",
       "3    23669089              0.0      False     False\n",
       "4    14530840              0.0      False     False"
      ]
     },
     "execution_count": 179,
     "metadata": {},
     "output_type": "execute_result"
    }
   ],
   "source": [
    "df_y.head()"
   ]
  },
  {
   "cell_type": "markdown",
   "id": "972416ff",
   "metadata": {},
   "source": [
    "## Preprocess data"
   ]
  },
  {
   "cell_type": "code",
   "execution_count": 180,
   "id": "e7f5d935",
   "metadata": {},
   "outputs": [
    {
     "name": "stdout",
     "output_type": "stream",
     "text": [
      "✅ preprocess_X() done\n"
     ]
    }
   ],
   "source": [
    "X = preprocess_X(df_X[:25000])"
   ]
  },
  {
   "cell_type": "code",
   "execution_count": 181,
   "id": "21a24bbc",
   "metadata": {
    "scrolled": true
   },
   "outputs": [
    {
     "name": "stdout",
     "output_type": "stream",
     "text": [
      "✅ BINARY preprocess_y() done\n"
     ]
    },
    {
     "name": "stderr",
     "output_type": "stream",
     "text": [
      "/home/tamara/code/sameriliya/delai/delai/ml_logic/preprocessing.py:95: SettingWithCopyWarning: \n",
      "A value is trying to be set on a copy of a slice from a DataFrame.\n",
      "Try using .loc[row_indexer,col_indexer] = value instead\n",
      "\n",
      "See the caveats in the documentation: https://pandas.pydata.org/pandas-docs/stable/user_guide/indexing.html#returning-a-view-versus-a-copy\n",
      "  y[\"DelayGroup\"] = None\n"
     ]
    }
   ],
   "source": [
    "y = preprocess_y(df_y[:25000])"
   ]
  },
  {
   "cell_type": "code",
   "execution_count": 182,
   "id": "ace83da3",
   "metadata": {},
   "outputs": [
    {
     "data": {
      "text/plain": [
       "(array([0, 1]), array([ 3365, 21635]))"
      ]
     },
     "execution_count": 182,
     "metadata": {},
     "output_type": "execute_result"
    }
   ],
   "source": [
    "np.unique(y, return_counts=True)"
   ]
  },
  {
   "cell_type": "code",
   "execution_count": 183,
   "id": "2fe301bd",
   "metadata": {},
   "outputs": [],
   "source": [
    "#X = X.drop(columns=[680], axis =)\n",
    "X = X.dropna()"
   ]
  },
  {
   "cell_type": "markdown",
   "id": "426b77d1",
   "metadata": {},
   "source": [
    "## t_t_s & inspect\n"
   ]
  },
  {
   "cell_type": "code",
   "execution_count": 184,
   "id": "836582ce",
   "metadata": {},
   "outputs": [],
   "source": [
    "X_train, X_test, y_train, y_test = train_test_split(X, y,test_size=0.2, random_state = 1)"
   ]
  },
  {
   "cell_type": "code",
   "execution_count": 185,
   "id": "4045ba17",
   "metadata": {},
   "outputs": [
    {
     "data": {
      "text/plain": [
       "(25000, 752)"
      ]
     },
     "execution_count": 185,
     "metadata": {},
     "output_type": "execute_result"
    }
   ],
   "source": [
    "X.shape"
   ]
  },
  {
   "cell_type": "code",
   "execution_count": 186,
   "id": "b22c709e",
   "metadata": {},
   "outputs": [
    {
     "data": {
      "text/plain": [
       "(25000,)"
      ]
     },
     "execution_count": 186,
     "metadata": {},
     "output_type": "execute_result"
    }
   ],
   "source": [
    "y.shape"
   ]
  },
  {
   "cell_type": "markdown",
   "id": "6729e5e9",
   "metadata": {},
   "source": [
    "## DecisionTreeClassifier"
   ]
  },
  {
   "cell_type": "code",
   "execution_count": 232,
   "id": "878f769e",
   "metadata": {},
   "outputs": [],
   "source": [
    "clf = DecisionTreeClassifier(max_depth=None, min_samples_leaf=60, random_state=None, splitter='best', min_samples_split=40)\n",
    "clf.fit(X_train,y_train)\n",
    "pred = clf.predict(X_test)\n"
   ]
  },
  {
   "cell_type": "code",
   "execution_count": 233,
   "id": "4ba23187",
   "metadata": {},
   "outputs": [
    {
     "data": {
      "text/plain": [
       "array([1, 1, 1, ..., 1, 1, 1])"
      ]
     },
     "execution_count": 233,
     "metadata": {},
     "output_type": "execute_result"
    }
   ],
   "source": [
    "pred"
   ]
  },
  {
   "cell_type": "code",
   "execution_count": 234,
   "id": "3b89ba17",
   "metadata": {
    "scrolled": true
   },
   "outputs": [
    {
     "name": "stdout",
     "output_type": "stream",
     "text": [
      "Accuracy of Model:: 0.8676\n"
     ]
    }
   ],
   "source": [
    "\n",
    "print(\"Accuracy of Model::\",accuracy_score(y_test,pred))"
   ]
  },
  {
   "cell_type": "code",
   "execution_count": 235,
   "id": "8a721234",
   "metadata": {
    "scrolled": true
   },
   "outputs": [
    {
     "name": "stdout",
     "output_type": "stream",
     "text": [
      "Classification Report:\n",
      "              precision    recall  f1-score   support\n",
      "\n",
      "           0       0.31      0.01      0.01       657\n",
      "           1       0.87      1.00      0.93      4343\n",
      "\n",
      "    accuracy                           0.87      5000\n",
      "   macro avg       0.59      0.50      0.47      5000\n",
      "weighted avg       0.80      0.87      0.81      5000\n",
      "\n"
     ]
    }
   ],
   "source": [
    "score = classification_report(y_test, pred)\n",
    "print('Classification Report:',)\n",
    "print (score)"
   ]
  },
  {
   "cell_type": "code",
   "execution_count": 236,
   "id": "2c21c0d6",
   "metadata": {},
   "outputs": [
    {
     "data": {
      "text/plain": [
       "array([0, 1])"
      ]
     },
     "execution_count": 236,
     "metadata": {},
     "output_type": "execute_result"
    }
   ],
   "source": [
    "np.unique(pred)"
   ]
  },
  {
   "cell_type": "code",
   "execution_count": 237,
   "id": "872a0901",
   "metadata": {},
   "outputs": [
    {
     "data": {
      "text/plain": [
       "array([0, 1])"
      ]
     },
     "execution_count": 237,
     "metadata": {},
     "output_type": "execute_result"
    }
   ],
   "source": [
    "np.unique(y_test)"
   ]
  },
  {
   "cell_type": "code",
   "execution_count": 238,
   "id": "63f6e0f0",
   "metadata": {},
   "outputs": [
    {
     "name": "stdout",
     "output_type": "stream",
     "text": [
      "[1 1 1 1 1 1 1 1 1 1 1 1 1 1 1 1 1 1 1 1]\n"
     ]
    }
   ],
   "source": [
    "print(pred[:20])"
   ]
  },
  {
   "cell_type": "code",
   "execution_count": 239,
   "id": "71aa4f98",
   "metadata": {},
   "outputs": [
    {
     "data": {
      "text/plain": [
       "array([0.86275, 0.86475, 0.8645 , 0.8645 , 0.864  ])"
      ]
     },
     "execution_count": 239,
     "metadata": {},
     "output_type": "execute_result"
    }
   ],
   "source": [
    "cross_val_score(clf, X_train, y_train, scoring = 'accuracy', cv=5)"
   ]
  },
  {
   "cell_type": "markdown",
   "id": "c4b3c447",
   "metadata": {},
   "source": [
    "## XGBoost"
   ]
  },
  {
   "cell_type": "code",
   "execution_count": 211,
   "id": "dddfde03",
   "metadata": {},
   "outputs": [],
   "source": [
    "xgb = XGBClassifier(learning_rate=0.02, n_estimators=600, objective='binary:logistic',\n",
    "                    silent=True, nthread=1)"
   ]
  },
  {
   "cell_type": "code",
   "execution_count": 212,
   "id": "41c2d507",
   "metadata": {},
   "outputs": [
    {
     "data": {
      "text/html": [
       "<style>#sk-container-id-6 {color: black;background-color: white;}#sk-container-id-6 pre{padding: 0;}#sk-container-id-6 div.sk-toggleable {background-color: white;}#sk-container-id-6 label.sk-toggleable__label {cursor: pointer;display: block;width: 100%;margin-bottom: 0;padding: 0.3em;box-sizing: border-box;text-align: center;}#sk-container-id-6 label.sk-toggleable__label-arrow:before {content: \"▸\";float: left;margin-right: 0.25em;color: #696969;}#sk-container-id-6 label.sk-toggleable__label-arrow:hover:before {color: black;}#sk-container-id-6 div.sk-estimator:hover label.sk-toggleable__label-arrow:before {color: black;}#sk-container-id-6 div.sk-toggleable__content {max-height: 0;max-width: 0;overflow: hidden;text-align: left;background-color: #f0f8ff;}#sk-container-id-6 div.sk-toggleable__content pre {margin: 0.2em;color: black;border-radius: 0.25em;background-color: #f0f8ff;}#sk-container-id-6 input.sk-toggleable__control:checked~div.sk-toggleable__content {max-height: 200px;max-width: 100%;overflow: auto;}#sk-container-id-6 input.sk-toggleable__control:checked~label.sk-toggleable__label-arrow:before {content: \"▾\";}#sk-container-id-6 div.sk-estimator input.sk-toggleable__control:checked~label.sk-toggleable__label {background-color: #d4ebff;}#sk-container-id-6 div.sk-label input.sk-toggleable__control:checked~label.sk-toggleable__label {background-color: #d4ebff;}#sk-container-id-6 input.sk-hidden--visually {border: 0;clip: rect(1px 1px 1px 1px);clip: rect(1px, 1px, 1px, 1px);height: 1px;margin: -1px;overflow: hidden;padding: 0;position: absolute;width: 1px;}#sk-container-id-6 div.sk-estimator {font-family: monospace;background-color: #f0f8ff;border: 1px dotted black;border-radius: 0.25em;box-sizing: border-box;margin-bottom: 0.5em;}#sk-container-id-6 div.sk-estimator:hover {background-color: #d4ebff;}#sk-container-id-6 div.sk-parallel-item::after {content: \"\";width: 100%;border-bottom: 1px solid gray;flex-grow: 1;}#sk-container-id-6 div.sk-label:hover label.sk-toggleable__label {background-color: #d4ebff;}#sk-container-id-6 div.sk-serial::before {content: \"\";position: absolute;border-left: 1px solid gray;box-sizing: border-box;top: 0;bottom: 0;left: 50%;z-index: 0;}#sk-container-id-6 div.sk-serial {display: flex;flex-direction: column;align-items: center;background-color: white;padding-right: 0.2em;padding-left: 0.2em;position: relative;}#sk-container-id-6 div.sk-item {position: relative;z-index: 1;}#sk-container-id-6 div.sk-parallel {display: flex;align-items: stretch;justify-content: center;background-color: white;position: relative;}#sk-container-id-6 div.sk-item::before, #sk-container-id-6 div.sk-parallel-item::before {content: \"\";position: absolute;border-left: 1px solid gray;box-sizing: border-box;top: 0;bottom: 0;left: 50%;z-index: -1;}#sk-container-id-6 div.sk-parallel-item {display: flex;flex-direction: column;z-index: 1;position: relative;background-color: white;}#sk-container-id-6 div.sk-parallel-item:first-child::after {align-self: flex-end;width: 50%;}#sk-container-id-6 div.sk-parallel-item:last-child::after {align-self: flex-start;width: 50%;}#sk-container-id-6 div.sk-parallel-item:only-child::after {width: 0;}#sk-container-id-6 div.sk-dashed-wrapped {border: 1px dashed gray;margin: 0 0.4em 0.5em 0.4em;box-sizing: border-box;padding-bottom: 0.4em;background-color: white;}#sk-container-id-6 div.sk-label label {font-family: monospace;font-weight: bold;display: inline-block;line-height: 1.2em;}#sk-container-id-6 div.sk-label-container {text-align: center;}#sk-container-id-6 div.sk-container {/* jupyter's `normalize.less` sets `[hidden] { display: none; }` but bootstrap.min.css set `[hidden] { display: none !important; }` so we also need the `!important` here to be able to override the default hidden behavior on the sphinx rendered scikit-learn.org. See: https://github.com/scikit-learn/scikit-learn/issues/21755 */display: inline-block !important;position: relative;}#sk-container-id-6 div.sk-text-repr-fallback {display: none;}</style><div id=\"sk-container-id-6\" class=\"sk-top-container\"><div class=\"sk-text-repr-fallback\"><pre>XGBClassifier(base_score=0.5, booster=&#x27;gbtree&#x27;, callbacks=None,\n",
       "              colsample_bylevel=1, colsample_bynode=1, colsample_bytree=1,\n",
       "              early_stopping_rounds=None, enable_categorical=False,\n",
       "              eval_metric=None, feature_types=None, gamma=0, gpu_id=-1,\n",
       "              grow_policy=&#x27;depthwise&#x27;, importance_type=None,\n",
       "              interaction_constraints=&#x27;&#x27;, learning_rate=0.300000012,\n",
       "              max_bin=256, max_cat_threshold=64, max_cat_to_onehot=4,\n",
       "              max_delta_step=0, max_depth=6, max_leaves=0, min_child_weight=1,\n",
       "              missing=nan, monotone_constraints=&#x27;()&#x27;, n_estimators=100,\n",
       "              n_jobs=0, num_parallel_tree=1, predictor=&#x27;auto&#x27;, random_state=0, ...)</pre><b>In a Jupyter environment, please rerun this cell to show the HTML representation or trust the notebook. <br />On GitHub, the HTML representation is unable to render, please try loading this page with nbviewer.org.</b></div><div class=\"sk-container\" hidden><div class=\"sk-item\"><div class=\"sk-estimator sk-toggleable\"><input class=\"sk-toggleable__control sk-hidden--visually\" id=\"sk-estimator-id-6\" type=\"checkbox\" checked><label for=\"sk-estimator-id-6\" class=\"sk-toggleable__label sk-toggleable__label-arrow\">XGBClassifier</label><div class=\"sk-toggleable__content\"><pre>XGBClassifier(base_score=0.5, booster=&#x27;gbtree&#x27;, callbacks=None,\n",
       "              colsample_bylevel=1, colsample_bynode=1, colsample_bytree=1,\n",
       "              early_stopping_rounds=None, enable_categorical=False,\n",
       "              eval_metric=None, feature_types=None, gamma=0, gpu_id=-1,\n",
       "              grow_policy=&#x27;depthwise&#x27;, importance_type=None,\n",
       "              interaction_constraints=&#x27;&#x27;, learning_rate=0.300000012,\n",
       "              max_bin=256, max_cat_threshold=64, max_cat_to_onehot=4,\n",
       "              max_delta_step=0, max_depth=6, max_leaves=0, min_child_weight=1,\n",
       "              missing=nan, monotone_constraints=&#x27;()&#x27;, n_estimators=100,\n",
       "              n_jobs=0, num_parallel_tree=1, predictor=&#x27;auto&#x27;, random_state=0, ...)</pre></div></div></div></div></div>"
      ],
      "text/plain": [
       "XGBClassifier(base_score=0.5, booster='gbtree', callbacks=None,\n",
       "              colsample_bylevel=1, colsample_bynode=1, colsample_bytree=1,\n",
       "              early_stopping_rounds=None, enable_categorical=False,\n",
       "              eval_metric=None, feature_types=None, gamma=0, gpu_id=-1,\n",
       "              grow_policy='depthwise', importance_type=None,\n",
       "              interaction_constraints='', learning_rate=0.300000012,\n",
       "              max_bin=256, max_cat_threshold=64, max_cat_to_onehot=4,\n",
       "              max_delta_step=0, max_depth=6, max_leaves=0, min_child_weight=1,\n",
       "              missing=nan, monotone_constraints='()', n_estimators=100,\n",
       "              n_jobs=0, num_parallel_tree=1, predictor='auto', random_state=0, ...)"
      ]
     },
     "execution_count": 212,
     "metadata": {},
     "output_type": "execute_result"
    }
   ],
   "source": [
    "xgb_classifier.fit(X_train,y_train)"
   ]
  },
  {
   "cell_type": "code",
   "execution_count": 213,
   "id": "5f8ea9d9",
   "metadata": {},
   "outputs": [],
   "source": [
    "predictions = xgb_classifier.predict(X_test)"
   ]
  },
  {
   "cell_type": "code",
   "execution_count": 214,
   "id": "588b17c6",
   "metadata": {
    "scrolled": true
   },
   "outputs": [
    {
     "data": {
      "text/plain": [
       "array([1, 1, 1, ..., 1, 1, 1])"
      ]
     },
     "execution_count": 214,
     "metadata": {},
     "output_type": "execute_result"
    }
   ],
   "source": [
    "predictions"
   ]
  },
  {
   "cell_type": "code",
   "execution_count": 215,
   "id": "b7e21b84",
   "metadata": {
    "scrolled": true
   },
   "outputs": [
    {
     "name": "stdout",
     "output_type": "stream",
     "text": [
      "Accuracy of Model:: 0.8652\n"
     ]
    }
   ],
   "source": [
    "print(\"Accuracy of Model::\",accuracy_score(y_test,predictions))"
   ]
  },
  {
   "cell_type": "code",
   "execution_count": 240,
   "id": "99f94f5c",
   "metadata": {},
   "outputs": [
    {
     "data": {
      "text/plain": [
       "[Text(0.6447226459317683, 0.9772727272727273, 'X[751] <= -0.004\\ngini = 0.234\\nsamples = 20000\\nvalue = [2708, 17292]'),\n",
       " Text(0.37064250902191304, 0.9318181818181818, 'X[744] <= -0.25\\ngini = 0.194\\nsamples = 12996\\nvalue = [1417, 11579]'),\n",
       " Text(0.15567915473045874, 0.8863636363636364, 'X[736] <= 0.5\\ngini = 0.158\\nsamples = 5263\\nvalue = [455, 4808]'),\n",
       " Text(0.07057554224487518, 0.8409090909090909, 'X[748] <= -0.526\\ngini = 0.174\\nsamples = 4344\\nvalue = [418, 3926]'),\n",
       " Text(0.028572491536143458, 0.7954545454545454, 'X[745] <= -0.25\\ngini = 0.259\\nsamples = 693\\nvalue = [106, 587]'),\n",
       " Text(0.019048327690762305, 0.75, 'X[8] <= 0.5\\ngini = 0.324\\nsamples = 290\\nvalue = [59, 231]'),\n",
       " Text(0.014286245768071729, 0.7045454545454546, 'X[748] <= -0.719\\ngini = 0.278\\nsamples = 228\\nvalue = [38, 190]'),\n",
       " Text(0.009524163845381153, 0.6590909090909091, 'X[750] <= -0.981\\ngini = 0.23\\nsamples = 128\\nvalue = [17, 111]'),\n",
       " Text(0.004762081922690576, 0.6136363636363636, 'gini = 0.296\\nsamples = 61\\nvalue = [11, 50]'),\n",
       " Text(0.014286245768071729, 0.6136363636363636, 'gini = 0.163\\nsamples = 67\\nvalue = [6, 61]'),\n",
       " Text(0.019048327690762305, 0.6590909090909091, 'gini = 0.332\\nsamples = 100\\nvalue = [21, 79]'),\n",
       " Text(0.02381040961345288, 0.7045454545454546, 'gini = 0.448\\nsamples = 62\\nvalue = [21, 41]'),\n",
       " Text(0.03809665538152461, 0.75, 'X[740] <= -0.608\\ngini = 0.206\\nsamples = 403\\nvalue = [47, 356]'),\n",
       " Text(0.03333457345883403, 0.7045454545454546, 'gini = 0.097\\nsamples = 98\\nvalue = [5, 93]'),\n",
       " Text(0.04285873730421519, 0.7045454545454546, 'X[742] <= 0.688\\ngini = 0.237\\nsamples = 305\\nvalue = [42, 263]'),\n",
       " Text(0.03809665538152461, 0.6590909090909091, 'X[739] <= 0.058\\ngini = 0.201\\nsamples = 212\\nvalue = [24, 188]'),\n",
       " Text(0.03333457345883403, 0.6136363636363636, 'gini = 0.278\\nsamples = 72\\nvalue = [12, 60]'),\n",
       " Text(0.04285873730421519, 0.6136363636363636, 'X[742] <= -0.25\\ngini = 0.157\\nsamples = 140\\nvalue = [12, 128]'),\n",
       " Text(0.03809665538152461, 0.5681818181818182, 'gini = 0.219\\nsamples = 72\\nvalue = [9, 63]'),\n",
       " Text(0.04762081922690576, 0.5681818181818182, 'gini = 0.084\\nsamples = 68\\nvalue = [3, 65]'),\n",
       " Text(0.04762081922690576, 0.6590909090909091, 'gini = 0.312\\nsamples = 93\\nvalue = [18, 75]'),\n",
       " Text(0.1125785929536069, 0.7954545454545454, 'X[749] <= -0.992\\ngini = 0.156\\nsamples = 3651\\nvalue = [312, 3339]'),\n",
       " Text(0.06666914691766807, 0.75, 'X[751] <= -0.693\\ngini = 0.23\\nsamples = 384\\nvalue = [51, 333]'),\n",
       " Text(0.061907064994977494, 0.7045454545454546, 'X[751] <= -0.944\\ngini = 0.188\\nsamples = 295\\nvalue = [31, 264]'),\n",
       " Text(0.057144983072286916, 0.6590909090909091, 'gini = 0.077\\nsamples = 75\\nvalue = [3, 72]'),\n",
       " Text(0.06666914691766807, 0.6590909090909091, 'X[739] <= 0.084\\ngini = 0.222\\nsamples = 220\\nvalue = [28, 192]'),\n",
       " Text(0.061907064994977494, 0.6136363636363636, 'gini = 0.308\\nsamples = 84\\nvalue = [16, 68]'),\n",
       " Text(0.07143122884035864, 0.6136363636363636, 'X[749] <= -0.998\\ngini = 0.161\\nsamples = 136\\nvalue = [12, 124]'),\n",
       " Text(0.06666914691766807, 0.5681818181818182, 'gini = 0.255\\nsamples = 60\\nvalue = [9, 51]'),\n",
       " Text(0.07619331076304922, 0.5681818181818182, 'gini = 0.076\\nsamples = 76\\nvalue = [3, 73]'),\n",
       " Text(0.07143122884035864, 0.7045454545454546, 'gini = 0.348\\nsamples = 89\\nvalue = [20, 69]'),\n",
       " Text(0.15848803898954575, 0.75, 'X[745] <= -0.25\\ngini = 0.147\\nsamples = 3267\\nvalue = [261, 3006]'),\n",
       " Text(0.11905204806726441, 0.7045454545454546, 'X[748] <= 0.952\\ngini = 0.176\\nsamples = 1378\\nvalue = [134, 1244]'),\n",
       " Text(0.1000037203765021, 0.6590909090909091, 'X[748] <= -0.294\\ngini = 0.2\\nsamples = 1023\\nvalue = [115, 908]'),\n",
       " Text(0.09047955653112096, 0.6136363636363636, 'X[750] <= -0.737\\ngini = 0.108\\nsamples = 140\\nvalue = [8, 132]'),\n",
       " Text(0.08571747460843038, 0.5681818181818182, 'gini = 0.163\\nsamples = 78\\nvalue = [7, 71]'),\n",
       " Text(0.09524163845381152, 0.5681818181818182, 'gini = 0.032\\nsamples = 62\\nvalue = [1, 61]'),\n",
       " Text(0.10952788422188325, 0.6136363636363636, 'X[748] <= 0.14\\ngini = 0.213\\nsamples = 883\\nvalue = [107, 776]'),\n",
       " Text(0.10476580229919268, 0.5681818181818182, 'gini = 0.357\\nsamples = 99\\nvalue = [23, 76]'),\n",
       " Text(0.11428996614457383, 0.5681818181818182, 'X[739] <= 0.182\\ngini = 0.191\\nsamples = 784\\nvalue = [84, 700]'),\n",
       " Text(0.1023847613378474, 0.5227272727272727, 'X[737] <= 0.5\\ngini = 0.22\\nsamples = 533\\nvalue = [67, 466]'),\n",
       " Text(0.09286059749246624, 0.4772727272727273, 'X[8] <= 0.5\\ngini = 0.181\\nsamples = 357\\nvalue = [36, 321]'),\n",
       " Text(0.08809851556977566, 0.4318181818181818, 'X[0] <= 0.5\\ngini = 0.145\\nsamples = 266\\nvalue = [21, 245]'),\n",
       " Text(0.08333643364708508, 0.38636363636363635, 'X[739] <= 0.065\\ngini = 0.104\\nsamples = 181\\nvalue = [10, 171]'),\n",
       " Text(0.0785743517243945, 0.3409090909090909, 'gini = 0.182\\nsamples = 69\\nvalue = [7, 62]'),\n",
       " Text(0.08809851556977566, 0.3409090909090909, 'gini = 0.052\\nsamples = 112\\nvalue = [3, 109]'),\n",
       " Text(0.09286059749246624, 0.38636363636363635, 'gini = 0.225\\nsamples = 85\\nvalue = [11, 74]'),\n",
       " Text(0.09762267941515682, 0.4318181818181818, 'gini = 0.275\\nsamples = 91\\nvalue = [15, 76]'),\n",
       " Text(0.11190892518322854, 0.4772727272727273, 'X[751] <= -0.965\\ngini = 0.29\\nsamples = 176\\nvalue = [31, 145]'),\n",
       " Text(0.10714684326053797, 0.4318181818181818, 'gini = 0.365\\nsamples = 79\\nvalue = [19, 60]'),\n",
       " Text(0.11667100710591911, 0.4318181818181818, 'gini = 0.217\\nsamples = 97\\nvalue = [12, 85]'),\n",
       " Text(0.12619517095130028, 0.5227272727272727, 'X[748] <= 0.453\\ngini = 0.126\\nsamples = 251\\nvalue = [17, 234]'),\n",
       " Text(0.12143308902860969, 0.4772727272727273, 'gini = 0.026\\nsamples = 76\\nvalue = [1, 75]'),\n",
       " Text(0.13095725287399085, 0.4772727272727273, 'X[751] <= -0.887\\ngini = 0.166\\nsamples = 175\\nvalue = [16, 159]'),\n",
       " Text(0.12619517095130028, 0.4318181818181818, 'gini = 0.086\\nsamples = 111\\nvalue = [5, 106]'),\n",
       " Text(0.1357193347966814, 0.4318181818181818, 'gini = 0.285\\nsamples = 64\\nvalue = [11, 53]'),\n",
       " Text(0.13810037575802672, 0.6590909090909091, 'X[739] <= 0.114\\ngini = 0.101\\nsamples = 355\\nvalue = [19, 336]'),\n",
       " Text(0.12857621191264557, 0.6136363636363636, 'X[744] <= -0.683\\ngini = 0.049\\nsamples = 158\\nvalue = [4, 154]'),\n",
       " Text(0.12381412998995499, 0.5681818181818182, 'gini = 0.098\\nsamples = 77\\nvalue = [4, 73]'),\n",
       " Text(0.13333829383533613, 0.5681818181818182, 'gini = 0.0\\nsamples = 81\\nvalue = [0, 81]'),\n",
       " Text(0.14762453960340788, 0.6136363636363636, 'X[750] <= 0.627\\ngini = 0.141\\nsamples = 197\\nvalue = [15, 182]'),\n",
       " Text(0.1428624576807173, 0.5681818181818182, 'gini = 0.055\\nsamples = 71\\nvalue = [2, 69]'),\n",
       " Text(0.15238662152609844, 0.5681818181818182, 'X[748] <= 0.997\\ngini = 0.185\\nsamples = 126\\nvalue = [13, 113]'),\n",
       " Text(0.14762453960340788, 0.5227272727272727, 'gini = 0.257\\nsamples = 66\\nvalue = [10, 56]'),\n",
       " Text(0.157148703448789, 0.5227272727272727, 'gini = 0.095\\nsamples = 60\\nvalue = [3, 57]'),\n",
       " Text(0.1979240299118271, 0.7045454545454546, 'X[617] <= 0.5\\ngini = 0.125\\nsamples = 1889\\nvalue = [127, 1762]'),\n",
       " Text(0.18601882510510065, 0.6590909090909091, 'X[750] <= 0.934\\ngini = 0.118\\nsamples = 1766\\nvalue = [111, 1655]'),\n",
       " Text(0.1764946612597195, 0.6136363636363636, 'X[749] <= -0.983\\ngini = 0.11\\nsamples = 1622\\nvalue = [95, 1527]'),\n",
       " Text(0.1717325793370289, 0.5681818181818182, 'gini = 0.018\\nsamples = 113\\nvalue = [1, 112]'),\n",
       " Text(0.18125674318241006, 0.5681818181818182, 'X[749] <= -0.098\\ngini = 0.117\\nsamples = 1509\\nvalue = [94, 1415]'),\n",
       " Text(0.16667286729417016, 0.5227272727272727, 'X[739] <= 0.04\\ngini = 0.126\\nsamples = 1334\\nvalue = [90, 1244]'),\n",
       " Text(0.15179136128576212, 0.4772727272727273, 'X[739] <= 0.033\\ngini = 0.182\\nsamples = 158\\nvalue = [16, 142]'),\n",
       " Text(0.14702927936307153, 0.4318181818181818, 'gini = 0.101\\nsamples = 94\\nvalue = [5, 89]'),\n",
       " Text(0.1565534432084527, 0.4318181818181818, 'gini = 0.285\\nsamples = 64\\nvalue = [11, 53]'),\n",
       " Text(0.18155437330257823, 0.4772727272727273, 'X[10] <= 0.5\\ngini = 0.118\\nsamples = 1176\\nvalue = [74, 1102]'),\n",
       " Text(0.16607760705383384, 0.4318181818181818, 'X[741] <= 0.2\\ngini = 0.127\\nsamples = 938\\nvalue = [64, 874]'),\n",
       " Text(0.14941032032441684, 0.38636363636363635, 'X[743] <= -0.817\\ngini = 0.15\\nsamples = 527\\nvalue = [43, 484]'),\n",
       " Text(0.14464823840172625, 0.3409090909090909, 'gini = 0.057\\nsamples = 103\\nvalue = [3, 100]'),\n",
       " Text(0.1541724022471074, 0.3409090909090909, 'X[3] <= 0.5\\ngini = 0.171\\nsamples = 424\\nvalue = [40, 384]'),\n",
       " Text(0.14464823840172625, 0.29545454545454547, 'X[735] <= 0.5\\ngini = 0.199\\nsamples = 303\\nvalue = [34, 269]'),\n",
       " Text(0.13988615647903568, 0.25, 'X[748] <= 0.823\\ngini = 0.148\\nsamples = 186\\nvalue = [15, 171]'),\n",
       " Text(0.1351240745563451, 0.20454545454545456, 'X[739] <= 0.12\\ngini = 0.193\\nsamples = 120\\nvalue = [13, 107]'),\n",
       " Text(0.13036199263365453, 0.1590909090909091, 'gini = 0.124\\nsamples = 60\\nvalue = [4, 56]'),\n",
       " Text(0.13988615647903568, 0.1590909090909091, 'gini = 0.255\\nsamples = 60\\nvalue = [9, 51]'),\n",
       " Text(0.14464823840172625, 0.20454545454545456, 'gini = 0.059\\nsamples = 66\\nvalue = [2, 64]'),\n",
       " Text(0.14941032032441684, 0.25, 'gini = 0.272\\nsamples = 117\\nvalue = [19, 98]'),\n",
       " Text(0.16369656609248856, 0.29545454545454547, 'X[750] <= -0.041\\ngini = 0.094\\nsamples = 121\\nvalue = [6, 115]'),\n",
       " Text(0.158934484169798, 0.25, 'gini = 0.095\\nsamples = 60\\nvalue = [3, 57]'),\n",
       " Text(0.16845864801517912, 0.25, 'gini = 0.094\\nsamples = 61\\nvalue = [3, 58]'),\n",
       " Text(0.18274489378325087, 0.38636363636363635, 'X[743] <= -0.685\\ngini = 0.097\\nsamples = 411\\nvalue = [21, 390]'),\n",
       " Text(0.17798281186056028, 0.3409090909090909, 'gini = 0.176\\nsamples = 113\\nvalue = [11, 102]'),\n",
       " Text(0.18750697570594144, 0.3409090909090909, 'X[751] <= -0.765\\ngini = 0.065\\nsamples = 298\\nvalue = [10, 288]'),\n",
       " Text(0.18274489378325087, 0.29545454545454547, 'X[739] <= 0.142\\ngini = 0.028\\nsamples = 213\\nvalue = [3, 210]'),\n",
       " Text(0.17798281186056028, 0.25, 'gini = 0.054\\nsamples = 109\\nvalue = [3, 106]'),\n",
       " Text(0.18750697570594144, 0.25, 'gini = 0.0\\nsamples = 104\\nvalue = [0, 104]'),\n",
       " Text(0.19226905762863203, 0.29545454545454547, 'gini = 0.151\\nsamples = 85\\nvalue = [7, 78]'),\n",
       " Text(0.1970311395513226, 0.4318181818181818, 'X[749] <= -0.9\\ngini = 0.081\\nsamples = 238\\nvalue = [10, 228]'),\n",
       " Text(0.19226905762863203, 0.38636363636363635, 'gini = 0.162\\nsamples = 79\\nvalue = [7, 72]'),\n",
       " Text(0.20179322147401316, 0.38636363636363635, 'X[751] <= -0.882\\ngini = 0.037\\nsamples = 159\\nvalue = [3, 156]'),\n",
       " Text(0.1970311395513226, 0.3409090909090909, 'gini = 0.0\\nsamples = 98\\nvalue = [0, 98]'),\n",
       " Text(0.20655530339670375, 0.3409090909090909, 'gini = 0.094\\nsamples = 61\\nvalue = [3, 58]'),\n",
       " Text(0.19584061907064995, 0.5227272727272727, 'X[742] <= -0.051\\ngini = 0.045\\nsamples = 175\\nvalue = [4, 171]'),\n",
       " Text(0.19107853714795936, 0.4772727272727273, 'gini = 0.0\\nsamples = 87\\nvalue = [0, 87]'),\n",
       " Text(0.20060270099334052, 0.4772727272727273, 'gini = 0.087\\nsamples = 88\\nvalue = [4, 84]'),\n",
       " Text(0.19554298895048178, 0.6136363636363636, 'X[740] <= 0.217\\ngini = 0.198\\nsamples = 144\\nvalue = [16, 128]'),\n",
       " Text(0.1907809070277912, 0.5681818181818182, 'gini = 0.253\\nsamples = 74\\nvalue = [11, 63]'),\n",
       " Text(0.20030507087317237, 0.5681818181818182, 'gini = 0.133\\nsamples = 70\\nvalue = [5, 65]'),\n",
       " Text(0.20982923471855353, 0.6590909090909091, 'X[750] <= 0.24\\ngini = 0.226\\nsamples = 123\\nvalue = [16, 107]'),\n",
       " Text(0.20506715279586293, 0.6136363636363636, 'gini = 0.299\\nsamples = 60\\nvalue = [11, 49]'),\n",
       " Text(0.2145913166412441, 0.6136363636363636, 'gini = 0.146\\nsamples = 63\\nvalue = [5, 58]'),\n",
       " Text(0.24078276721604228, 0.8409090909090909, 'X[743] <= 0.438\\ngini = 0.077\\nsamples = 919\\nvalue = [37, 882]'),\n",
       " Text(0.2288775624093158, 0.7954545454545454, 'X[739] <= 0.184\\ngini = 0.056\\nsamples = 629\\nvalue = [18, 611]'),\n",
       " Text(0.21935339856393468, 0.75, 'X[740] <= -0.878\\ngini = 0.042\\nsamples = 467\\nvalue = [10, 457]'),\n",
       " Text(0.2145913166412441, 0.7045454545454546, 'gini = 0.096\\nsamples = 79\\nvalue = [4, 75]'),\n",
       " Text(0.22411548048662525, 0.7045454545454546, 'X[739] <= 0.04\\ngini = 0.03\\nsamples = 388\\nvalue = [6, 382]'),\n",
       " Text(0.21935339856393468, 0.6590909090909091, 'gini = 0.084\\nsamples = 68\\nvalue = [3, 65]'),\n",
       " Text(0.2288775624093158, 0.6590909090909091, 'X[0] <= 0.5\\ngini = 0.019\\nsamples = 320\\nvalue = [3, 317]'),\n",
       " Text(0.22411548048662525, 0.6136363636363636, 'gini = 0.0\\nsamples = 228\\nvalue = [0, 228]'),\n",
       " Text(0.2336396443320064, 0.6136363636363636, 'gini = 0.063\\nsamples = 92\\nvalue = [3, 89]'),\n",
       " Text(0.23840172625469697, 0.75, 'X[743] <= -0.526\\ngini = 0.094\\nsamples = 162\\nvalue = [8, 154]'),\n",
       " Text(0.2336396443320064, 0.7045454545454546, 'gini = 0.024\\nsamples = 82\\nvalue = [1, 81]'),\n",
       " Text(0.24316380817738756, 0.7045454545454546, 'gini = 0.16\\nsamples = 80\\nvalue = [7, 73]'),\n",
       " Text(0.2526879720227687, 0.7954545454545454, 'X[742] <= -0.298\\ngini = 0.122\\nsamples = 290\\nvalue = [19, 271]'),\n",
       " Text(0.24792589010007812, 0.75, 'gini = 0.191\\nsamples = 112\\nvalue = [12, 100]'),\n",
       " Text(0.2574500539454593, 0.75, 'X[744] <= -0.683\\ngini = 0.076\\nsamples = 178\\nvalue = [7, 171]'),\n",
       " Text(0.2526879720227687, 0.7045454545454546, 'gini = 0.119\\nsamples = 110\\nvalue = [7, 103]'),\n",
       " Text(0.26221213586814984, 0.7045454545454546, 'gini = 0.0\\nsamples = 68\\nvalue = [0, 68]'),\n",
       " Text(0.5856058633133673, 0.8863636363636364, 'X[737] <= 0.5\\ngini = 0.218\\nsamples = 7733\\nvalue = [962, 6771]'),\n",
       " Text(0.4637449309870159, 0.8409090909090909, 'X[480] <= 0.5\\ngini = 0.233\\nsamples = 6217\\nvalue = [838, 5379]'),\n",
       " Text(0.3981546932549574, 0.7954545454545454, 'X[748] <= -0.563\\ngini = 0.229\\nsamples = 6094\\nvalue = [804, 5290]'),\n",
       " Text(0.28126046355891215, 0.75, 'X[740] <= 0.217\\ngini = 0.287\\nsamples = 888\\nvalue = [154, 734]'),\n",
       " Text(0.271736299713531, 0.7045454545454546, 'X[743] <= 0.87\\ngini = 0.323\\nsamples = 489\\nvalue = [99, 390]'),\n",
       " Text(0.2669742177908404, 0.6590909090909091, 'X[742] <= 0.0\\ngini = 0.303\\nsamples = 424\\nvalue = [79, 345]'),\n",
       " Text(0.2574500539454593, 0.6136363636363636, 'X[749] <= -0.614\\ngini = 0.337\\nsamples = 228\\nvalue = [49, 179]'),\n",
       " Text(0.2526879720227687, 0.5681818181818182, 'X[749] <= -0.78\\ngini = 0.373\\nsamples = 165\\nvalue = [41, 124]'),\n",
       " Text(0.24792589010007812, 0.5227272727272727, 'gini = 0.293\\nsamples = 73\\nvalue = [13, 60]'),\n",
       " Text(0.2574500539454593, 0.5227272727272727, 'gini = 0.423\\nsamples = 92\\nvalue = [28, 64]'),\n",
       " Text(0.26221213586814984, 0.5681818181818182, 'gini = 0.222\\nsamples = 63\\nvalue = [8, 55]'),\n",
       " Text(0.2764983816362216, 0.6136363636363636, 'X[746] <= 0.5\\ngini = 0.259\\nsamples = 196\\nvalue = [30, 166]'),\n",
       " Text(0.271736299713531, 0.5681818181818182, 'gini = 0.192\\nsamples = 102\\nvalue = [11, 91]'),\n",
       " Text(0.28126046355891215, 0.5681818181818182, 'gini = 0.323\\nsamples = 94\\nvalue = [19, 75]'),\n",
       " Text(0.2764983816362216, 0.6590909090909091, 'gini = 0.426\\nsamples = 65\\nvalue = [20, 45]'),\n",
       " Text(0.29078462740429334, 0.7045454545454546, 'X[742] <= -0.758\\ngini = 0.238\\nsamples = 399\\nvalue = [55, 344]'),\n",
       " Text(0.2860225454816027, 0.6590909090909091, 'gini = 0.35\\nsamples = 84\\nvalue = [19, 65]'),\n",
       " Text(0.2955467093269839, 0.6590909090909091, 'X[744] <= 0.25\\ngini = 0.202\\nsamples = 315\\nvalue = [36, 279]'),\n",
       " Text(0.29078462740429334, 0.6136363636363636, 'gini = 0.298\\nsamples = 77\\nvalue = [14, 63]'),\n",
       " Text(0.30030879124967447, 0.6136363636363636, 'X[742] <= -0.25\\ngini = 0.168\\nsamples = 238\\nvalue = [22, 216]'),\n",
       " Text(0.2955467093269839, 0.5681818181818182, 'gini = 0.057\\nsamples = 68\\nvalue = [2, 66]'),\n",
       " Text(0.30507087317236503, 0.5681818181818182, 'X[743] <= -0.151\\ngini = 0.208\\nsamples = 170\\nvalue = [20, 150]'),\n",
       " Text(0.30030879124967447, 0.5227272727272727, 'gini = 0.12\\nsamples = 78\\nvalue = [5, 73]'),\n",
       " Text(0.3098329550950556, 0.5227272727272727, 'gini = 0.273\\nsamples = 92\\nvalue = [15, 77]'),\n",
       " Text(0.5150489229510027, 0.75, 'X[744] <= 0.683\\ngini = 0.219\\nsamples = 5206\\nvalue = [650, 4556]'),\n",
       " Text(0.4175750585959299, 0.7045454545454546, 'X[749] <= -0.789\\ngini = 0.193\\nsamples = 2844\\nvalue = [307, 2537]'),\n",
       " Text(0.3634063767253246, 0.6590909090909091, 'X[736] <= 0.5\\ngini = 0.232\\nsamples = 1422\\nvalue = [190, 1232]'),\n",
       " Text(0.3407864875925444, 0.6136363636363636, 'X[743] <= -0.685\\ngini = 0.252\\nsamples = 1137\\nvalue = [168, 969]'),\n",
       " Text(0.32411920086312734, 0.5681818181818182, 'X[741] <= -0.562\\ngini = 0.313\\nsamples = 288\\nvalue = [56, 232]'),\n",
       " Text(0.3193571189404368, 0.5227272727272727, 'gini = 0.187\\nsamples = 86\\nvalue = [9, 77]'),\n",
       " Text(0.3288812827858179, 0.5227272727272727, 'X[748] <= -0.046\\ngini = 0.357\\nsamples = 202\\nvalue = [47, 155]'),\n",
       " Text(0.32411920086312734, 0.4772727272727273, 'gini = 0.291\\nsamples = 96\\nvalue = [17, 79]'),\n",
       " Text(0.3336433647085085, 0.4772727272727273, 'gini = 0.406\\nsamples = 106\\nvalue = [30, 76]'),\n",
       " Text(0.3574537743219614, 0.5681818181818182, 'X[750] <= -0.027\\ngini = 0.229\\nsamples = 849\\nvalue = [112, 737]'),\n",
       " Text(0.3479296104765802, 0.5227272727272727, 'X[739] <= 0.041\\ngini = 0.246\\nsamples = 716\\nvalue = [103, 613]'),\n",
       " Text(0.34316752855388966, 0.4772727272727273, 'gini = 0.344\\nsamples = 77\\nvalue = [17, 60]'),\n",
       " Text(0.3526916923992708, 0.4772727272727273, 'X[3] <= 0.5\\ngini = 0.233\\nsamples = 639\\nvalue = [86, 553]'),\n",
       " Text(0.34316752855388966, 0.4318181818181818, 'X[741] <= 0.812\\ngini = 0.257\\nsamples = 502\\nvalue = [76, 426]'),\n",
       " Text(0.3384054466311991, 0.38636363636363635, 'X[744] <= 0.25\\ngini = 0.276\\nsamples = 429\\nvalue = [71, 358]'),\n",
       " Text(0.32411920086312734, 0.3409090909090909, 'X[739] <= 0.094\\ngini = 0.326\\nsamples = 195\\nvalue = [40, 155]'),\n",
       " Text(0.3193571189404368, 0.29545454545454547, 'gini = 0.203\\nsamples = 61\\nvalue = [7, 54]'),\n",
       " Text(0.3288812827858179, 0.29545454545454547, 'X[749] <= -0.961\\ngini = 0.371\\nsamples = 134\\nvalue = [33, 101]'),\n",
       " Text(0.32411920086312734, 0.25, 'gini = 0.309\\nsamples = 68\\nvalue = [13, 55]'),\n",
       " Text(0.3336433647085085, 0.25, 'gini = 0.422\\nsamples = 66\\nvalue = [20, 46]'),\n",
       " Text(0.3526916923992708, 0.3409090909090909, 'X[738] <= 0.5\\ngini = 0.23\\nsamples = 234\\nvalue = [31, 203]'),\n",
       " Text(0.3479296104765802, 0.29545454545454547, 'X[742] <= 0.101\\ngini = 0.166\\nsamples = 153\\nvalue = [14, 139]'),\n",
       " Text(0.34316752855388966, 0.25, 'gini = 0.247\\nsamples = 83\\nvalue = [12, 71]'),\n",
       " Text(0.3526916923992708, 0.25, 'gini = 0.056\\nsamples = 70\\nvalue = [2, 68]'),\n",
       " Text(0.3574537743219614, 0.29545454545454547, 'gini = 0.332\\nsamples = 81\\nvalue = [17, 64]'),\n",
       " Text(0.3479296104765802, 0.38636363636363635, 'gini = 0.128\\nsamples = 73\\nvalue = [5, 68]'),\n",
       " Text(0.36221585624465197, 0.4318181818181818, 'X[748] <= -0.007\\ngini = 0.135\\nsamples = 137\\nvalue = [10, 127]'),\n",
       " Text(0.3574537743219614, 0.38636363636363635, 'gini = 0.051\\nsamples = 77\\nvalue = [2, 75]'),\n",
       " Text(0.36697793816734253, 0.38636363636363635, 'gini = 0.231\\nsamples = 60\\nvalue = [8, 52]'),\n",
       " Text(0.36697793816734253, 0.5227272727272727, 'X[748] <= 0.429\\ngini = 0.126\\nsamples = 133\\nvalue = [9, 124]'),\n",
       " Text(0.36221585624465197, 0.4772727272727273, 'gini = 0.064\\nsamples = 60\\nvalue = [2, 58]'),\n",
       " Text(0.3717400200900331, 0.4772727272727273, 'gini = 0.173\\nsamples = 73\\nvalue = [7, 66]'),\n",
       " Text(0.38602626585810484, 0.6136363636363636, 'X[739] <= 0.081\\ngini = 0.142\\nsamples = 285\\nvalue = [22, 263]'),\n",
       " Text(0.3812641839354143, 0.5681818181818182, 'gini = 0.257\\nsamples = 86\\nvalue = [13, 73]'),\n",
       " Text(0.3907883477807954, 0.5681818181818182, 'X[742] <= 0.25\\ngini = 0.086\\nsamples = 199\\nvalue = [9, 190]'),\n",
       " Text(0.38602626585810484, 0.5227272727272727, 'X[748] <= 0.165\\ngini = 0.134\\nsamples = 125\\nvalue = [9, 116]'),\n",
       " Text(0.3812641839354143, 0.4772727272727273, 'gini = 0.089\\nsamples = 64\\nvalue = [3, 61]'),\n",
       " Text(0.3907883477807954, 0.4772727272727273, 'gini = 0.177\\nsamples = 61\\nvalue = [6, 55]'),\n",
       " Text(0.395550429703486, 0.5227272727272727, 'gini = 0.0\\nsamples = 74\\nvalue = [0, 74]'),\n",
       " Text(0.4717437404665352, 0.6590909090909091, 'X[10] <= 0.5\\ngini = 0.151\\nsamples = 1422\\nvalue = [117, 1305]'),\n",
       " Text(0.4526954127757729, 0.6136363636363636, 'X[739] <= 0.22\\ngini = 0.171\\nsamples = 1156\\nvalue = [109, 1047]'),\n",
       " Text(0.42888500316232003, 0.5681818181818182, 'X[739] <= 0.142\\ngini = 0.197\\nsamples = 858\\nvalue = [95, 763]'),\n",
       " Text(0.4098366754715577, 0.5227272727272727, 'X[740] <= 0.608\\ngini = 0.164\\nsamples = 600\\nvalue = [54, 546]'),\n",
       " Text(0.4003125116261766, 0.4772727272727273, 'X[738] <= 0.5\\ngini = 0.13\\nsamples = 416\\nvalue = [29, 387]'),\n",
       " Text(0.395550429703486, 0.4318181818181818, 'X[743] <= -0.346\\ngini = 0.106\\nsamples = 338\\nvalue = [19, 319]'),\n",
       " Text(0.38602626585810484, 0.38636363636363635, 'X[739] <= 0.083\\ngini = 0.163\\nsamples = 134\\nvalue = [12, 122]'),\n",
       " Text(0.3812641839354143, 0.3409090909090909, 'gini = 0.102\\nsamples = 74\\nvalue = [4, 70]'),\n",
       " Text(0.3907883477807954, 0.3409090909090909, 'gini = 0.231\\nsamples = 60\\nvalue = [8, 52]'),\n",
       " Text(0.40507459354886716, 0.38636363636363635, 'X[739] <= 0.083\\ngini = 0.066\\nsamples = 204\\nvalue = [7, 197]'),\n",
       " Text(0.4003125116261766, 0.3409090909090909, 'X[739] <= 0.051\\ngini = 0.109\\nsamples = 121\\nvalue = [7, 114]'),\n",
       " Text(0.395550429703486, 0.29545454545454547, 'gini = 0.064\\nsamples = 60\\nvalue = [2, 58]'),\n",
       " Text(0.40507459354886716, 0.29545454545454547, 'gini = 0.15\\nsamples = 61\\nvalue = [5, 56]'),\n",
       " Text(0.4098366754715577, 0.3409090909090909, 'gini = 0.0\\nsamples = 83\\nvalue = [0, 83]'),\n",
       " Text(0.40507459354886716, 0.4318181818181818, 'gini = 0.224\\nsamples = 78\\nvalue = [10, 68]'),\n",
       " Text(0.41936083931693885, 0.4772727272727273, 'X[735] <= 0.5\\ngini = 0.235\\nsamples = 184\\nvalue = [25, 159]'),\n",
       " Text(0.4145987573942483, 0.4318181818181818, 'gini = 0.147\\nsamples = 113\\nvalue = [9, 104]'),\n",
       " Text(0.42412292123962947, 0.4318181818181818, 'gini = 0.349\\nsamples = 71\\nvalue = [16, 55]'),\n",
       " Text(0.44793333085308235, 0.5227272727272727, 'X[747] <= -0.5\\ngini = 0.267\\nsamples = 258\\nvalue = [41, 217]'),\n",
       " Text(0.43840916700770116, 0.4772727272727273, 'X[739] <= 0.184\\ngini = 0.184\\nsamples = 127\\nvalue = [13, 114]'),\n",
       " Text(0.4336470850850106, 0.4318181818181818, 'gini = 0.255\\nsamples = 60\\nvalue = [9, 51]'),\n",
       " Text(0.4431712489303918, 0.4318181818181818, 'gini = 0.112\\nsamples = 67\\nvalue = [4, 63]'),\n",
       " Text(0.4574574946984635, 0.4772727272727273, 'X[751] <= -0.884\\ngini = 0.336\\nsamples = 131\\nvalue = [28, 103]'),\n",
       " Text(0.4526954127757729, 0.4318181818181818, 'gini = 0.404\\nsamples = 64\\nvalue = [18, 46]'),\n",
       " Text(0.46221957662115404, 0.4318181818181818, 'gini = 0.254\\nsamples = 67\\nvalue = [10, 57]'),\n",
       " Text(0.4765058223892258, 0.5681818181818182, 'X[742] <= 0.528\\ngini = 0.09\\nsamples = 298\\nvalue = [14, 284]'),\n",
       " Text(0.4717437404665352, 0.5227272727272727, 'X[741] <= 0.2\\ngini = 0.049\\nsamples = 201\\nvalue = [5, 196]'),\n",
       " Text(0.46698165854384466, 0.4772727272727273, 'gini = 0.0\\nsamples = 120\\nvalue = [0, 120]'),\n",
       " Text(0.4765058223892258, 0.4772727272727273, 'gini = 0.116\\nsamples = 81\\nvalue = [5, 76]'),\n",
       " Text(0.48126790431191635, 0.5227272727272727, 'gini = 0.168\\nsamples = 97\\nvalue = [9, 88]'),\n",
       " Text(0.49079206815729753, 0.6136363636363636, 'X[741] <= -0.562\\ngini = 0.058\\nsamples = 266\\nvalue = [8, 258]'),\n",
       " Text(0.48602998623460697, 0.5681818181818182, 'gini = 0.134\\nsamples = 69\\nvalue = [5, 64]'),\n",
       " Text(0.4955541500799881, 0.5681818181818182, 'X[745] <= 0.0\\ngini = 0.03\\nsamples = 197\\nvalue = [3, 194]'),\n",
       " Text(0.49079206815729753, 0.5227272727272727, 'gini = 0.0\\nsamples = 111\\nvalue = [0, 111]'),\n",
       " Text(0.5003162320026787, 0.5227272727272727, 'gini = 0.067\\nsamples = 86\\nvalue = [3, 83]'),\n",
       " Text(0.6125227873060753, 0.7045454545454546, 'X[736] <= 0.5\\ngini = 0.248\\nsamples = 2362\\nvalue = [343, 2019]'),\n",
       " Text(0.5771048030060643, 0.6590909090909091, 'X[745] <= 0.25\\ngini = 0.206\\nsamples = 1737\\nvalue = [203, 1534]'),\n",
       " Text(0.5443654897875665, 0.6136363636363636, 'X[739] <= 0.179\\ngini = 0.175\\nsamples = 1197\\nvalue = [116, 1081]'),\n",
       " Text(0.5265076825774768, 0.5681818181818182, 'X[742] <= 0.051\\ngini = 0.138\\nsamples = 829\\nvalue = [62, 767]'),\n",
       " Text(0.5098403958480598, 0.5227272727272727, 'X[751] <= -0.989\\ngini = 0.095\\nsamples = 440\\nvalue = [22, 418]'),\n",
       " Text(0.5050783139253693, 0.4772727272727273, 'gini = 0.175\\nsamples = 62\\nvalue = [6, 56]'),\n",
       " Text(0.5146024777707504, 0.4772727272727273, 'X[739] <= 0.135\\ngini = 0.081\\nsamples = 378\\nvalue = [16, 362]'),\n",
       " Text(0.5098403958480598, 0.4318181818181818, 'X[749] <= -0.524\\ngini = 0.064\\nsamples = 304\\nvalue = [10, 294]'),\n",
       " Text(0.5050783139253693, 0.38636363636363635, 'X[743] <= 0.438\\ngini = 0.021\\nsamples = 193\\nvalue = [2, 191]'),\n",
       " Text(0.5003162320026787, 0.3409090909090909, 'gini = 0.0\\nsamples = 131\\nvalue = [0, 131]'),\n",
       " Text(0.5098403958480598, 0.3409090909090909, 'gini = 0.062\\nsamples = 62\\nvalue = [2, 60]'),\n",
       " Text(0.5146024777707504, 0.38636363636363635, 'gini = 0.134\\nsamples = 111\\nvalue = [8, 103]'),\n",
       " Text(0.519364559693441, 0.4318181818181818, 'gini = 0.149\\nsamples = 74\\nvalue = [6, 68]'),\n",
       " Text(0.5431749693068939, 0.5227272727272727, 'X[739] <= 0.076\\ngini = 0.185\\nsamples = 389\\nvalue = [40, 349]'),\n",
       " Text(0.5336508054615127, 0.4772727272727273, 'X[749] <= -0.579\\ngini = 0.08\\nsamples = 168\\nvalue = [7, 161]'),\n",
       " Text(0.5288887235388221, 0.4318181818181818, 'gini = 0.036\\nsamples = 108\\nvalue = [2, 106]'),\n",
       " Text(0.5384128873842032, 0.4318181818181818, 'gini = 0.153\\nsamples = 60\\nvalue = [5, 55]'),\n",
       " Text(0.552699133152275, 0.4772727272727273, 'X[739] <= 0.133\\ngini = 0.254\\nsamples = 221\\nvalue = [33, 188]'),\n",
       " Text(0.5479370512295845, 0.4318181818181818, 'X[743] <= -0.151\\ngini = 0.312\\nsamples = 150\\nvalue = [29, 121]'),\n",
       " Text(0.5431749693068939, 0.38636363636363635, 'gini = 0.219\\nsamples = 72\\nvalue = [9, 63]'),\n",
       " Text(0.552699133152275, 0.38636363636363635, 'gini = 0.381\\nsamples = 78\\nvalue = [20, 58]'),\n",
       " Text(0.5574612150749656, 0.4318181818181818, 'gini = 0.106\\nsamples = 71\\nvalue = [4, 67]'),\n",
       " Text(0.5622232969976562, 0.5681818181818182, 'X[743] <= -0.817\\ngini = 0.25\\nsamples = 368\\nvalue = [54, 314]'),\n",
       " Text(0.5574612150749656, 0.5227272727272727, 'gini = 0.371\\nsamples = 65\\nvalue = [16, 49]'),\n",
       " Text(0.5669853789203467, 0.5227272727272727, 'X[748] <= 0.108\\ngini = 0.219\\nsamples = 303\\nvalue = [38, 265]'),\n",
       " Text(0.5622232969976562, 0.4772727272727273, 'gini = 0.334\\nsamples = 66\\nvalue = [14, 52]'),\n",
       " Text(0.5717474608430373, 0.4772727272727273, 'X[751] <= -0.67\\ngini = 0.182\\nsamples = 237\\nvalue = [24, 213]'),\n",
       " Text(0.5669853789203467, 0.4318181818181818, 'X[742] <= -0.298\\ngini = 0.222\\nsamples = 173\\nvalue = [22, 151]'),\n",
       " Text(0.5622232969976562, 0.38636363636363635, 'gini = 0.134\\nsamples = 83\\nvalue = [6, 77]'),\n",
       " Text(0.5717474608430373, 0.38636363636363635, 'gini = 0.292\\nsamples = 90\\nvalue = [16, 74]'),\n",
       " Text(0.5765095427657279, 0.4318181818181818, 'gini = 0.061\\nsamples = 64\\nvalue = [2, 62]'),\n",
       " Text(0.6098441162245619, 0.6136363636363636, 'X[740] <= 0.608\\ngini = 0.27\\nsamples = 540\\nvalue = [87, 453]'),\n",
       " Text(0.6003199523791808, 0.5681818181818182, 'X[751] <= -0.616\\ngini = 0.311\\nsamples = 358\\nvalue = [69, 289]'),\n",
       " Text(0.5955578704564902, 0.5227272727272727, 'X[749] <= -0.55\\ngini = 0.346\\nsamples = 270\\nvalue = [60, 210]'),\n",
       " Text(0.5907957885337997, 0.4772727272727273, 'X[739] <= 0.156\\ngini = 0.38\\nsamples = 192\\nvalue = [49, 143]'),\n",
       " Text(0.5860337066111091, 0.4318181818181818, 'X[748] <= 0.258\\ngini = 0.326\\nsamples = 122\\nvalue = [25, 97]'),\n",
       " Text(0.5812716246884184, 0.38636363636363635, 'gini = 0.296\\nsamples = 61\\nvalue = [11, 50]'),\n",
       " Text(0.5907957885337997, 0.38636363636363635, 'gini = 0.354\\nsamples = 61\\nvalue = [14, 47]'),\n",
       " Text(0.5955578704564902, 0.4318181818181818, 'gini = 0.451\\nsamples = 70\\nvalue = [24, 46]'),\n",
       " Text(0.6003199523791808, 0.4772727272727273, 'gini = 0.242\\nsamples = 78\\nvalue = [11, 67]'),\n",
       " Text(0.6050820343018714, 0.5227272727272727, 'gini = 0.184\\nsamples = 88\\nvalue = [9, 79]'),\n",
       " Text(0.619368280069943, 0.5681818181818182, 'X[750] <= -0.146\\ngini = 0.178\\nsamples = 182\\nvalue = [18, 164]'),\n",
       " Text(0.6146061981472525, 0.5227272727272727, 'gini = 0.309\\nsamples = 68\\nvalue = [13, 55]'),\n",
       " Text(0.6241303619926336, 0.5227272727272727, 'gini = 0.084\\nsamples = 114\\nvalue = [5, 109]'),\n",
       " Text(0.6479407716060865, 0.6590909090909091, 'X[745] <= -0.25\\ngini = 0.348\\nsamples = 625\\nvalue = [140, 485]'),\n",
       " Text(0.6336545258380148, 0.6136363636363636, 'X[743] <= 0.05\\ngini = 0.497\\nsamples = 139\\nvalue = [64, 75]'),\n",
       " Text(0.6288924439153243, 0.5681818181818182, 'gini = 0.467\\nsamples = 78\\nvalue = [29, 49]'),\n",
       " Text(0.6384166077607054, 0.5681818181818182, 'gini = 0.489\\nsamples = 61\\nvalue = [35, 26]'),\n",
       " Text(0.6622270173741582, 0.6136363636363636, 'X[743] <= 0.05\\ngini = 0.264\\nsamples = 486\\nvalue = [76, 410]'),\n",
       " Text(0.6479407716060865, 0.5681818181818182, 'X[748] <= -0.042\\ngini = 0.169\\nsamples = 247\\nvalue = [23, 224]'),\n",
       " Text(0.643178689683396, 0.5227272727272727, 'gini = 0.278\\nsamples = 60\\nvalue = [10, 50]'),\n",
       " Text(0.6527028535287771, 0.5227272727272727, 'X[751] <= -0.944\\ngini = 0.129\\nsamples = 187\\nvalue = [13, 174]'),\n",
       " Text(0.6479407716060865, 0.4772727272727273, 'gini = 0.214\\nsamples = 74\\nvalue = [9, 65]'),\n",
       " Text(0.6574649354514677, 0.4772727272727273, 'gini = 0.068\\nsamples = 113\\nvalue = [4, 109]'),\n",
       " Text(0.67651326314223, 0.5681818181818182, 'X[742] <= 0.298\\ngini = 0.345\\nsamples = 239\\nvalue = [53, 186]'),\n",
       " Text(0.6717511812195395, 0.5227272727272727, 'X[745] <= 0.25\\ngini = 0.426\\nsamples = 140\\nvalue = [43, 97]'),\n",
       " Text(0.6669890992968488, 0.4772727272727273, 'gini = 0.494\\nsamples = 74\\nvalue = [33, 41]'),\n",
       " Text(0.67651326314223, 0.4772727272727273, 'gini = 0.257\\nsamples = 66\\nvalue = [10, 56]'),\n",
       " Text(0.6812753450649206, 0.5227272727272727, 'gini = 0.182\\nsamples = 99\\nvalue = [10, 89]'),\n",
       " Text(0.5293351687190744, 0.7954545454545454, 'X[751] <= -0.706\\ngini = 0.4\\nsamples = 123\\nvalue = [34, 89]'),\n",
       " Text(0.5245730867963838, 0.75, 'gini = 0.228\\nsamples = 61\\nvalue = [8, 53]'),\n",
       " Text(0.5340972506417649, 0.75, 'gini = 0.487\\nsamples = 62\\nvalue = [26, 36]'),\n",
       " Text(0.7074667956397187, 0.8409090909090909, 'X[744] <= 0.25\\ngini = 0.15\\nsamples = 1516\\nvalue = [124, 1392]'),\n",
       " Text(0.67651326314223, 0.7954545454545454, 'X[739] <= 0.048\\ngini = 0.2\\nsamples = 461\\nvalue = [52, 409]'),\n",
       " Text(0.6717511812195395, 0.75, 'gini = 0.295\\nsamples = 78\\nvalue = [14, 64]'),\n",
       " Text(0.6812753450649206, 0.75, 'X[739] <= 0.096\\ngini = 0.179\\nsamples = 383\\nvalue = [38, 345]'),\n",
       " Text(0.6717511812195395, 0.7045454545454546, 'X[750] <= -0.076\\ngini = 0.091\\nsamples = 125\\nvalue = [6, 119]'),\n",
       " Text(0.6669890992968488, 0.6590909090909091, 'gini = 0.061\\nsamples = 64\\nvalue = [2, 62]'),\n",
       " Text(0.67651326314223, 0.6590909090909091, 'gini = 0.123\\nsamples = 61\\nvalue = [4, 57]'),\n",
       " Text(0.6907995089103017, 0.7045454545454546, 'X[739] <= 0.131\\ngini = 0.217\\nsamples = 258\\nvalue = [32, 226]'),\n",
       " Text(0.6860374269876112, 0.6590909090909091, 'gini = 0.31\\nsamples = 73\\nvalue = [14, 59]'),\n",
       " Text(0.6955615908329923, 0.6590909090909091, 'X[750] <= 0.129\\ngini = 0.176\\nsamples = 185\\nvalue = [18, 167]'),\n",
       " Text(0.6907995089103017, 0.6136363636363636, 'X[739] <= 0.21\\ngini = 0.229\\nsamples = 121\\nvalue = [16, 105]'),\n",
       " Text(0.6860374269876112, 0.5681818181818182, 'gini = 0.15\\nsamples = 61\\nvalue = [5, 56]'),\n",
       " Text(0.6955615908329923, 0.5681818181818182, 'gini = 0.299\\nsamples = 60\\nvalue = [11, 49]'),\n",
       " Text(0.7003236727556829, 0.6136363636363636, 'gini = 0.061\\nsamples = 64\\nvalue = [2, 62]'),\n",
       " Text(0.7384203281372075, 0.7954545454545454, 'X[743] <= -0.346\\ngini = 0.127\\nsamples = 1055\\nvalue = [72, 983]'),\n",
       " Text(0.7193720004464452, 0.75, 'X[750] <= -0.775\\ngini = 0.174\\nsamples = 436\\nvalue = [42, 394]'),\n",
       " Text(0.7146099185237546, 0.7045454545454546, 'gini = 0.069\\nsamples = 112\\nvalue = [4, 108]'),\n",
       " Text(0.7241340823691358, 0.7045454545454546, 'X[746] <= 0.5\\ngini = 0.207\\nsamples = 324\\nvalue = [38, 286]'),\n",
       " Text(0.7146099185237546, 0.6590909090909091, 'X[742] <= 0.392\\ngini = 0.138\\nsamples = 148\\nvalue = [11, 137]'),\n",
       " Text(0.709847836601064, 0.6136363636363636, 'gini = 0.068\\nsamples = 85\\nvalue = [3, 82]'),\n",
       " Text(0.7193720004464452, 0.6136363636363636, 'gini = 0.222\\nsamples = 63\\nvalue = [8, 55]'),\n",
       " Text(0.7336582462145169, 0.6590909090909091, 'X[739] <= 0.172\\ngini = 0.26\\nsamples = 176\\nvalue = [27, 149]'),\n",
       " Text(0.7288961642918264, 0.6136363636363636, 'gini = 0.303\\nsamples = 113\\nvalue = [21, 92]'),\n",
       " Text(0.7384203281372075, 0.6136363636363636, 'gini = 0.172\\nsamples = 63\\nvalue = [6, 57]'),\n",
       " Text(0.7574686558279697, 0.75, 'X[750] <= -0.969\\ngini = 0.092\\nsamples = 619\\nvalue = [30, 589]'),\n",
       " Text(0.7527065739052792, 0.7045454545454546, 'gini = 0.255\\nsamples = 60\\nvalue = [9, 51]'),\n",
       " Text(0.7622307377506604, 0.7045454545454546, 'X[748] <= 0.673\\ngini = 0.072\\nsamples = 559\\nvalue = [21, 538]'),\n",
       " Text(0.7527065739052792, 0.6590909090909091, 'X[8] <= 0.5\\ngini = 0.101\\nsamples = 356\\nvalue = [19, 337]'),\n",
       " Text(0.7479444919825886, 0.6136363636363636, 'X[749] <= -0.794\\ngini = 0.074\\nsamples = 284\\nvalue = [11, 273]'),\n",
       " Text(0.743182410059898, 0.5681818181818182, 'X[739] <= 0.171\\ngini = 0.053\\nsamples = 222\\nvalue = [6, 216]'),\n",
       " Text(0.7384203281372075, 0.5227272727272727, 'X[742] <= -0.483\\ngini = 0.025\\nsamples = 161\\nvalue = [2, 159]'),\n",
       " Text(0.7336582462145169, 0.4772727272727273, 'gini = 0.064\\nsamples = 60\\nvalue = [2, 58]'),\n",
       " Text(0.743182410059898, 0.4772727272727273, 'gini = 0.0\\nsamples = 101\\nvalue = [0, 101]'),\n",
       " Text(0.7479444919825886, 0.5227272727272727, 'gini = 0.123\\nsamples = 61\\nvalue = [4, 57]'),\n",
       " Text(0.7527065739052792, 0.5681818181818182, 'gini = 0.148\\nsamples = 62\\nvalue = [5, 57]'),\n",
       " Text(0.7574686558279697, 0.6136363636363636, 'gini = 0.198\\nsamples = 72\\nvalue = [8, 64]'),\n",
       " Text(0.7717549015960415, 0.6590909090909091, 'X[739] <= 0.21\\ngini = 0.02\\nsamples = 203\\nvalue = [2, 201]'),\n",
       " Text(0.766992819673351, 0.6136363636363636, 'gini = 0.0\\nsamples = 143\\nvalue = [0, 143]'),\n",
       " Text(0.7765169835187321, 0.6136363636363636, 'gini = 0.064\\nsamples = 60\\nvalue = [2, 58]'),\n",
       " Text(0.9188027828416235, 0.9318181818181818, 'X[745] <= -0.25\\ngini = 0.301\\nsamples = 7004\\nvalue = [1291, 5713]'),\n",
       " Text(0.8887979463521708, 0.8863636363636364, 'X[2] <= 0.5\\ngini = 0.353\\nsamples = 2927\\nvalue = [671, 2256]'),\n",
       " Text(0.872502697272964, 0.8409090909090909, 'X[1] <= 0.5\\ngini = 0.345\\nsamples = 2787\\nvalue = [617, 2170]'),\n",
       " Text(0.8541984448826221, 0.7954545454545454, 'X[3] <= 0.5\\ngini = 0.353\\nsamples = 2637\\nvalue = [604, 2033]'),\n",
       " Text(0.83187618587001, 0.75, 'X[530] <= 0.5\\ngini = 0.37\\nsamples = 2115\\nvalue = [518, 1597]'),\n",
       " Text(0.8271141039473194, 0.7045454545454546, 'X[751] <= 0.883\\ngini = 0.375\\nsamples = 2055\\nvalue = [514, 1541]'),\n",
       " Text(0.8015179136128576, 0.6590909090909091, 'X[748] <= -0.918\\ngini = 0.357\\nsamples = 1547\\nvalue = [360, 1187]'),\n",
       " Text(0.7860411473641132, 0.6136363636363636, 'X[252] <= 0.5\\ngini = 0.384\\nsamples = 982\\nvalue = [254, 728]'),\n",
       " Text(0.7812790654414227, 0.5681818181818182, 'X[8] <= 0.5\\ngini = 0.392\\nsamples = 912\\nvalue = [244, 668]'),\n",
       " Text(0.7717549015960415, 0.5227272727272727, 'X[740] <= 0.878\\ngini = 0.376\\nsamples = 688\\nvalue = [173, 515]'),\n",
       " Text(0.766992819673351, 0.4772727272727273, 'X[739] <= 0.209\\ngini = 0.391\\nsamples = 586\\nvalue = [156, 430]'),\n",
       " Text(0.7622307377506604, 0.4318181818181818, 'X[0] <= 0.5\\ngini = 0.374\\nsamples = 502\\nvalue = [125, 377]'),\n",
       " Text(0.7527065739052792, 0.38636363636363635, 'X[743] <= 0.438\\ngini = 0.325\\nsamples = 264\\nvalue = [54, 210]'),\n",
       " Text(0.7479444919825886, 0.3409090909090909, 'X[743] <= -0.817\\ngini = 0.358\\nsamples = 171\\nvalue = [40, 131]'),\n",
       " Text(0.743182410059898, 0.29545454545454547, 'gini = 0.255\\nsamples = 60\\nvalue = [9, 51]'),\n",
       " Text(0.7527065739052792, 0.29545454545454547, 'gini = 0.403\\nsamples = 111\\nvalue = [31, 80]'),\n",
       " Text(0.7574686558279697, 0.3409090909090909, 'gini = 0.256\\nsamples = 93\\nvalue = [14, 79]'),\n",
       " Text(0.7717549015960415, 0.38636363636363635, 'X[751] <= 0.608\\ngini = 0.419\\nsamples = 238\\nvalue = [71, 167]'),\n",
       " Text(0.766992819673351, 0.3409090909090909, 'X[735] <= 0.5\\ngini = 0.389\\nsamples = 174\\nvalue = [46, 128]'),\n",
       " Text(0.7622307377506604, 0.29545454545454547, 'gini = 0.332\\nsamples = 114\\nvalue = [24, 90]'),\n",
       " Text(0.7717549015960415, 0.29545454545454547, 'gini = 0.464\\nsamples = 60\\nvalue = [22, 38]'),\n",
       " Text(0.7765169835187321, 0.3409090909090909, 'gini = 0.476\\nsamples = 64\\nvalue = [25, 39]'),\n",
       " Text(0.7717549015960415, 0.4318181818181818, 'gini = 0.466\\nsamples = 84\\nvalue = [31, 53]'),\n",
       " Text(0.7765169835187321, 0.4772727272727273, 'gini = 0.278\\nsamples = 102\\nvalue = [17, 85]'),\n",
       " Text(0.7908032292868038, 0.5227272727272727, 'X[748] <= -0.975\\ngini = 0.433\\nsamples = 224\\nvalue = [71, 153]'),\n",
       " Text(0.7860411473641132, 0.4772727272727273, 'X[740] <= 0.217\\ngini = 0.471\\nsamples = 129\\nvalue = [49, 80]'),\n",
       " Text(0.7812790654414227, 0.4318181818181818, 'gini = 0.41\\nsamples = 66\\nvalue = [19, 47]'),\n",
       " Text(0.7908032292868038, 0.4318181818181818, 'gini = 0.499\\nsamples = 63\\nvalue = [30, 33]'),\n",
       " Text(0.7955653112094944, 0.4772727272727273, 'gini = 0.356\\nsamples = 95\\nvalue = [22, 73]'),\n",
       " Text(0.7908032292868038, 0.5681818181818182, 'gini = 0.245\\nsamples = 70\\nvalue = [10, 60]'),\n",
       " Text(0.816994679861602, 0.6136363636363636, 'X[742] <= -0.611\\ngini = 0.305\\nsamples = 565\\nvalue = [106, 459]'),\n",
       " Text(0.8050894750548756, 0.5681818181818182, 'X[751] <= 0.623\\ngini = 0.201\\nsamples = 168\\nvalue = [19, 149]'),\n",
       " Text(0.8003273931321849, 0.5227272727272727, 'gini = 0.137\\nsamples = 108\\nvalue = [8, 100]'),\n",
       " Text(0.8098515569775662, 0.5227272727272727, 'gini = 0.299\\nsamples = 60\\nvalue = [11, 49]'),\n",
       " Text(0.8288998846683284, 0.5681818181818182, 'X[748] <= -0.786\\ngini = 0.342\\nsamples = 397\\nvalue = [87, 310]'),\n",
       " Text(0.8193757208229473, 0.5227272727272727, 'X[10] <= 0.5\\ngini = 0.285\\nsamples = 227\\nvalue = [39, 188]'),\n",
       " Text(0.8146136389002567, 0.4772727272727273, 'X[748] <= -0.875\\ngini = 0.336\\nsamples = 164\\nvalue = [35, 129]'),\n",
       " Text(0.8098515569775662, 0.4318181818181818, 'gini = 0.415\\nsamples = 68\\nvalue = [20, 48]'),\n",
       " Text(0.8193757208229473, 0.4318181818181818, 'gini = 0.264\\nsamples = 96\\nvalue = [15, 81]'),\n",
       " Text(0.8241378027456379, 0.4772727272727273, 'gini = 0.119\\nsamples = 63\\nvalue = [4, 59]'),\n",
       " Text(0.8384240485137096, 0.5227272727272727, 'X[748] <= -0.693\\ngini = 0.405\\nsamples = 170\\nvalue = [48, 122]'),\n",
       " Text(0.833661966591019, 0.4772727272727273, 'gini = 0.484\\nsamples = 61\\nvalue = [25, 36]'),\n",
       " Text(0.8431861304364001, 0.4772727272727273, 'gini = 0.333\\nsamples = 109\\nvalue = [23, 86]'),\n",
       " Text(0.8527102942817814, 0.6590909090909091, 'X[745] <= -0.933\\ngini = 0.422\\nsamples = 508\\nvalue = [154, 354]'),\n",
       " Text(0.8479482123590908, 0.6136363636363636, 'gini = 0.483\\nsamples = 115\\nvalue = [47, 68]'),\n",
       " Text(0.8574723762044719, 0.6136363636363636, 'X[741] <= -0.562\\ngini = 0.396\\nsamples = 393\\nvalue = [107, 286]'),\n",
       " Text(0.8527102942817814, 0.5681818181818182, 'gini = 0.454\\nsamples = 112\\nvalue = [39, 73]'),\n",
       " Text(0.8622344581271625, 0.5681818181818182, 'X[739] <= 0.214\\ngini = 0.367\\nsamples = 281\\nvalue = [68, 213]'),\n",
       " Text(0.8574723762044719, 0.5227272727272727, 'X[739] <= 0.151\\ngini = 0.404\\nsamples = 199\\nvalue = [56, 143]'),\n",
       " Text(0.8527102942817814, 0.4772727272727273, 'X[739] <= 0.076\\ngini = 0.357\\nsamples = 129\\nvalue = [30, 99]'),\n",
       " Text(0.8479482123590908, 0.4318181818181818, 'gini = 0.433\\nsamples = 60\\nvalue = [19, 41]'),\n",
       " Text(0.8574723762044719, 0.4318181818181818, 'gini = 0.268\\nsamples = 69\\nvalue = [11, 58]'),\n",
       " Text(0.8622344581271625, 0.4772727272727273, 'gini = 0.467\\nsamples = 70\\nvalue = [26, 44]'),\n",
       " Text(0.866996540049853, 0.5227272727272727, 'gini = 0.25\\nsamples = 82\\nvalue = [12, 70]'),\n",
       " Text(0.8366382677927007, 0.7045454545454546, 'gini = 0.124\\nsamples = 60\\nvalue = [4, 56]'),\n",
       " Text(0.8765207038952342, 0.75, 'X[751] <= 0.318\\ngini = 0.275\\nsamples = 522\\nvalue = [86, 436]'),\n",
       " Text(0.866996540049853, 0.7045454545454546, 'X[750] <= -0.993\\ngini = 0.178\\nsamples = 152\\nvalue = [15, 137]'),\n",
       " Text(0.8622344581271625, 0.6590909090909091, 'gini = 0.29\\nsamples = 74\\nvalue = [13, 61]'),\n",
       " Text(0.8717586219725436, 0.6590909090909091, 'gini = 0.05\\nsamples = 78\\nvalue = [2, 76]'),\n",
       " Text(0.8860448677406153, 0.7045454545454546, 'X[29] <= 0.5\\ngini = 0.31\\nsamples = 370\\nvalue = [71, 299]'),\n",
       " Text(0.8812827858179247, 0.6590909090909091, 'X[742] <= 0.347\\ngini = 0.277\\nsamples = 289\\nvalue = [48, 241]'),\n",
       " Text(0.8765207038952342, 0.6136363636363636, 'X[735] <= 0.5\\ngini = 0.327\\nsamples = 170\\nvalue = [35, 135]'),\n",
       " Text(0.8717586219725436, 0.5681818181818182, 'gini = 0.254\\nsamples = 94\\nvalue = [14, 80]'),\n",
       " Text(0.8812827858179247, 0.5681818181818182, 'gini = 0.4\\nsamples = 76\\nvalue = [21, 55]'),\n",
       " Text(0.8860448677406153, 0.6136363636363636, 'gini = 0.195\\nsamples = 119\\nvalue = [13, 106]'),\n",
       " Text(0.890806949663306, 0.6590909090909091, 'gini = 0.407\\nsamples = 81\\nvalue = [23, 58]'),\n",
       " Text(0.890806949663306, 0.7954545454545454, 'X[739] <= 0.204\\ngini = 0.158\\nsamples = 150\\nvalue = [13, 137]'),\n",
       " Text(0.8860448677406153, 0.75, 'gini = 0.105\\nsamples = 90\\nvalue = [5, 85]'),\n",
       " Text(0.8955690315859965, 0.75, 'gini = 0.231\\nsamples = 60\\nvalue = [8, 52]'),\n",
       " Text(0.9050931954313777, 0.8409090909090909, 'X[739] <= 0.235\\ngini = 0.474\\nsamples = 140\\nvalue = [54, 86]'),\n",
       " Text(0.9003311135086871, 0.7954545454545454, 'gini = 0.499\\nsamples = 78\\nvalue = [37, 41]'),\n",
       " Text(0.9098552773540682, 0.7954545454545454, 'gini = 0.398\\nsamples = 62\\nvalue = [17, 45]'),\n",
       " Text(0.9488076193310763, 0.8863636363636364, 'X[736] <= 0.5\\ngini = 0.258\\nsamples = 4077\\nvalue = [620, 3457]'),\n",
       " Text(0.9333308530823319, 0.8409090909090909, 'X[480] <= 0.5\\ngini = 0.275\\nsamples = 3237\\nvalue = [532, 2705]'),\n",
       " Text(0.9285687711596413, 0.7954545454545454, 'X[201] <= 0.5\\ngini = 0.27\\nsamples = 3168\\nvalue = [510, 2658]'),\n",
       " Text(0.9238066892369508, 0.75, 'X[617] <= 0.5\\ngini = 0.266\\nsamples = 3097\\nvalue = [489, 2608]'),\n",
       " Text(0.9190446073142602, 0.7045454545454546, 'X[121] <= 0.5\\ngini = 0.26\\nsamples = 2984\\nvalue = [459, 2525]'),\n",
       " Text(0.9142825253915696, 0.6590909090909091, 'X[679] <= 0.5\\ngini = 0.255\\nsamples = 2903\\nvalue = [436, 2467]'),\n",
       " Text(0.9095204434688791, 0.6136363636363636, 'X[750] <= -0.173\\ngini = 0.251\\nsamples = 2825\\nvalue = [415, 2410]'),\n",
       " Text(0.8953458089958704, 0.5681818181818182, 'X[751] <= 0.977\\ngini = 0.26\\nsamples = 2512\\nvalue = [385, 2127]'),\n",
       " Text(0.8905837270731798, 0.5227272727272727, 'X[740] <= 0.878\\ngini = 0.254\\nsamples = 2426\\nvalue = [363, 2063]'),\n",
       " Text(0.8717586219725436, 0.4772727272727273, 'X[2] <= 0.5\\ngini = 0.264\\nsamples = 2101\\nvalue = [329, 1772]'),\n",
       " Text(0.866996540049853, 0.4318181818181818, 'X[748] <= -0.997\\ngini = 0.259\\nsamples = 2016\\nvalue = [308, 1708]'),\n",
       " Text(0.848394657539343, 0.38636363636363635, 'X[739] <= 0.071\\ngini = 0.175\\nsamples = 176\\nvalue = [17, 159]'),\n",
       " Text(0.8436325756166524, 0.3409090909090909, 'gini = 0.278\\nsamples = 60\\nvalue = [10, 50]'),\n",
       " Text(0.8531567394620335, 0.3409090909090909, 'gini = 0.113\\nsamples = 116\\nvalue = [7, 109]'),\n",
       " Text(0.8855984225603631, 0.38636363636363635, 'X[748] <= -0.989\\ngini = 0.266\\nsamples = 1840\\nvalue = [291, 1549]'),\n",
       " Text(0.8626809033074148, 0.3409090909090909, 'X[743] <= -0.151\\ngini = 0.326\\nsamples = 303\\nvalue = [62, 241]'),\n",
       " Text(0.8531567394620335, 0.29545454545454547, 'X[740] <= -0.217\\ngini = 0.24\\nsamples = 136\\nvalue = [19, 117]'),\n",
       " Text(0.848394657539343, 0.25, 'gini = 0.153\\nsamples = 60\\nvalue = [5, 55]'),\n",
       " Text(0.8579188213847241, 0.25, 'gini = 0.301\\nsamples = 76\\nvalue = [14, 62]'),\n",
       " Text(0.8722050671527959, 0.29545454545454547, 'X[746] <= 0.5\\ngini = 0.382\\nsamples = 167\\nvalue = [43, 124]'),\n",
       " Text(0.8674429852301053, 0.25, 'gini = 0.315\\nsamples = 97\\nvalue = [19, 78]'),\n",
       " Text(0.8769671490754865, 0.25, 'gini = 0.451\\nsamples = 70\\nvalue = [24, 46]'),\n",
       " Text(0.9085159418133115, 0.3409090909090909, 'X[743] <= -0.817\\ngini = 0.254\\nsamples = 1537\\nvalue = [229, 1308]'),\n",
       " Text(0.8912533948435581, 0.29545454545454547, 'X[0] <= 0.5\\ngini = 0.318\\nsamples = 302\\nvalue = [60, 242]'),\n",
       " Text(0.8864913129208676, 0.25, 'X[740] <= 0.217\\ngini = 0.272\\nsamples = 228\\nvalue = [37, 191]'),\n",
       " Text(0.881729230998177, 0.20454545454545456, 'X[748] <= -0.896\\ngini = 0.224\\nsamples = 156\\nvalue = [20, 136]'),\n",
       " Text(0.8769671490754865, 0.1590909090909091, 'gini = 0.158\\nsamples = 81\\nvalue = [7, 74]'),\n",
       " Text(0.8864913129208676, 0.1590909090909091, 'gini = 0.287\\nsamples = 75\\nvalue = [13, 62]'),\n",
       " Text(0.8912533948435581, 0.20454545454545456, 'gini = 0.361\\nsamples = 72\\nvalue = [17, 55]'),\n",
       " Text(0.8960154767662487, 0.25, 'gini = 0.428\\nsamples = 74\\nvalue = [23, 51]'),\n",
       " Text(0.9257784887830649, 0.29545454545454547, 'X[748] <= -0.919\\ngini = 0.236\\nsamples = 1235\\nvalue = [169, 1066]'),\n",
       " Text(0.9103017225343205, 0.25, 'X[745] <= 0.933\\ngini = 0.198\\nsamples = 531\\nvalue = [59, 472]'),\n",
       " Text(0.90553964061163, 0.20454545454545456, 'X[751] <= 0.596\\ngini = 0.22\\nsamples = 444\\nvalue = [56, 388]'),\n",
       " Text(0.8960154767662487, 0.1590909090909091, 'X[744] <= 0.683\\ngini = 0.262\\nsamples = 264\\nvalue = [41, 223]'),\n",
       " Text(0.8912533948435581, 0.11363636363636363, 'X[751] <= 0.349\\ngini = 0.312\\nsamples = 191\\nvalue = [37, 154]'),\n",
       " Text(0.8864913129208676, 0.06818181818181818, 'gini = 0.234\\nsamples = 118\\nvalue = [16, 102]'),\n",
       " Text(0.8960154767662487, 0.06818181818181818, 'gini = 0.41\\nsamples = 73\\nvalue = [21, 52]'),\n",
       " Text(0.9007775586889393, 0.11363636363636363, 'gini = 0.104\\nsamples = 73\\nvalue = [4, 69]'),\n",
       " Text(0.9150638044570111, 0.1590909090909091, 'X[740] <= -0.608\\ngini = 0.153\\nsamples = 180\\nvalue = [15, 165]'),\n",
       " Text(0.9103017225343205, 0.11363636363636363, 'gini = 0.245\\nsamples = 63\\nvalue = [9, 54]'),\n",
       " Text(0.9198258863797016, 0.11363636363636363, 'gini = 0.097\\nsamples = 117\\nvalue = [6, 111]'),\n",
       " Text(0.9150638044570111, 0.20454545454545456, 'gini = 0.067\\nsamples = 87\\nvalue = [3, 84]'),\n",
       " Text(0.9412552550318092, 0.25, 'X[748] <= -0.888\\ngini = 0.264\\nsamples = 704\\nvalue = [110, 594]'),\n",
       " Text(0.9293500502250828, 0.20454545454545456, 'X[747] <= 0.5\\ngini = 0.354\\nsamples = 148\\nvalue = [34, 114]'),\n",
       " Text(0.9245879683023922, 0.1590909090909091, 'gini = 0.422\\nsamples = 76\\nvalue = [23, 53]'),\n",
       " Text(0.9341121321477733, 0.1590909090909091, 'gini = 0.259\\nsamples = 72\\nvalue = [11, 61]'),\n",
       " Text(0.9531604598385357, 0.20454545454545456, 'X[744] <= 0.683\\ngini = 0.236\\nsamples = 556\\nvalue = [76, 480]'),\n",
       " Text(0.9436362959931545, 0.1590909090909091, 'X[750] <= -0.408\\ngini = 0.271\\nsamples = 390\\nvalue = [63, 327]'),\n",
       " Text(0.9388742140704639, 0.11363636363636363, 'X[739] <= 0.207\\ngini = 0.241\\nsamples = 314\\nvalue = [44, 270]'),\n",
       " Text(0.9341121321477733, 0.06818181818181818, 'X[739] <= 0.068\\ngini = 0.204\\nsamples = 208\\nvalue = [24, 184]'),\n",
       " Text(0.9293500502250828, 0.022727272727272728, 'gini = 0.309\\nsamples = 89\\nvalue = [17, 72]'),\n",
       " Text(0.9388742140704639, 0.022727272727272728, 'gini = 0.111\\nsamples = 119\\nvalue = [7, 112]'),\n",
       " Text(0.9436362959931545, 0.06818181818181818, 'gini = 0.306\\nsamples = 106\\nvalue = [20, 86]'),\n",
       " Text(0.9483983779158451, 0.11363636363636363, 'gini = 0.375\\nsamples = 76\\nvalue = [19, 57]'),\n",
       " Text(0.9626846236839168, 0.1590909090909091, 'X[735] <= 0.5\\ngini = 0.144\\nsamples = 166\\nvalue = [13, 153]'),\n",
       " Text(0.9579225417612263, 0.11363636363636363, 'gini = 0.189\\nsamples = 104\\nvalue = [11, 93]'),\n",
       " Text(0.9674467056066074, 0.11363636363636363, 'gini = 0.062\\nsamples = 62\\nvalue = [2, 60]'),\n",
       " Text(0.8765207038952342, 0.4318181818181818, 'gini = 0.372\\nsamples = 85\\nvalue = [21, 64]'),\n",
       " Text(0.909408832173816, 0.4772727272727273, 'X[743] <= 0.05\\ngini = 0.187\\nsamples = 325\\nvalue = [34, 291]'),\n",
       " Text(0.8998846683284348, 0.4318181818181818, 'X[739] <= 0.149\\ngini = 0.107\\nsamples = 158\\nvalue = [9, 149]'),\n",
       " Text(0.8951225864057443, 0.38636363636363635, 'gini = 0.153\\nsamples = 96\\nvalue = [8, 88]'),\n",
       " Text(0.9046467502511254, 0.38636363636363635, 'gini = 0.032\\nsamples = 62\\nvalue = [1, 61]'),\n",
       " Text(0.9189329960191971, 0.4318181818181818, 'X[743] <= 0.87\\ngini = 0.255\\nsamples = 167\\nvalue = [25, 142]'),\n",
       " Text(0.9141709140965065, 0.38636363636363635, 'gini = 0.322\\nsamples = 104\\nvalue = [21, 83]'),\n",
       " Text(0.9236950779418878, 0.38636363636363635, 'gini = 0.119\\nsamples = 63\\nvalue = [4, 59]'),\n",
       " Text(0.9001078909185609, 0.5227272727272727, 'gini = 0.381\\nsamples = 86\\nvalue = [22, 64]'),\n",
       " Text(0.9236950779418878, 0.5681818181818182, 'X[751] <= 0.989\\ngini = 0.173\\nsamples = 313\\nvalue = [30, 283]'),\n",
       " Text(0.9189329960191971, 0.5227272727272727, 'gini = 0.089\\nsamples = 107\\nvalue = [5, 102]'),\n",
       " Text(0.9284571598645783, 0.5227272727272727, 'X[739] <= 0.117\\ngini = 0.213\\nsamples = 206\\nvalue = [25, 181]'),\n",
       " Text(0.9236950779418878, 0.4772727272727273, 'gini = 0.092\\nsamples = 62\\nvalue = [3, 59]'),\n",
       " Text(0.9332192417872689, 0.4772727272727273, 'X[743] <= 0.249\\ngini = 0.259\\nsamples = 144\\nvalue = [22, 122]'),\n",
       " Text(0.9284571598645783, 0.4318181818181818, 'gini = 0.191\\nsamples = 84\\nvalue = [9, 75]'),\n",
       " Text(0.9379813237099595, 0.4318181818181818, 'gini = 0.339\\nsamples = 60\\nvalue = [13, 47]'),\n",
       " Text(0.9190446073142602, 0.6136363636363636, 'gini = 0.393\\nsamples = 78\\nvalue = [21, 57]'),\n",
       " Text(0.9238066892369508, 0.6590909090909091, 'gini = 0.407\\nsamples = 81\\nvalue = [23, 58]'),\n",
       " Text(0.9285687711596413, 0.7045454545454546, 'gini = 0.39\\nsamples = 113\\nvalue = [30, 83]'),\n",
       " Text(0.9333308530823319, 0.75, 'gini = 0.417\\nsamples = 71\\nvalue = [21, 50]'),\n",
       " Text(0.9380929350050226, 0.7954545454545454, 'gini = 0.434\\nsamples = 69\\nvalue = [22, 47]'),\n",
       " Text(0.9642843855798207, 0.8409090909090909, 'X[744] <= -0.25\\ngini = 0.188\\nsamples = 840\\nvalue = [88, 752]'),\n",
       " Text(0.9476170988504037, 0.7954545454545454, 'X[739] <= 0.129\\ngini = 0.086\\nsamples = 243\\nvalue = [11, 232]'),\n",
       " Text(0.9428550169277131, 0.75, 'gini = 0.131\\nsamples = 114\\nvalue = [8, 106]'),\n",
       " Text(0.9523791807730942, 0.75, 'X[742] <= -0.25\\ngini = 0.045\\nsamples = 129\\nvalue = [3, 126]'),\n",
       " Text(0.9476170988504037, 0.7045454545454546, 'gini = 0.094\\nsamples = 61\\nvalue = [3, 58]'),\n",
       " Text(0.9571412626957848, 0.7045454545454546, 'gini = 0.0\\nsamples = 68\\nvalue = [0, 68]'),\n",
       " Text(0.9809516723092377, 0.7954545454545454, 'X[750] <= -0.855\\ngini = 0.225\\nsamples = 597\\nvalue = [77, 520]'),\n",
       " Text(0.9714275084638565, 0.75, 'X[751] <= 0.342\\ngini = 0.286\\nsamples = 214\\nvalue = [37, 177]'),\n",
       " Text(0.9666654265411659, 0.7045454545454546, 'X[739] <= 0.125\\ngini = 0.223\\nsamples = 149\\nvalue = [19, 130]'),\n",
       " Text(0.9619033446184754, 0.6590909090909091, 'gini = 0.144\\nsamples = 77\\nvalue = [6, 71]'),\n",
       " Text(0.9714275084638565, 0.6590909090909091, 'gini = 0.296\\nsamples = 72\\nvalue = [13, 59]'),\n",
       " Text(0.9761895903865471, 0.7045454545454546, 'gini = 0.4\\nsamples = 65\\nvalue = [18, 47]'),\n",
       " Text(0.9904758361546189, 0.75, 'X[751] <= 0.969\\ngini = 0.187\\nsamples = 383\\nvalue = [40, 343]'),\n",
       " Text(0.9857137542319283, 0.7045454545454546, 'X[740] <= 0.608\\ngini = 0.159\\nsamples = 288\\nvalue = [25, 263]'),\n",
       " Text(0.9809516723092377, 0.6590909090909091, 'X[742] <= 0.44\\ngini = 0.113\\nsamples = 200\\nvalue = [12, 188]'),\n",
       " Text(0.9761895903865471, 0.6136363636363636, 'X[744] <= 0.683\\ngini = 0.056\\nsamples = 140\\nvalue = [4, 136]'),\n",
       " Text(0.9714275084638565, 0.5681818181818182, 'gini = 0.0\\nsamples = 61\\nvalue = [0, 61]'),\n",
       " Text(0.9809516723092377, 0.5681818181818182, 'gini = 0.096\\nsamples = 79\\nvalue = [4, 75]'),\n",
       " Text(0.9857137542319283, 0.6136363636363636, 'gini = 0.231\\nsamples = 60\\nvalue = [8, 52]'),\n",
       " Text(0.9904758361546189, 0.6590909090909091, 'gini = 0.252\\nsamples = 88\\nvalue = [13, 75]'),\n",
       " Text(0.9952379180773094, 0.7045454545454546, 'gini = 0.266\\nsamples = 95\\nvalue = [15, 80]')]"
      ]
     },
     "execution_count": 240,
     "metadata": {},
     "output_type": "execute_result"
    },
    {
     "data": {
      "image/png": "[encoded data removed]",
      "text/plain": [
       "<Figure size 640x480 with 1 Axes>"
      ]
     },
     "metadata": {},
     "output_type": "display_data"
    }
   ],
   "source": [
    "tree.plot_tree(clf)"
   ]
  },
  {
   "cell_type": "code",
   "execution_count": null,
   "id": "89952506",
   "metadata": {
    "scrolled": true
   },
   "outputs": [],
   "source": [
    "clf.get_depth()"
   ]
  },
  {
   "cell_type": "code",
   "execution_count": null,
   "id": "6c3aa856",
   "metadata": {},
   "outputs": [],
   "source": [
    "clf.get_n_leaves()"
   ]
  },
  {
   "cell_type": "code",
   "execution_count": null,
   "id": "4d2f9989",
   "metadata": {},
   "outputs": [],
   "source": [
    "#tree.get_params(deep=True)"
   ]
  },
  {
   "cell_type": "code",
   "execution_count": null,
   "id": "325ed091",
   "metadata": {},
   "outputs": [],
   "source": [
    "clf.predict(X, check_input=True)"
   ]
  },
  {
   "cell_type": "code",
   "execution_count": null,
   "id": "b7ee758f",
   "metadata": {
    "scrolled": false
   },
   "outputs": [],
   "source": [
    "clf.predict_proba(X, check_input=True)"
   ]
  },
  {
   "cell_type": "markdown",
   "id": "1e4a5b29",
   "metadata": {},
   "source": [
    "## Diagrams"
   ]
  },
  {
   "cell_type": "code",
   "execution_count": null,
   "id": "f0f8e317",
   "metadata": {},
   "outputs": [],
   "source": []
  }
 ],
 "metadata": {
  "kernelspec": {
   "display_name": "Python 3 (ipykernel)",
   "language": "python",
   "name": "python3"
  },
  "language_info": {
   "codemirror_mode": {
    "name": "ipython",
    "version": 3
   },
   "file_extension": ".py",
   "mimetype": "text/x-python",
   "name": "python",
   "nbconvert_exporter": "python",
   "pygments_lexer": "ipython3",
   "version": "3.8.12"
  },
  "toc": {
   "base_numbering": 1,
   "nav_menu": {},
   "number_sections": true,
   "sideBar": true,
   "skip_h1_title": false,
   "title_cell": "Table of Contents",
   "title_sidebar": "Contents",
   "toc_cell": false,
   "toc_position": {},
   "toc_section_display": true,
   "toc_window_display": false
  },
  "vscode": {
   "interpreter": {
    "hash": "3060aaa7e85a7b9f93a7d471b35a73f17a94bf58075b7a0a7ed3c7b7895f5329"
   }
  }
 },
 "nbformat": 4,
 "nbformat_minor": 5
}
