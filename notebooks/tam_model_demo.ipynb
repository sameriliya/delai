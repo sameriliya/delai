{
 "cells": [
  {
   "cell_type": "code",
   "execution_count": 1,
   "id": "c778b60a",
   "metadata": {},
   "outputs": [],
   "source": [
    "import pandas as pd\n",
    "import numpy as np\n",
    "\n",
    "from delai.data.local_disk import get_pandas_chunk\n",
    "from delai.ml_logic.preprocessing import preprocess_X, preprocess_y\n",
    "\n",
    "from sklearn.metrics import classification_report, accuracy_score, recall_score\n",
    "from sklearn.model_selection import train_test_split\n",
    "from sklearn.tree import DecisionTreeClassifier\n",
    "from sklearn.model_selection import cross_validate\n",
    "from sklearn.model_selection import cross_val_score\n",
    "from sklearn import datasets\n",
    "from sklearn import tree\n",
    "\n",
    "from matplotlib import pyplot as plt"
   ]
  },
  {
   "cell_type": "markdown",
   "id": "ddfe64a7",
   "metadata": {},
   "source": [
    "## Import CSV & create X / y datasets"
   ]
  },
  {
   "cell_type": "code",
   "execution_count": 2,
   "id": "a56dd18d",
   "metadata": {},
   "outputs": [],
   "source": [
    "df_X = pd.read_csv('../raw_data/train_100k.csv')\n",
    "df_y = pd.read_csv('../raw_data/train_100k.csv')"
   ]
  },
  {
   "cell_type": "code",
   "execution_count": 3,
   "id": "bce4f986",
   "metadata": {},
   "outputs": [],
   "source": [
    "df_X = df_X.drop(columns=[\"ArrDelayMinutes\" , \"Cancelled\", \"Diverted\"], axis =1)\n",
    "df_y = df_y.drop(df_y.iloc[:, 1:22],axis = 1)"
   ]
  },
  {
   "cell_type": "code",
   "execution_count": 4,
   "id": "4f97ef9f",
   "metadata": {},
   "outputs": [
    {
     "data": {
      "text/html": [
       "<div>\n",
       "<style scoped>\n",
       "    .dataframe tbody tr th:only-of-type {\n",
       "        vertical-align: middle;\n",
       "    }\n",
       "\n",
       "    .dataframe tbody tr th {\n",
       "        vertical-align: top;\n",
       "    }\n",
       "\n",
       "    .dataframe thead th {\n",
       "        text-align: right;\n",
       "    }\n",
       "</style>\n",
       "<table border=\"1\" class=\"dataframe\">\n",
       "  <thead>\n",
       "    <tr style=\"text-align: right;\">\n",
       "      <th></th>\n",
       "      <th>Unnamed: 0</th>\n",
       "      <th>FlightDate</th>\n",
       "      <th>Year</th>\n",
       "      <th>Quarter</th>\n",
       "      <th>Month</th>\n",
       "      <th>DayofMonth</th>\n",
       "      <th>DayOfWeek</th>\n",
       "      <th>Airline</th>\n",
       "      <th>Operating_Airline</th>\n",
       "      <th>Marketing_Airline_Network</th>\n",
       "      <th>...</th>\n",
       "      <th>Dest</th>\n",
       "      <th>CRSDepTime</th>\n",
       "      <th>OriginAirportID</th>\n",
       "      <th>OriginCityName</th>\n",
       "      <th>OriginStateName</th>\n",
       "      <th>DestAirportID</th>\n",
       "      <th>DestCityName</th>\n",
       "      <th>DestStateName</th>\n",
       "      <th>CRSArrTime</th>\n",
       "      <th>Distance</th>\n",
       "    </tr>\n",
       "  </thead>\n",
       "  <tbody>\n",
       "    <tr>\n",
       "      <th>0</th>\n",
       "      <td>4324343</td>\n",
       "      <td>7/20/2018</td>\n",
       "      <td>2018</td>\n",
       "      <td>3</td>\n",
       "      <td>7</td>\n",
       "      <td>20</td>\n",
       "      <td>5</td>\n",
       "      <td>Southwest Airlines Co.</td>\n",
       "      <td>WN</td>\n",
       "      <td>WN</td>\n",
       "      <td>...</td>\n",
       "      <td>DAL</td>\n",
       "      <td>1200</td>\n",
       "      <td>12889</td>\n",
       "      <td>Las Vegas, NV</td>\n",
       "      <td>Nevada</td>\n",
       "      <td>11259</td>\n",
       "      <td>Dallas, TX</td>\n",
       "      <td>Texas</td>\n",
       "      <td>1640</td>\n",
       "      <td>1067</td>\n",
       "    </tr>\n",
       "    <tr>\n",
       "      <th>1</th>\n",
       "      <td>28169346</td>\n",
       "      <td>1/2/2022</td>\n",
       "      <td>2022</td>\n",
       "      <td>1</td>\n",
       "      <td>1</td>\n",
       "      <td>2</td>\n",
       "      <td>7</td>\n",
       "      <td>Spirit Air Lines</td>\n",
       "      <td>NK</td>\n",
       "      <td>NK</td>\n",
       "      <td>...</td>\n",
       "      <td>MSY</td>\n",
       "      <td>2110</td>\n",
       "      <td>15304</td>\n",
       "      <td>Tampa, FL</td>\n",
       "      <td>Florida</td>\n",
       "      <td>13495</td>\n",
       "      <td>New Orleans, LA</td>\n",
       "      <td>Louisiana</td>\n",
       "      <td>2148</td>\n",
       "      <td>488</td>\n",
       "    </tr>\n",
       "    <tr>\n",
       "      <th>2</th>\n",
       "      <td>18078508</td>\n",
       "      <td>2/11/2020</td>\n",
       "      <td>2020</td>\n",
       "      <td>1</td>\n",
       "      <td>2</td>\n",
       "      <td>11</td>\n",
       "      <td>2</td>\n",
       "      <td>Air Wisconsin Airlines Corp</td>\n",
       "      <td>ZW</td>\n",
       "      <td>UA</td>\n",
       "      <td>...</td>\n",
       "      <td>ORF</td>\n",
       "      <td>930</td>\n",
       "      <td>13930</td>\n",
       "      <td>Chicago, IL</td>\n",
       "      <td>Illinois</td>\n",
       "      <td>13931</td>\n",
       "      <td>Norfolk, VA</td>\n",
       "      <td>Virginia</td>\n",
       "      <td>1245</td>\n",
       "      <td>717</td>\n",
       "    </tr>\n",
       "    <tr>\n",
       "      <th>3</th>\n",
       "      <td>23669089</td>\n",
       "      <td>2/10/2021</td>\n",
       "      <td>2021</td>\n",
       "      <td>1</td>\n",
       "      <td>2</td>\n",
       "      <td>10</td>\n",
       "      <td>3</td>\n",
       "      <td>United Air Lines Inc.</td>\n",
       "      <td>UA</td>\n",
       "      <td>UA</td>\n",
       "      <td>...</td>\n",
       "      <td>IAH</td>\n",
       "      <td>700</td>\n",
       "      <td>15304</td>\n",
       "      <td>Tampa, FL</td>\n",
       "      <td>Florida</td>\n",
       "      <td>12266</td>\n",
       "      <td>Houston, TX</td>\n",
       "      <td>Texas</td>\n",
       "      <td>828</td>\n",
       "      <td>787</td>\n",
       "    </tr>\n",
       "    <tr>\n",
       "      <th>4</th>\n",
       "      <td>14530840</td>\n",
       "      <td>3/12/2020</td>\n",
       "      <td>2020</td>\n",
       "      <td>1</td>\n",
       "      <td>3</td>\n",
       "      <td>12</td>\n",
       "      <td>4</td>\n",
       "      <td>JetBlue Airways</td>\n",
       "      <td>B6</td>\n",
       "      <td>B6</td>\n",
       "      <td>...</td>\n",
       "      <td>BOS</td>\n",
       "      <td>1324</td>\n",
       "      <td>11278</td>\n",
       "      <td>Washington, DC</td>\n",
       "      <td>Virginia</td>\n",
       "      <td>10721</td>\n",
       "      <td>Boston, MA</td>\n",
       "      <td>Massachusetts</td>\n",
       "      <td>1455</td>\n",
       "      <td>399</td>\n",
       "    </tr>\n",
       "  </tbody>\n",
       "</table>\n",
       "<p>5 rows × 22 columns</p>\n",
       "</div>"
      ],
      "text/plain": [
       "   Unnamed: 0 FlightDate  Year  Quarter  Month  DayofMonth  DayOfWeek  \\\n",
       "0     4324343  7/20/2018  2018        3      7          20          5   \n",
       "1    28169346   1/2/2022  2022        1      1           2          7   \n",
       "2    18078508  2/11/2020  2020        1      2          11          2   \n",
       "3    23669089  2/10/2021  2021        1      2          10          3   \n",
       "4    14530840  3/12/2020  2020        1      3          12          4   \n",
       "\n",
       "                       Airline Operating_Airline Marketing_Airline_Network  \\\n",
       "0       Southwest Airlines Co.                WN                        WN   \n",
       "1             Spirit Air Lines                NK                        NK   \n",
       "2  Air Wisconsin Airlines Corp                ZW                        UA   \n",
       "3        United Air Lines Inc.                UA                        UA   \n",
       "4              JetBlue Airways                B6                        B6   \n",
       "\n",
       "   ...  Dest CRSDepTime OriginAirportID  OriginCityName  OriginStateName  \\\n",
       "0  ...   DAL       1200           12889   Las Vegas, NV           Nevada   \n",
       "1  ...   MSY       2110           15304       Tampa, FL          Florida   \n",
       "2  ...   ORF        930           13930     Chicago, IL         Illinois   \n",
       "3  ...   IAH        700           15304       Tampa, FL          Florida   \n",
       "4  ...   BOS       1324           11278  Washington, DC         Virginia   \n",
       "\n",
       "  DestAirportID     DestCityName  DestStateName CRSArrTime Distance  \n",
       "0         11259       Dallas, TX          Texas       1640     1067  \n",
       "1         13495  New Orleans, LA      Louisiana       2148      488  \n",
       "2         13931      Norfolk, VA       Virginia       1245      717  \n",
       "3         12266      Houston, TX          Texas        828      787  \n",
       "4         10721       Boston, MA  Massachusetts       1455      399  \n",
       "\n",
       "[5 rows x 22 columns]"
      ]
     },
     "execution_count": 4,
     "metadata": {},
     "output_type": "execute_result"
    }
   ],
   "source": [
    "df_X.head()\n"
   ]
  },
  {
   "cell_type": "code",
   "execution_count": 5,
   "id": "eecbfa75",
   "metadata": {
    "scrolled": false
   },
   "outputs": [
    {
     "data": {
      "text/html": [
       "<div>\n",
       "<style scoped>\n",
       "    .dataframe tbody tr th:only-of-type {\n",
       "        vertical-align: middle;\n",
       "    }\n",
       "\n",
       "    .dataframe tbody tr th {\n",
       "        vertical-align: top;\n",
       "    }\n",
       "\n",
       "    .dataframe thead th {\n",
       "        text-align: right;\n",
       "    }\n",
       "</style>\n",
       "<table border=\"1\" class=\"dataframe\">\n",
       "  <thead>\n",
       "    <tr style=\"text-align: right;\">\n",
       "      <th></th>\n",
       "      <th>Unnamed: 0</th>\n",
       "      <th>ArrDelayMinutes</th>\n",
       "      <th>Cancelled</th>\n",
       "      <th>Diverted</th>\n",
       "    </tr>\n",
       "  </thead>\n",
       "  <tbody>\n",
       "    <tr>\n",
       "      <th>0</th>\n",
       "      <td>4324343</td>\n",
       "      <td>0.0</td>\n",
       "      <td>False</td>\n",
       "      <td>False</td>\n",
       "    </tr>\n",
       "    <tr>\n",
       "      <th>1</th>\n",
       "      <td>28169346</td>\n",
       "      <td>2.0</td>\n",
       "      <td>False</td>\n",
       "      <td>False</td>\n",
       "    </tr>\n",
       "    <tr>\n",
       "      <th>2</th>\n",
       "      <td>18078508</td>\n",
       "      <td>0.0</td>\n",
       "      <td>False</td>\n",
       "      <td>False</td>\n",
       "    </tr>\n",
       "    <tr>\n",
       "      <th>3</th>\n",
       "      <td>23669089</td>\n",
       "      <td>0.0</td>\n",
       "      <td>False</td>\n",
       "      <td>False</td>\n",
       "    </tr>\n",
       "    <tr>\n",
       "      <th>4</th>\n",
       "      <td>14530840</td>\n",
       "      <td>0.0</td>\n",
       "      <td>False</td>\n",
       "      <td>False</td>\n",
       "    </tr>\n",
       "  </tbody>\n",
       "</table>\n",
       "</div>"
      ],
      "text/plain": [
       "   Unnamed: 0  ArrDelayMinutes  Cancelled  Diverted\n",
       "0     4324343              0.0      False     False\n",
       "1    28169346              2.0      False     False\n",
       "2    18078508              0.0      False     False\n",
       "3    23669089              0.0      False     False\n",
       "4    14530840              0.0      False     False"
      ]
     },
     "execution_count": 5,
     "metadata": {},
     "output_type": "execute_result"
    }
   ],
   "source": [
    "df_y.head()"
   ]
  },
  {
   "cell_type": "markdown",
   "id": "972416ff",
   "metadata": {},
   "source": [
    "## Preprocess data"
   ]
  },
  {
   "cell_type": "code",
   "execution_count": null,
   "id": "e7f5d935",
   "metadata": {},
   "outputs": [],
   "source": [
    "X = preprocess_X(df_X)"
   ]
  },
  {
   "cell_type": "code",
   "execution_count": null,
   "id": "21a24bbc",
   "metadata": {},
   "outputs": [],
   "source": [
    "y = preprocess_y(df_y)"
   ]
  },
  {
   "cell_type": "code",
   "execution_count": null,
   "id": "2fe301bd",
   "metadata": {},
   "outputs": [],
   "source": [
    "X = X.drop(columns=[680], axis =1)\n",
    "X = X.dropna()"
   ]
  },
  {
   "cell_type": "markdown",
   "id": "426b77d1",
   "metadata": {},
   "source": [
    "## t_t_s & inspect\n"
   ]
  },
  {
   "cell_type": "markdown",
   "id": "99867a03",
   "metadata": {},
   "source": [
    "X_train, X_test, y_train, y_test = train_test_split(X, y,test_size=0.2, random_state = 1)"
   ]
  },
  {
   "cell_type": "code",
   "execution_count": null,
   "id": "4045ba17",
   "metadata": {},
   "outputs": [],
   "source": [
    "X.shape"
   ]
  },
  {
   "cell_type": "code",
   "execution_count": null,
   "id": "b22c709e",
   "metadata": {},
   "outputs": [],
   "source": [
    "y.shape"
   ]
  },
  {
   "cell_type": "markdown",
   "id": "6729e5e9",
   "metadata": {},
   "source": [
    "## DecisionTreeClassifier"
   ]
  },
  {
   "cell_type": "code",
   "execution_count": null,
   "id": "878f769e",
   "metadata": {},
   "outputs": [],
   "source": [
    "clf = DecisionTreeClassifier(max_depth=None, min_samples_leaf=250, random_state=None, splitter='best', min_samples_split=50)\n",
    "clf.fit(X,y)\n",
    "pred = clf.predict(X_test)\n"
   ]
  },
  {
   "cell_type": "code",
   "execution_count": null,
   "id": "8a721234",
   "metadata": {},
   "outputs": [],
   "source": [
    "score = classification_report(y_test, pred)\n",
    "print('Classification Report:',)\n",
    "print (score)"
   ]
  },
  {
   "cell_type": "code",
   "execution_count": null,
   "id": "71aa4f98",
   "metadata": {},
   "outputs": [],
   "source": [
    "cross_val_score(clf, X_train, y_train, scoring = 'accuracy', cv=5)"
   ]
  },
  {
   "cell_type": "code",
   "execution_count": null,
   "id": "fa9a4bf5",
   "metadata": {},
   "outputs": [],
   "source": [
    "print(score.std())\n",
    "score.mean()"
   ]
  },
  {
   "cell_type": "code",
   "execution_count": null,
   "id": "d7ddbf81",
   "metadata": {},
   "outputs": [],
   "source": [
    "print(clf.predict_proba(X))\n"
   ]
  },
  {
   "cell_type": "code",
   "execution_count": null,
   "id": "89952506",
   "metadata": {},
   "outputs": [],
   "source": [
    "clf.get_depth()"
   ]
  },
  {
   "cell_type": "code",
   "execution_count": null,
   "id": "6c3aa856",
   "metadata": {},
   "outputs": [],
   "source": [
    "clf.get_n_leaves()"
   ]
  },
  {
   "cell_type": "code",
   "execution_count": null,
   "id": "4d2f9989",
   "metadata": {},
   "outputs": [],
   "source": [
    "#tree.get_params(deep=True)"
   ]
  },
  {
   "cell_type": "code",
   "execution_count": null,
   "id": "325ed091",
   "metadata": {},
   "outputs": [],
   "source": [
    "clf.predict(X, check_input=True)"
   ]
  },
  {
   "cell_type": "code",
   "execution_count": null,
   "id": "b7ee758f",
   "metadata": {
    "scrolled": true
   },
   "outputs": [],
   "source": [
    "clf.predict_proba(X, check_input=True)"
   ]
  },
  {
   "cell_type": "code",
   "execution_count": null,
   "id": "f0f8e317",
   "metadata": {},
   "outputs": [],
   "source": [
    "pivfl = data.pivot_table(index='Month', \n",
    "                        columns='DayOfWeek', \n",
    "                        values='Cancelled', aggfunc=np.median)"
   ]
  },
  {
   "cell_type": "code",
   "execution_count": null,
   "id": "0f020c45",
   "metadata": {},
   "outputs": [],
   "source": [
    "from sklearn.tree import convert_to_graphviz\n",
    "import graphviz\n",
    "\n",
    "graphviz.Source(export_graphviz(tree))"
   ]
  },
  {
   "cell_type": "code",
   "execution_count": null,
   "id": "2fcb7190",
   "metadata": {
    "scrolled": true
   },
   "outputs": [],
   "source": [
    "!pip install graphviz"
   ]
  },
  {
   "cell_type": "code",
   "execution_count": null,
   "id": "d526be3b",
   "metadata": {},
   "outputs": [],
   "source": []
  }
 ],
 "metadata": {
  "kernelspec": {
   "display_name": "Python 3 (ipykernel)",
   "language": "python",
   "name": "python3"
  },
  "language_info": {
   "codemirror_mode": {
    "name": "ipython",
    "version": 3
   },
   "file_extension": ".py",
   "mimetype": "text/x-python",
   "name": "python",
   "nbconvert_exporter": "python",
   "pygments_lexer": "ipython3",
   "version": "3.8.12"
  },
  "toc": {
   "base_numbering": 1,
   "nav_menu": {},
   "number_sections": true,
   "sideBar": true,
   "skip_h1_title": false,
   "title_cell": "Table of Contents",
   "title_sidebar": "Contents",
   "toc_cell": false,
   "toc_position": {},
   "toc_section_display": true,
   "toc_window_display": false
  },
  "vscode": {
   "interpreter": {
    "hash": "3060aaa7e85a7b9f93a7d471b35a73f17a94bf58075b7a0a7ed3c7b7895f5329"
   }
  }
 },
 "nbformat": 4,
 "nbformat_minor": 5
}
