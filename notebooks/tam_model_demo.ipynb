{
 "cells": [
  {
   "cell_type": "code",
   "execution_count": 263,
   "id": "c778b60a",
   "metadata": {},
   "outputs": [],
   "source": [
    "import pandas as pd\n",
    "import numpy as np\n",
    "from delai.data.local_disk import get_pandas_chunk\n",
    "from delai.ml_logic.preprocessing import preprocess_X, preprocess_y\n",
    "from sklearn.tree import DecisionTreeClassifier\n",
    "from sklearn.model_selection import cross_validate\n",
    "from sklearn.model_selection import cross_val_score\n",
    "from matplotlib import pyplot as plt\n",
    "from sklearn import datasets\n",
    "from sklearn import tree"
   ]
  },
  {
   "cell_type": "code",
   "execution_count": 118,
   "id": "a56dd18d",
   "metadata": {},
   "outputs": [],
   "source": [
    "df_X = pd.read_csv('../raw_data/initial_X_train.csv')\n",
    "df_y = pd.read_csv('../raw_data/initial_y_train.csv')"
   ]
  },
  {
   "cell_type": "code",
   "execution_count": 119,
   "id": "4f97ef9f",
   "metadata": {},
   "outputs": [
    {
     "data": {
      "text/html": [
       "<div>\n",
       "<style scoped>\n",
       "    .dataframe tbody tr th:only-of-type {\n",
       "        vertical-align: middle;\n",
       "    }\n",
       "\n",
       "    .dataframe tbody tr th {\n",
       "        vertical-align: top;\n",
       "    }\n",
       "\n",
       "    .dataframe thead th {\n",
       "        text-align: right;\n",
       "    }\n",
       "</style>\n",
       "<table border=\"1\" class=\"dataframe\">\n",
       "  <thead>\n",
       "    <tr style=\"text-align: right;\">\n",
       "      <th></th>\n",
       "      <th>Unnamed: 0</th>\n",
       "      <th>FlightDate</th>\n",
       "      <th>Year</th>\n",
       "      <th>Quarter</th>\n",
       "      <th>Month</th>\n",
       "      <th>DayofMonth</th>\n",
       "      <th>DayOfWeek</th>\n",
       "      <th>Airline</th>\n",
       "      <th>Operating_Airline</th>\n",
       "      <th>Marketing_Airline_Network</th>\n",
       "      <th>...</th>\n",
       "      <th>Dest</th>\n",
       "      <th>CRSDepTime</th>\n",
       "      <th>OriginAirportID</th>\n",
       "      <th>OriginCityName</th>\n",
       "      <th>OriginStateName</th>\n",
       "      <th>DestAirportID</th>\n",
       "      <th>DestCityName</th>\n",
       "      <th>DestStateName</th>\n",
       "      <th>CRSArrTime</th>\n",
       "      <th>Distance</th>\n",
       "    </tr>\n",
       "  </thead>\n",
       "  <tbody>\n",
       "    <tr>\n",
       "      <th>0</th>\n",
       "      <td>4324343</td>\n",
       "      <td>2018-07-20</td>\n",
       "      <td>2018</td>\n",
       "      <td>3</td>\n",
       "      <td>7</td>\n",
       "      <td>20</td>\n",
       "      <td>5</td>\n",
       "      <td>Southwest Airlines Co.</td>\n",
       "      <td>WN</td>\n",
       "      <td>WN</td>\n",
       "      <td>...</td>\n",
       "      <td>DAL</td>\n",
       "      <td>1200</td>\n",
       "      <td>12889</td>\n",
       "      <td>Las Vegas, NV</td>\n",
       "      <td>Nevada</td>\n",
       "      <td>11259</td>\n",
       "      <td>Dallas, TX</td>\n",
       "      <td>Texas</td>\n",
       "      <td>1640</td>\n",
       "      <td>1067.0</td>\n",
       "    </tr>\n",
       "    <tr>\n",
       "      <th>1</th>\n",
       "      <td>28169346</td>\n",
       "      <td>2022-01-02</td>\n",
       "      <td>2022</td>\n",
       "      <td>1</td>\n",
       "      <td>1</td>\n",
       "      <td>2</td>\n",
       "      <td>7</td>\n",
       "      <td>Spirit Air Lines</td>\n",
       "      <td>NK</td>\n",
       "      <td>NK</td>\n",
       "      <td>...</td>\n",
       "      <td>MSY</td>\n",
       "      <td>2110</td>\n",
       "      <td>15304</td>\n",
       "      <td>Tampa, FL</td>\n",
       "      <td>Florida</td>\n",
       "      <td>13495</td>\n",
       "      <td>New Orleans, LA</td>\n",
       "      <td>Louisiana</td>\n",
       "      <td>2148</td>\n",
       "      <td>488.0</td>\n",
       "    </tr>\n",
       "    <tr>\n",
       "      <th>2</th>\n",
       "      <td>18078508</td>\n",
       "      <td>2020-02-11</td>\n",
       "      <td>2020</td>\n",
       "      <td>1</td>\n",
       "      <td>2</td>\n",
       "      <td>11</td>\n",
       "      <td>2</td>\n",
       "      <td>Air Wisconsin Airlines Corp</td>\n",
       "      <td>ZW</td>\n",
       "      <td>UA</td>\n",
       "      <td>...</td>\n",
       "      <td>ORF</td>\n",
       "      <td>930</td>\n",
       "      <td>13930</td>\n",
       "      <td>Chicago, IL</td>\n",
       "      <td>Illinois</td>\n",
       "      <td>13931</td>\n",
       "      <td>Norfolk, VA</td>\n",
       "      <td>Virginia</td>\n",
       "      <td>1245</td>\n",
       "      <td>717.0</td>\n",
       "    </tr>\n",
       "    <tr>\n",
       "      <th>3</th>\n",
       "      <td>23669089</td>\n",
       "      <td>2021-02-10</td>\n",
       "      <td>2021</td>\n",
       "      <td>1</td>\n",
       "      <td>2</td>\n",
       "      <td>10</td>\n",
       "      <td>3</td>\n",
       "      <td>United Air Lines Inc.</td>\n",
       "      <td>UA</td>\n",
       "      <td>UA</td>\n",
       "      <td>...</td>\n",
       "      <td>IAH</td>\n",
       "      <td>700</td>\n",
       "      <td>15304</td>\n",
       "      <td>Tampa, FL</td>\n",
       "      <td>Florida</td>\n",
       "      <td>12266</td>\n",
       "      <td>Houston, TX</td>\n",
       "      <td>Texas</td>\n",
       "      <td>828</td>\n",
       "      <td>787.0</td>\n",
       "    </tr>\n",
       "    <tr>\n",
       "      <th>4</th>\n",
       "      <td>14530840</td>\n",
       "      <td>2020-03-12</td>\n",
       "      <td>2020</td>\n",
       "      <td>1</td>\n",
       "      <td>3</td>\n",
       "      <td>12</td>\n",
       "      <td>4</td>\n",
       "      <td>JetBlue Airways</td>\n",
       "      <td>B6</td>\n",
       "      <td>B6</td>\n",
       "      <td>...</td>\n",
       "      <td>BOS</td>\n",
       "      <td>1324</td>\n",
       "      <td>11278</td>\n",
       "      <td>Washington, DC</td>\n",
       "      <td>Virginia</td>\n",
       "      <td>10721</td>\n",
       "      <td>Boston, MA</td>\n",
       "      <td>Massachusetts</td>\n",
       "      <td>1455</td>\n",
       "      <td>399.0</td>\n",
       "    </tr>\n",
       "  </tbody>\n",
       "</table>\n",
       "<p>5 rows × 22 columns</p>\n",
       "</div>"
      ],
      "text/plain": [
       "   Unnamed: 0  FlightDate  Year  Quarter  Month  DayofMonth  DayOfWeek  \\\n",
       "0     4324343  2018-07-20  2018        3      7          20          5   \n",
       "1    28169346  2022-01-02  2022        1      1           2          7   \n",
       "2    18078508  2020-02-11  2020        1      2          11          2   \n",
       "3    23669089  2021-02-10  2021        1      2          10          3   \n",
       "4    14530840  2020-03-12  2020        1      3          12          4   \n",
       "\n",
       "                       Airline Operating_Airline Marketing_Airline_Network  \\\n",
       "0       Southwest Airlines Co.                WN                        WN   \n",
       "1             Spirit Air Lines                NK                        NK   \n",
       "2  Air Wisconsin Airlines Corp                ZW                        UA   \n",
       "3        United Air Lines Inc.                UA                        UA   \n",
       "4              JetBlue Airways                B6                        B6   \n",
       "\n",
       "   ...  Dest CRSDepTime OriginAirportID  OriginCityName  OriginStateName  \\\n",
       "0  ...   DAL       1200           12889   Las Vegas, NV           Nevada   \n",
       "1  ...   MSY       2110           15304       Tampa, FL          Florida   \n",
       "2  ...   ORF        930           13930     Chicago, IL         Illinois   \n",
       "3  ...   IAH        700           15304       Tampa, FL          Florida   \n",
       "4  ...   BOS       1324           11278  Washington, DC         Virginia   \n",
       "\n",
       "  DestAirportID     DestCityName  DestStateName CRSArrTime Distance  \n",
       "0         11259       Dallas, TX          Texas       1640   1067.0  \n",
       "1         13495  New Orleans, LA      Louisiana       2148    488.0  \n",
       "2         13931      Norfolk, VA       Virginia       1245    717.0  \n",
       "3         12266      Houston, TX          Texas        828    787.0  \n",
       "4         10721       Boston, MA  Massachusetts       1455    399.0  \n",
       "\n",
       "[5 rows x 22 columns]"
      ]
     },
     "execution_count": 119,
     "metadata": {},
     "output_type": "execute_result"
    }
   ],
   "source": [
    "df_X.head()\n"
   ]
  },
  {
   "cell_type": "code",
   "execution_count": 120,
   "id": "e7f5d935",
   "metadata": {},
   "outputs": [
    {
     "name": "stdout",
     "output_type": "stream",
     "text": [
      "✅ preprocess_X() done\n"
     ]
    }
   ],
   "source": [
    "X = preprocess_X(df_X)"
   ]
  },
  {
   "cell_type": "code",
   "execution_count": 121,
   "id": "21a24bbc",
   "metadata": {},
   "outputs": [
    {
     "name": "stdout",
     "output_type": "stream",
     "text": [
      "✅ preprocess_y() done\n"
     ]
    }
   ],
   "source": [
    "y = preprocess_y(df_y)"
   ]
  },
  {
   "cell_type": "code",
   "execution_count": 122,
   "id": "2fe301bd",
   "metadata": {},
   "outputs": [],
   "source": [
    "X = X.drop(columns=[680], axis =1)\n",
    "X = X.dropna()"
   ]
  },
  {
   "cell_type": "code",
   "execution_count": 123,
   "id": "4045ba17",
   "metadata": {},
   "outputs": [
    {
     "data": {
      "text/plain": [
       "(10000, 699)"
      ]
     },
     "execution_count": 123,
     "metadata": {},
     "output_type": "execute_result"
    }
   ],
   "source": [
    "X.shape"
   ]
  },
  {
   "cell_type": "code",
   "execution_count": 124,
   "id": "b22c709e",
   "metadata": {},
   "outputs": [
    {
     "data": {
      "text/plain": [
       "(10000,)"
      ]
     },
     "execution_count": 124,
     "metadata": {},
     "output_type": "execute_result"
    }
   ],
   "source": [
    "y.shape"
   ]
  },
  {
   "cell_type": "code",
   "execution_count": 283,
   "id": "878f769e",
   "metadata": {},
   "outputs": [],
   "source": [
    "clf = DecisionTreeClassifier(max_depth=None, min_samples_leaf=250, random_state=None, splitter='best', min_samples_split=50)\n",
    "clf.fit(X,y)\n",
    "score = cross_val_score(clf, X, y, scoring = 'accuracy', cv=5)\n"
   ]
  },
  {
   "cell_type": "code",
   "execution_count": 271,
   "id": "fa9a4bf5",
   "metadata": {},
   "outputs": [
    {
     "name": "stdout",
     "output_type": "stream",
     "text": [
      "0.0002000000000000224\n"
     ]
    },
    {
     "data": {
      "text/plain": [
       "0.6529"
      ]
     },
     "execution_count": 271,
     "metadata": {},
     "output_type": "execute_result"
    }
   ],
   "source": [
    "print(score.std())\n",
    "score.mean()"
   ]
  },
  {
   "cell_type": "code",
   "execution_count": 272,
   "id": "d7ddbf81",
   "metadata": {},
   "outputs": [
    {
     "name": "stdout",
     "output_type": "stream",
     "text": [
      "[[0.08016878 0.02109705 0.55274262 0.34599156]\n",
      " [0.11888112 0.06293706 0.61538462 0.2027972 ]\n",
      " [0.06217617 0.0984456  0.67098446 0.16839378]\n",
      " ...\n",
      " [0.23703704 0.01111111 0.46666667 0.28518519]\n",
      " [0.10431655 0.08992806 0.65827338 0.14748201]\n",
      " [0.06217617 0.0984456  0.67098446 0.16839378]]\n"
     ]
    }
   ],
   "source": [
    "print(clf.predict_proba(X))\n"
   ]
  },
  {
   "cell_type": "code",
   "execution_count": 273,
   "id": "89952506",
   "metadata": {},
   "outputs": [
    {
     "data": {
      "text/plain": [
       "9"
      ]
     },
     "execution_count": 273,
     "metadata": {},
     "output_type": "execute_result"
    }
   ],
   "source": [
    "clf.get_depth()"
   ]
  },
  {
   "cell_type": "code",
   "execution_count": 274,
   "id": "6c3aa856",
   "metadata": {},
   "outputs": [
    {
     "data": {
      "text/plain": [
       "31"
      ]
     },
     "execution_count": 274,
     "metadata": {},
     "output_type": "execute_result"
    }
   ],
   "source": [
    "clf.get_n_leaves()"
   ]
  },
  {
   "cell_type": "code",
   "execution_count": 275,
   "id": "4d2f9989",
   "metadata": {},
   "outputs": [],
   "source": [
    "#tree.get_params(deep=True)"
   ]
  },
  {
   "cell_type": "code",
   "execution_count": 276,
   "id": "325ed091",
   "metadata": {},
   "outputs": [
    {
     "data": {
      "text/plain": [
       "array([2, 2, 2, ..., 2, 2, 2])"
      ]
     },
     "execution_count": 276,
     "metadata": {},
     "output_type": "execute_result"
    }
   ],
   "source": [
    "clf.predict(X, check_input=True)"
   ]
  },
  {
   "cell_type": "code",
   "execution_count": 277,
   "id": "b7ee758f",
   "metadata": {
    "scrolled": true
   },
   "outputs": [
    {
     "data": {
      "text/plain": [
       "array([[0.08016878, 0.02109705, 0.55274262, 0.34599156],\n",
       "       [0.11888112, 0.06293706, 0.61538462, 0.2027972 ],\n",
       "       [0.06217617, 0.0984456 , 0.67098446, 0.16839378],\n",
       "       ...,\n",
       "       [0.23703704, 0.01111111, 0.46666667, 0.28518519],\n",
       "       [0.10431655, 0.08992806, 0.65827338, 0.14748201],\n",
       "       [0.06217617, 0.0984456 , 0.67098446, 0.16839378]])"
      ]
     },
     "execution_count": 277,
     "metadata": {},
     "output_type": "execute_result"
    }
   ],
   "source": [
    "clf.predict_proba(X, check_input=True)"
   ]
  },
  {
   "cell_type": "code",
   "execution_count": 288,
   "id": "0f020c45",
   "metadata": {
    "collapsed": true
   },
   "outputs": [
    {
     "ename": "ImportError",
     "evalue": "cannot import name 'convert_to_graphviz' from 'sklearn.tree' (/home/tamara/.pyenv/versions/3.8.12/envs/delai/lib/python3.8/site-packages/sklearn/tree/__init__.py)",
     "output_type": "error",
     "traceback": [
      "\u001b[0;31m---------------------------------------------------------------------------\u001b[0m",
      "\u001b[0;31mImportError\u001b[0m                               Traceback (most recent call last)",
      "Cell \u001b[0;32mIn [288], line 1\u001b[0m\n\u001b[0;32m----> 1\u001b[0m \u001b[38;5;28;01mfrom\u001b[39;00m \u001b[38;5;21;01msklearn\u001b[39;00m\u001b[38;5;21;01m.\u001b[39;00m\u001b[38;5;21;01mtree\u001b[39;00m \u001b[38;5;28;01mimport\u001b[39;00m convert_to_graphviz\n\u001b[1;32m      2\u001b[0m \u001b[38;5;28;01mimport\u001b[39;00m \u001b[38;5;21;01mgraphviz\u001b[39;00m\n\u001b[1;32m      4\u001b[0m graphviz\u001b[38;5;241m.\u001b[39mSource(export_graphviz(tree))\n",
      "\u001b[0;31mImportError\u001b[0m: cannot import name 'convert_to_graphviz' from 'sklearn.tree' (/home/tamara/.pyenv/versions/3.8.12/envs/delai/lib/python3.8/site-packages/sklearn/tree/__init__.py)"
     ]
    }
   ],
   "source": [
    "from sklearn.tree import convert_to_graphviz\n",
    "import graphviz\n",
    "\n",
    "graphviz.Source(export_graphviz(tree))"
   ]
  },
  {
   "cell_type": "code",
   "execution_count": 279,
   "id": "2fcb7190",
   "metadata": {
    "scrolled": true
   },
   "outputs": [
    {
     "name": "stdout",
     "output_type": "stream",
     "text": [
      "Collecting graphviz\n",
      "  Downloading graphviz-0.20.1-py3-none-any.whl (47 kB)\n",
      "\u001b[2K     \u001b[90m━━━━━━━━━━━━━━━━━━━━━━━━━━━━━━━━━━━━━━━━\u001b[0m \u001b[32m47.0/47.0 kB\u001b[0m \u001b[31m3.1 MB/s\u001b[0m eta \u001b[36m0:00:00\u001b[0m\n",
      "\u001b[?25hInstalling collected packages: graphviz\n",
      "Successfully installed graphviz-0.20.1\n"
     ]
    }
   ],
   "source": [
    "!pip install graphviz"
   ]
  },
  {
   "cell_type": "code",
   "execution_count": null,
   "id": "d526be3b",
   "metadata": {},
   "outputs": [],
   "source": []
  }
 ],
 "metadata": {
  "kernelspec": {
   "display_name": "Python 3 (ipykernel)",
   "language": "python",
   "name": "python3"
  },
  "language_info": {
   "codemirror_mode": {
    "name": "ipython",
    "version": 3
   },
   "file_extension": ".py",
   "mimetype": "text/x-python",
   "name": "python",
   "nbconvert_exporter": "python",
   "pygments_lexer": "ipython3",
   "version": "3.8.12"
  },
  "toc": {
   "base_numbering": 1,
   "nav_menu": {},
   "number_sections": true,
   "sideBar": true,
   "skip_h1_title": false,
   "title_cell": "Table of Contents",
   "title_sidebar": "Contents",
   "toc_cell": false,
   "toc_position": {},
   "toc_section_display": true,
   "toc_window_display": false
  },
  "vscode": {
   "interpreter": {
    "hash": "3060aaa7e85a7b9f93a7d471b35a73f17a94bf58075b7a0a7ed3c7b7895f5329"
   }
  }
 },
 "nbformat": 4,
 "nbformat_minor": 5
}
